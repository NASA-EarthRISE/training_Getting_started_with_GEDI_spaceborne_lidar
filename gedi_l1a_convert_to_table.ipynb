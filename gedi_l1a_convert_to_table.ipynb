{
  "nbformat": 4,
  "nbformat_minor": 0,
  "metadata": {
    "colab": {
      "provenance": [],
      "authorship_tag": "ABX9TyO8iErmQ/iHiF6W0FZVi9F8",
      "include_colab_link": true
    },
    "kernelspec": {
      "name": "python3",
      "display_name": "Python 3"
    },
    "language_info": {
      "name": "python"
    }
  },
  "cells": [
    {
      "cell_type": "markdown",
      "metadata": {
        "id": "view-in-github",
        "colab_type": "text"
      },
      "source": [
        "<a href=\"https://colab.research.google.com/github/SERVIR/GEDI_Earthhub_ARSET_Training/blob/main/gedi_l1a_convert_to_table.ipynb\" target=\"_parent\"><img src=\"https://colab.research.google.com/assets/colab-badge.svg\" alt=\"Open In Colab\"/></a>"
      ]
    },
    {
      "cell_type": "code",
      "execution_count": null,
      "metadata": {
        "colab": {
          "base_uri": "https://localhost:8080/"
        },
        "id": "wjLV67A7S7S-",
        "outputId": "ad67cffa-0c46-4753-c7c0-2b5a3bbdc813"
      },
      "outputs": [
        {
          "output_type": "stream",
          "name": "stdout",
          "text": [
            "Requirement already satisfied: h5py in /usr/local/lib/python3.11/dist-packages (3.13.0)\n",
            "Requirement already satisfied: pandas in /usr/local/lib/python3.11/dist-packages (2.2.2)\n",
            "Requirement already satisfied: numpy>=1.19.3 in /usr/local/lib/python3.11/dist-packages (from h5py) (2.0.2)\n",
            "Requirement already satisfied: python-dateutil>=2.8.2 in /usr/local/lib/python3.11/dist-packages (from pandas) (2.8.2)\n",
            "Requirement already satisfied: pytz>=2020.1 in /usr/local/lib/python3.11/dist-packages (from pandas) (2025.2)\n",
            "Requirement already satisfied: tzdata>=2022.7 in /usr/local/lib/python3.11/dist-packages (from pandas) (2025.2)\n",
            "Requirement already satisfied: six>=1.5 in /usr/local/lib/python3.11/dist-packages (from python-dateutil>=2.8.2->pandas) (1.17.0)\n"
          ]
        }
      ],
      "source": [
        "!pip install h5py pandas\n"
      ]
    },
    {
      "cell_type": "code",
      "source": [
        "from google.colab import drive\n",
        "drive.mount('/content/drive/')"
      ],
      "metadata": {
        "colab": {
          "base_uri": "https://localhost:8080/"
        },
        "id": "fOOH205dS_JJ",
        "outputId": "2351dfb7-3d60-4d1b-fafb-4070d70e2a57"
      },
      "execution_count": null,
      "outputs": [
        {
          "output_type": "stream",
          "name": "stdout",
          "text": [
            "Mounted at /content/drive/\n"
          ]
        }
      ]
    },
    {
      "cell_type": "code",
      "source": [
        "%cd /content/drive/MyDrive/PhD_Main_Folder/Geo_Data/GEDI_DEV_GUAN"
      ],
      "metadata": {
        "colab": {
          "base_uri": "https://localhost:8080/"
        },
        "id": "3-pWwNhCTDOs",
        "outputId": "4b4004be-d7e7-44ad-9280-7fc52439bd28"
      },
      "execution_count": null,
      "outputs": [
        {
          "output_type": "stream",
          "name": "stdout",
          "text": [
            "/content/drive/MyDrive/PhD_Main_Folder/Geo_Data/GEDI_DEV_GUAN\n"
          ]
        }
      ]
    },
    {
      "cell_type": "code",
      "source": [
        "import h5py\n",
        "import pandas as pd\n",
        "\n",
        "file_path = 'GEDI02_A_2021270173239_O15817_02_T03105_02_003_02_V002.h5'\n",
        "\n",
        "with h5py.File(file_path, 'r') as f:\n",
        "    beam_names = [key for key in f.keys() if key.startswith('BEAM')]\n",
        "    data_frames = []\n",
        "\n",
        "    for beam in beam_names:\n",
        "        try:\n",
        "            # Required datasets\n",
        "            lat = f[f'{beam}/lat_lowestmode'][:]\n",
        "            lon = f[f'{beam}/lon_lowestmode'][:]\n",
        "            shot_num = f[f'{beam}/shot_number'][:]\n",
        "            rh_all = f[f'{beam}/rh'][:]  # shape: (N, 101)\n",
        "\n",
        "            # Pull RH98 (the 99th element since Python is 0-indexed)\n",
        "            rh98 = rh_all[:, 98]\n",
        "\n",
        "            # Create DataFrame\n",
        "            df = pd.DataFrame({\n",
        "                'beam': beam,\n",
        "                'shot_number': shot_num,\n",
        "                'latitude': lat,\n",
        "                'longitude': lon,\n",
        "                'rh98': rh98\n",
        "            })\n",
        "\n",
        "            # Optionally include all RH metrics (uncomment if needed)\n",
        "            # for i in range(rh_all.shape[1]):\n",
        "            #     df[f'rh{i}'] = rh_all[:, i]\n",
        "\n",
        "            data_frames.append(df)\n",
        "\n",
        "        except Exception as e:\n",
        "            print(f\"Skipping {beam} due to error: {e}\")\n",
        "            continue\n",
        "\n",
        "# Combine and save\n",
        "combined_df = pd.concat(data_frames, ignore_index=True)\n",
        "combined_df.to_csv('GEDI_L2A_spatial_rh98_data.csv', index=False)\n",
        "\n",
        "print(\"Saved GEDI spatial and rh98 data to CSV.\")\n"
      ],
      "metadata": {
        "colab": {
          "base_uri": "https://localhost:8080/"
        },
        "id": "F4VvPFWLWymZ",
        "outputId": "46b7a4c2-f2c2-49c5-8a39-95d622d72a61"
      },
      "execution_count": null,
      "outputs": [
        {
          "output_type": "stream",
          "name": "stdout",
          "text": [
            "Saved GEDI spatial and rh98 data to CSV.\n"
          ]
        }
      ]
    }
  ]
}