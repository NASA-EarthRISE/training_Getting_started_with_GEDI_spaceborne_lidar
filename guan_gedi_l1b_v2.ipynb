{
  "cells": [
    {
      "cell_type": "markdown",
      "metadata": {
        "id": "view-in-github",
        "colab_type": "text"
      },
      "source": [
        "<a href=\"https://colab.research.google.com/github/SERVIR/GEDI_Earthhub_ARSET_Training/blob/main/guan_gedi_l1b_v2.ipynb\" target=\"_parent\"><img src=\"https://colab.research.google.com/assets/colab-badge.svg\" alt=\"Open In Colab\"/></a>"
      ]
    },
    {
      "cell_type": "markdown",
      "metadata": {
        "id": "5MLSoADGsi7d"
      },
      "source": [
        "# Getting Started with GEDI L2A Version 2 Data in Python\n",
        "### This tutorial demonstrates how to work with the Elevation and Height Metrics ([GEDI02_A.002](https://doi.org/10.5067/GEDI/GEDI02_A.002)) data product.\n",
        "The Global Ecosystem Dynamics Investigation ([GEDI](https://lpdaac.usgs.gov/data/get-started-data/collection-overview/missions/gedi-overview/)) mission aims to characterize ecosystem structure and dynamics to enable radically improved quantification and understanding of the Earth's carbon cycle and biodiversity. The GEDI instrument produces high resolution laser ranging observations of the 3-dimensional structure of the Earth. GEDI is attached to the International Space Station and collects data globally between 51.6 N and 51.6 S latitudes at the highest resolution and densest sampling of any light detection and ranging (lidar) instrument in orbit to date. The Land Processes Distributed Active Archive Center (LP DAAC) distributes the GEDI Level 1 and Level 2 Version 1 and Version 2 products. The L1B and L2 GEDI products are archived and distributed in the HDF-EOS5 file format.\n",
        "\n",
        "---\n",
        "## Use Case Example:  \n",
        "This tutorial was developed using an example use case for a project being completed by the National Park Service. **The goal of the project is to use GEDI L2A Version 2 data to observe tree canopy height and profile over Redwood National Park in northern California.**\n",
        "\n",
        "This tutorial will show how to use Python to open GEDI L2A Version 2 files, visualize the sub-orbit of GEDI points (shots), subset to a region of interest, visualize GEDI canopy height, and export subsets of GEDI science dataset (SDS) layers as GeoJSON files that can be loaded into GIS and/or Remote Sensing software programs.  \n",
        "\n",
        "- [Redwood National Park GeoJSON](https://github.com/nasa/GEDI-Data-Resources/Additional_files/RedwoodNP.geojson)  \n",
        "    - Contains the administrative boundary for Redwood National Park, available from: [Administrative Boundaries of National Park System Units 12/31/2017 - National Geospatial Data Asset (NGDA) NPS National Parks Dataset](https://irma.nps.gov/DataStore/DownloadFile/594958)\n",
        "- [waveform.csv](https://github.com/nasa/GEDI-Data-Resources/Additional_files/waveform.csv)  \n",
        "  \n",
        "***    \n",
        "### Data Used in the Example:    \n",
        "- **GEDI L2A Elevation and Height Metrics Data Global Footprint Level - [GEDI02_A.002](https://doi.org/10.5067/GEDI/GEDI02_A.002)**\n",
        "     - _The purpose of the L2A dataset is to provide waveform interpretation and extracted products from each GEDI waveform. This includes ground elevation, canopy top height, relative return energy metrics (describing canopy vertical structure, for example), and many other interpreted products from the return waveforms._\n",
        "     - **Science Dataset (SDS) layers:**\n",
        "        - /rh  \n",
        "        - /elev_lowestmode  \n",
        "        - /elev_highestreturn   \n",
        "        - /lat_lowestmode  \n",
        "        - /lon_lowestmode  \n",
        "        - /shot_number  \n",
        "        - /quality_flag   \n",
        "        - /digital_elevation_model  \n",
        "        - /degrade_flag  \n",
        "        - /sensitivity  \n",
        "        - /selected_algorithm\n",
        "***  \n",
        "# Topics Covered:\n",
        "1. [**Get Started**](#getstarted)  \n",
        "    1.1 Import Packages    \n",
        "    1.2 Set Up the Working Environment and Retrieve Files      \n",
        "2. [**Import and Interpret Data**](#importinterpret)      \n",
        "    2.1 Open a GEDI HDF5 File and Read File Metadata     \n",
        "    2.2 Read SDS Metadata and Subset by Beam   \n",
        "3. [**Visualize a GEDI Sub-Orbit**](#visualizeorbit)      \n",
        "    3.1 Subset by Layer and Create a Geodataframe   \n",
        "    3.2 Visualize a Geodataframe\n",
        "4. [**Work with GEDI L2A Data**](#L2A)   \n",
        "    4.1 Import and Extract Specific Shots  \n",
        "    4.2 Plot Relative Height Metrics  \n",
        "    4.3 Combine RH Metrics and Waveforms  \n",
        "    4.4 Select Data from non-Default Algorithm    \n",
        "5. [**Plot Transects**](#plottransects)      \n",
        "    5.1 Quality Filtering    \n",
        "    5.2 Plot Beam Transects\n",
        "    5.3 Subset Beam Transects  \n",
        "    5.4 Plot RH Metrics Transects    \n",
        "6. [**Spatial Visualization**](#spatialvisualization)      \n",
        "    6.1 Import, Subset, and Quality Filter all Beams  \n",
        "    6.2 Spatial Subsetting  \n",
        "    6.3 Visualize All Beams: Canopy Height and Elevation  \n",
        "7. [**Export Subsets as GeoJSON Files**](#exportgeojson)               \n",
        "***\n",
        "# Before Starting this Tutorial:\n",
        "\n",
        "This tutorial requires a compatible Python Environment and GEDI L2A Version 2 granule from June 19, 2019 (orbit 02932, sub-orbit `02`) to download. To setup the Python environment and download the file, follow the steps in sections 1 and 2 of the [set-up instruction](https://github.com/nasa/GEDI-Data-Resources/Setup/setup_instructions.md).  \n",
        "\n",
        "## Source Code used to Generate this Tutorial:\n",
        "The repository containing all of the required files is located at: https://github.com/nasa/GEDI-Data-Resources      \n",
        "\n",
        "<div class=\"alert alert-block alert-warning\" >\n",
        "<b>NOTE:</b> This tutorial was developed for GEDI L2A Version 2 files and should only be used for those products. </div>   "
      ]
    },
    {
      "cell_type": "markdown",
      "metadata": {
        "id": "F7axY3xlsi7i"
      },
      "source": [
        "\n",
        "# 1. Get Started <a id=\"getstarted\"></a>"
      ]
    },
    {
      "cell_type": "markdown",
      "metadata": {
        "id": "NFc7tC2vsi7i"
      },
      "source": [
        "## 1.1 Import Packages <a id=\"1.1\"></a>\n",
        "#### Import the required packages and set the input/working directory to run this Jupyter Notebook locally."
      ]
    },
    {
      "cell_type": "code",
      "source": [
        "!pip install earthaccess"
      ],
      "metadata": {
        "colab": {
          "base_uri": "https://localhost:8080/"
        },
        "id": "c5HmcZXrt1Rs",
        "outputId": "bc6da948-2d18-404d-96cb-775d7412d57a"
      },
      "execution_count": null,
      "outputs": [
        {
          "output_type": "stream",
          "name": "stdout",
          "text": [
            "Collecting earthaccess\n",
            "  Downloading earthaccess-0.14.0-py3-none-any.whl.metadata (8.2 kB)\n",
            "Requirement already satisfied: fsspec>=2022.11 in /usr/local/lib/python3.11/dist-packages (from earthaccess) (2025.3.2)\n",
            "Requirement already satisfied: importlib-resources>=6.3.2 in /usr/local/lib/python3.11/dist-packages (from earthaccess) (6.5.2)\n",
            "Collecting multimethod>=1.8 (from earthaccess)\n",
            "  Downloading multimethod-2.0-py3-none-any.whl.metadata (9.2 kB)\n",
            "Collecting pqdm>=0.1 (from earthaccess)\n",
            "  Downloading pqdm-0.2.0-py2.py3-none-any.whl.metadata (3.2 kB)\n",
            "Collecting python-cmr>=0.10.0 (from earthaccess)\n",
            "  Downloading python_cmr-0.13.0-py3-none-any.whl.metadata (10 kB)\n",
            "Requirement already satisfied: requests>=2.26 in /usr/local/lib/python3.11/dist-packages (from earthaccess) (2.32.3)\n",
            "Collecting s3fs>=2022.11 (from earthaccess)\n",
            "  Downloading s3fs-2025.3.2-py3-none-any.whl.metadata (1.9 kB)\n",
            "Collecting tinynetrc>=1.3.1 (from earthaccess)\n",
            "  Downloading tinynetrc-1.3.1-py2.py3-none-any.whl.metadata (2.9 kB)\n",
            "Requirement already satisfied: typing-extensions>=4.10.0 in /usr/local/lib/python3.11/dist-packages (from earthaccess) (4.13.1)\n",
            "Collecting bounded-pool-executor (from pqdm>=0.1->earthaccess)\n",
            "  Downloading bounded_pool_executor-0.0.3-py3-none-any.whl.metadata (2.7 kB)\n",
            "Requirement already satisfied: tqdm in /usr/local/lib/python3.11/dist-packages (from pqdm>=0.1->earthaccess) (4.67.1)\n",
            "Requirement already satisfied: python-dateutil<3.0.0,>=2.8.2 in /usr/local/lib/python3.11/dist-packages (from python-cmr>=0.10.0->earthaccess) (2.8.2)\n",
            "Requirement already satisfied: charset-normalizer<4,>=2 in /usr/local/lib/python3.11/dist-packages (from requests>=2.26->earthaccess) (3.4.1)\n",
            "Requirement already satisfied: idna<4,>=2.5 in /usr/local/lib/python3.11/dist-packages (from requests>=2.26->earthaccess) (3.10)\n",
            "Requirement already satisfied: urllib3<3,>=1.21.1 in /usr/local/lib/python3.11/dist-packages (from requests>=2.26->earthaccess) (2.3.0)\n",
            "Requirement already satisfied: certifi>=2017.4.17 in /usr/local/lib/python3.11/dist-packages (from requests>=2.26->earthaccess) (2025.1.31)\n",
            "Collecting aiobotocore<3.0.0,>=2.5.4 (from s3fs>=2022.11->earthaccess)\n",
            "  Downloading aiobotocore-2.21.1-py3-none-any.whl.metadata (24 kB)\n",
            "Requirement already satisfied: aiohttp!=4.0.0a0,!=4.0.0a1 in /usr/local/lib/python3.11/dist-packages (from s3fs>=2022.11->earthaccess) (3.11.15)\n",
            "Collecting aioitertools<1.0.0,>=0.5.1 (from aiobotocore<3.0.0,>=2.5.4->s3fs>=2022.11->earthaccess)\n",
            "  Downloading aioitertools-0.12.0-py3-none-any.whl.metadata (3.8 kB)\n",
            "Collecting botocore<1.37.2,>=1.37.0 (from aiobotocore<3.0.0,>=2.5.4->s3fs>=2022.11->earthaccess)\n",
            "  Downloading botocore-1.37.1-py3-none-any.whl.metadata (5.7 kB)\n",
            "Collecting jmespath<2.0.0,>=0.7.1 (from aiobotocore<3.0.0,>=2.5.4->s3fs>=2022.11->earthaccess)\n",
            "  Downloading jmespath-1.0.1-py3-none-any.whl.metadata (7.6 kB)\n",
            "Requirement already satisfied: multidict<7.0.0,>=6.0.0 in /usr/local/lib/python3.11/dist-packages (from aiobotocore<3.0.0,>=2.5.4->s3fs>=2022.11->earthaccess) (6.4.2)\n",
            "Requirement already satisfied: wrapt<2.0.0,>=1.10.10 in /usr/local/lib/python3.11/dist-packages (from aiobotocore<3.0.0,>=2.5.4->s3fs>=2022.11->earthaccess) (1.17.2)\n",
            "Requirement already satisfied: aiohappyeyeballs>=2.3.0 in /usr/local/lib/python3.11/dist-packages (from aiohttp!=4.0.0a0,!=4.0.0a1->s3fs>=2022.11->earthaccess) (2.6.1)\n",
            "Requirement already satisfied: aiosignal>=1.1.2 in /usr/local/lib/python3.11/dist-packages (from aiohttp!=4.0.0a0,!=4.0.0a1->s3fs>=2022.11->earthaccess) (1.3.2)\n",
            "Requirement already satisfied: attrs>=17.3.0 in /usr/local/lib/python3.11/dist-packages (from aiohttp!=4.0.0a0,!=4.0.0a1->s3fs>=2022.11->earthaccess) (25.3.0)\n",
            "Requirement already satisfied: frozenlist>=1.1.1 in /usr/local/lib/python3.11/dist-packages (from aiohttp!=4.0.0a0,!=4.0.0a1->s3fs>=2022.11->earthaccess) (1.5.0)\n",
            "Requirement already satisfied: propcache>=0.2.0 in /usr/local/lib/python3.11/dist-packages (from aiohttp!=4.0.0a0,!=4.0.0a1->s3fs>=2022.11->earthaccess) (0.3.1)\n",
            "Requirement already satisfied: yarl<2.0,>=1.17.0 in /usr/local/lib/python3.11/dist-packages (from aiohttp!=4.0.0a0,!=4.0.0a1->s3fs>=2022.11->earthaccess) (1.19.0)\n",
            "Requirement already satisfied: six>=1.5 in /usr/local/lib/python3.11/dist-packages (from python-dateutil<3.0.0,>=2.8.2->python-cmr>=0.10.0->earthaccess) (1.17.0)\n",
            "Downloading earthaccess-0.14.0-py3-none-any.whl (64 kB)\n",
            "\u001b[2K   \u001b[90m━━━━━━━━━━━━━━━━━━━━━━━━━━━━━━━━━━━━━━━━\u001b[0m \u001b[32m64.9/64.9 kB\u001b[0m \u001b[31m3.7 MB/s\u001b[0m eta \u001b[36m0:00:00\u001b[0m\n",
            "\u001b[?25hDownloading multimethod-2.0-py3-none-any.whl (9.8 kB)\n",
            "Downloading pqdm-0.2.0-py2.py3-none-any.whl (6.8 kB)\n",
            "Downloading python_cmr-0.13.0-py3-none-any.whl (14 kB)\n",
            "Downloading s3fs-2025.3.2-py3-none-any.whl (30 kB)\n",
            "Downloading tinynetrc-1.3.1-py2.py3-none-any.whl (3.9 kB)\n",
            "Downloading aiobotocore-2.21.1-py3-none-any.whl (78 kB)\n",
            "\u001b[2K   \u001b[90m━━━━━━━━━━━━━━━━━━━━━━━━━━━━━━━━━━━━━━━━\u001b[0m \u001b[32m78.3/78.3 kB\u001b[0m \u001b[31m3.9 MB/s\u001b[0m eta \u001b[36m0:00:00\u001b[0m\n",
            "\u001b[?25hDownloading bounded_pool_executor-0.0.3-py3-none-any.whl (3.4 kB)\n",
            "Downloading aioitertools-0.12.0-py3-none-any.whl (24 kB)\n",
            "Downloading botocore-1.37.1-py3-none-any.whl (13.4 MB)\n",
            "\u001b[2K   \u001b[90m━━━━━━━━━━━━━━━━━━━━━━━━━━━━━━━━━━━━━━━━\u001b[0m \u001b[32m13.4/13.4 MB\u001b[0m \u001b[31m28.5 MB/s\u001b[0m eta \u001b[36m0:00:00\u001b[0m\n",
            "\u001b[?25hDownloading jmespath-1.0.1-py3-none-any.whl (20 kB)\n",
            "Installing collected packages: tinynetrc, bounded-pool-executor, pqdm, multimethod, jmespath, aioitertools, python-cmr, botocore, aiobotocore, s3fs, earthaccess\n",
            "Successfully installed aiobotocore-2.21.1 aioitertools-0.12.0 botocore-1.37.1 bounded-pool-executor-0.0.3 earthaccess-0.14.0 jmespath-1.0.1 multimethod-2.0 pqdm-0.2.0 python-cmr-0.13.0 s3fs-2025.3.2 tinynetrc-1.3.1\n"
          ]
        }
      ]
    },
    {
      "cell_type": "code",
      "source": [
        "!pip install geoviews"
      ],
      "metadata": {
        "colab": {
          "base_uri": "https://localhost:8080/"
        },
        "id": "YThhC4YbswSj",
        "outputId": "40a4bb3f-f70b-4155-abb5-509c57061ea4"
      },
      "execution_count": null,
      "outputs": [
        {
          "output_type": "stream",
          "name": "stdout",
          "text": [
            "Collecting geoviews\n",
            "  Downloading geoviews-1.14.0-py3-none-any.whl.metadata (8.5 kB)\n",
            "Requirement already satisfied: bokeh>=3.6.0 in /usr/local/lib/python3.11/dist-packages (from geoviews) (3.6.3)\n",
            "Collecting cartopy>=0.18.0 (from geoviews)\n",
            "  Downloading Cartopy-0.24.1-cp311-cp311-manylinux_2_17_x86_64.manylinux2014_x86_64.whl.metadata (7.9 kB)\n",
            "Requirement already satisfied: holoviews>=1.16.0 in /usr/local/lib/python3.11/dist-packages (from geoviews) (1.20.2)\n",
            "Requirement already satisfied: numpy in /usr/local/lib/python3.11/dist-packages (from geoviews) (2.0.2)\n",
            "Requirement already satisfied: packaging in /usr/local/lib/python3.11/dist-packages (from geoviews) (24.2)\n",
            "Requirement already satisfied: panel>=1.0.0 in /usr/local/lib/python3.11/dist-packages (from geoviews) (1.6.2)\n",
            "Requirement already satisfied: param<3.0,>=1.9.3 in /usr/local/lib/python3.11/dist-packages (from geoviews) (2.2.0)\n",
            "Requirement already satisfied: pyproj in /usr/local/lib/python3.11/dist-packages (from geoviews) (3.7.1)\n",
            "Requirement already satisfied: shapely in /usr/local/lib/python3.11/dist-packages (from geoviews) (2.1.0)\n",
            "Requirement already satisfied: xyzservices in /usr/local/lib/python3.11/dist-packages (from geoviews) (2025.1.0)\n",
            "Requirement already satisfied: Jinja2>=2.9 in /usr/local/lib/python3.11/dist-packages (from bokeh>=3.6.0->geoviews) (3.1.6)\n",
            "Requirement already satisfied: contourpy>=1.2 in /usr/local/lib/python3.11/dist-packages (from bokeh>=3.6.0->geoviews) (1.3.1)\n",
            "Requirement already satisfied: pandas>=1.2 in /usr/local/lib/python3.11/dist-packages (from bokeh>=3.6.0->geoviews) (2.2.2)\n",
            "Requirement already satisfied: pillow>=7.1.0 in /usr/local/lib/python3.11/dist-packages (from bokeh>=3.6.0->geoviews) (11.1.0)\n",
            "Requirement already satisfied: PyYAML>=3.10 in /usr/local/lib/python3.11/dist-packages (from bokeh>=3.6.0->geoviews) (6.0.2)\n",
            "Requirement already satisfied: tornado>=6.2 in /usr/local/lib/python3.11/dist-packages (from bokeh>=3.6.0->geoviews) (6.4.2)\n",
            "Requirement already satisfied: matplotlib>=3.6 in /usr/local/lib/python3.11/dist-packages (from cartopy>=0.18.0->geoviews) (3.10.0)\n",
            "Requirement already satisfied: pyshp>=2.3 in /usr/local/lib/python3.11/dist-packages (from cartopy>=0.18.0->geoviews) (2.3.1)\n",
            "Requirement already satisfied: colorcet in /usr/local/lib/python3.11/dist-packages (from holoviews>=1.16.0->geoviews) (3.1.0)\n",
            "Requirement already satisfied: pyviz-comms>=2.1 in /usr/local/lib/python3.11/dist-packages (from holoviews>=1.16.0->geoviews) (3.0.4)\n",
            "Requirement already satisfied: bleach in /usr/local/lib/python3.11/dist-packages (from panel>=1.0.0->geoviews) (6.2.0)\n",
            "Requirement already satisfied: linkify-it-py in /usr/local/lib/python3.11/dist-packages (from panel>=1.0.0->geoviews) (2.0.3)\n",
            "Requirement already satisfied: markdown in /usr/local/lib/python3.11/dist-packages (from panel>=1.0.0->geoviews) (3.7)\n",
            "Requirement already satisfied: markdown-it-py in /usr/local/lib/python3.11/dist-packages (from panel>=1.0.0->geoviews) (3.0.0)\n",
            "Requirement already satisfied: mdit-py-plugins in /usr/local/lib/python3.11/dist-packages (from panel>=1.0.0->geoviews) (0.4.2)\n",
            "Requirement already satisfied: requests in /usr/local/lib/python3.11/dist-packages (from panel>=1.0.0->geoviews) (2.32.3)\n",
            "Requirement already satisfied: tqdm in /usr/local/lib/python3.11/dist-packages (from panel>=1.0.0->geoviews) (4.67.1)\n",
            "Requirement already satisfied: typing-extensions in /usr/local/lib/python3.11/dist-packages (from panel>=1.0.0->geoviews) (4.13.1)\n",
            "Requirement already satisfied: certifi in /usr/local/lib/python3.11/dist-packages (from pyproj->geoviews) (2025.1.31)\n",
            "Requirement already satisfied: MarkupSafe>=2.0 in /usr/local/lib/python3.11/dist-packages (from Jinja2>=2.9->bokeh>=3.6.0->geoviews) (3.0.2)\n",
            "Requirement already satisfied: cycler>=0.10 in /usr/local/lib/python3.11/dist-packages (from matplotlib>=3.6->cartopy>=0.18.0->geoviews) (0.12.1)\n",
            "Requirement already satisfied: fonttools>=4.22.0 in /usr/local/lib/python3.11/dist-packages (from matplotlib>=3.6->cartopy>=0.18.0->geoviews) (4.57.0)\n",
            "Requirement already satisfied: kiwisolver>=1.3.1 in /usr/local/lib/python3.11/dist-packages (from matplotlib>=3.6->cartopy>=0.18.0->geoviews) (1.4.8)\n",
            "Requirement already satisfied: pyparsing>=2.3.1 in /usr/local/lib/python3.11/dist-packages (from matplotlib>=3.6->cartopy>=0.18.0->geoviews) (3.2.3)\n",
            "Requirement already satisfied: python-dateutil>=2.7 in /usr/local/lib/python3.11/dist-packages (from matplotlib>=3.6->cartopy>=0.18.0->geoviews) (2.8.2)\n",
            "Requirement already satisfied: pytz>=2020.1 in /usr/local/lib/python3.11/dist-packages (from pandas>=1.2->bokeh>=3.6.0->geoviews) (2025.2)\n",
            "Requirement already satisfied: tzdata>=2022.7 in /usr/local/lib/python3.11/dist-packages (from pandas>=1.2->bokeh>=3.6.0->geoviews) (2025.2)\n",
            "Requirement already satisfied: webencodings in /usr/local/lib/python3.11/dist-packages (from bleach->panel>=1.0.0->geoviews) (0.5.1)\n",
            "Requirement already satisfied: uc-micro-py in /usr/local/lib/python3.11/dist-packages (from linkify-it-py->panel>=1.0.0->geoviews) (1.0.3)\n",
            "Requirement already satisfied: mdurl~=0.1 in /usr/local/lib/python3.11/dist-packages (from markdown-it-py->panel>=1.0.0->geoviews) (0.1.2)\n",
            "Requirement already satisfied: charset-normalizer<4,>=2 in /usr/local/lib/python3.11/dist-packages (from requests->panel>=1.0.0->geoviews) (3.4.1)\n",
            "Requirement already satisfied: idna<4,>=2.5 in /usr/local/lib/python3.11/dist-packages (from requests->panel>=1.0.0->geoviews) (3.10)\n",
            "Requirement already satisfied: urllib3<3,>=1.21.1 in /usr/local/lib/python3.11/dist-packages (from requests->panel>=1.0.0->geoviews) (2.3.0)\n",
            "Requirement already satisfied: six>=1.5 in /usr/local/lib/python3.11/dist-packages (from python-dateutil>=2.7->matplotlib>=3.6->cartopy>=0.18.0->geoviews) (1.17.0)\n",
            "Downloading geoviews-1.14.0-py3-none-any.whl (547 kB)\n",
            "\u001b[2K   \u001b[90m━━━━━━━━━━━━━━━━━━━━━━━━━━━━━━━━━━━━━━━━\u001b[0m \u001b[32m547.3/547.3 kB\u001b[0m \u001b[31m7.9 MB/s\u001b[0m eta \u001b[36m0:00:00\u001b[0m\n",
            "\u001b[?25hDownloading Cartopy-0.24.1-cp311-cp311-manylinux_2_17_x86_64.manylinux2014_x86_64.whl (11.7 MB)\n",
            "\u001b[2K   \u001b[90m━━━━━━━━━━━━━━━━━━━━━━━━━━━━━━━━━━━━━━━━\u001b[0m \u001b[32m11.7/11.7 MB\u001b[0m \u001b[31m19.7 MB/s\u001b[0m eta \u001b[36m0:00:00\u001b[0m\n",
            "\u001b[?25hInstalling collected packages: cartopy, geoviews\n",
            "Successfully installed cartopy-0.24.1 geoviews-1.14.0\n"
          ]
        }
      ]
    },
    {
      "cell_type": "code",
      "execution_count": null,
      "metadata": {
        "colab": {
          "base_uri": "https://localhost:8080/",
          "height": 42
        },
        "id": "OTO6RAVAsi7j",
        "outputId": "45e7e452-609d-4cf0-e484-9d94e125de92"
      },
      "outputs": [
        {
          "output_type": "display_data",
          "data": {
            "text/html": [
              "<script type=\"esms-options\">{\"shimMode\": true}</script><style>*[data-root-id],\n",
              "*[data-root-id] > * {\n",
              "  box-sizing: border-box;\n",
              "  font-family: var(--jp-ui-font-family);\n",
              "  font-size: var(--jp-ui-font-size1);\n",
              "  color: var(--vscode-editor-foreground, var(--jp-ui-font-color1));\n",
              "}\n",
              "\n",
              "/* Override VSCode background color */\n",
              ".cell-output-ipywidget-background:has(\n",
              "    > .cell-output-ipywidget-background > .lm-Widget > *[data-root-id]\n",
              "  ),\n",
              ".cell-output-ipywidget-background:has(> .lm-Widget > *[data-root-id]) {\n",
              "  background-color: transparent !important;\n",
              "}\n",
              "</style>"
            ]
          },
          "metadata": {}
        },
        {
          "output_type": "display_data",
          "data": {
            "application/javascript": [
              "(function(root) {\n",
              "  function now() {\n",
              "    return new Date();\n",
              "  }\n",
              "\n",
              "  const force = true;\n",
              "  const py_version = '3.6.3'.replace('rc', '-rc.').replace('.dev', '-dev.');\n",
              "  const reloading = false;\n",
              "  const Bokeh = root.Bokeh;\n",
              "\n",
              "  // Set a timeout for this load but only if we are not already initializing\n",
              "  if (typeof (root._bokeh_timeout) === \"undefined\" || (force || !root._bokeh_is_initializing)) {\n",
              "    root._bokeh_timeout = Date.now() + 5000;\n",
              "    root._bokeh_failed_load = false;\n",
              "  }\n",
              "\n",
              "  function run_callbacks() {\n",
              "    try {\n",
              "      root._bokeh_onload_callbacks.forEach(function(callback) {\n",
              "        if (callback != null)\n",
              "          callback();\n",
              "      });\n",
              "    } finally {\n",
              "      delete root._bokeh_onload_callbacks;\n",
              "    }\n",
              "    console.debug(\"Bokeh: all callbacks have finished\");\n",
              "  }\n",
              "\n",
              "  function load_libs(css_urls, js_urls, js_modules, js_exports, callback) {\n",
              "    if (css_urls == null) css_urls = [];\n",
              "    if (js_urls == null) js_urls = [];\n",
              "    if (js_modules == null) js_modules = [];\n",
              "    if (js_exports == null) js_exports = {};\n",
              "\n",
              "    root._bokeh_onload_callbacks.push(callback);\n",
              "\n",
              "    if (root._bokeh_is_loading > 0) {\n",
              "      // Don't load bokeh if it is still initializing\n",
              "      console.debug(\"Bokeh: BokehJS is being loaded, scheduling callback at\", now());\n",
              "      return null;\n",
              "    } else if (js_urls.length === 0 && js_modules.length === 0 && Object.keys(js_exports).length === 0) {\n",
              "      // There is nothing to load\n",
              "      run_callbacks();\n",
              "      return null;\n",
              "    }\n",
              "\n",
              "    function on_load() {\n",
              "      root._bokeh_is_loading--;\n",
              "      if (root._bokeh_is_loading === 0) {\n",
              "        console.debug(\"Bokeh: all BokehJS libraries/stylesheets loaded\");\n",
              "        run_callbacks()\n",
              "      }\n",
              "    }\n",
              "    window._bokeh_on_load = on_load\n",
              "\n",
              "    function on_error(e) {\n",
              "      const src_el = e.srcElement\n",
              "      console.error(\"failed to load \" + (src_el.href || src_el.src));\n",
              "    }\n",
              "\n",
              "    const skip = [];\n",
              "    if (window.requirejs) {\n",
              "      window.requirejs.config({'packages': {}, 'paths': {}, 'shim': {}});\n",
              "      root._bokeh_is_loading = css_urls.length + 0;\n",
              "    } else {\n",
              "      root._bokeh_is_loading = css_urls.length + js_urls.length + js_modules.length + Object.keys(js_exports).length;\n",
              "    }\n",
              "\n",
              "    const existing_stylesheets = []\n",
              "    const links = document.getElementsByTagName('link')\n",
              "    for (let i = 0; i < links.length; i++) {\n",
              "      const link = links[i]\n",
              "      if (link.href != null) {\n",
              "        existing_stylesheets.push(link.href)\n",
              "      }\n",
              "    }\n",
              "    for (let i = 0; i < css_urls.length; i++) {\n",
              "      const url = css_urls[i];\n",
              "      const escaped = encodeURI(url)\n",
              "      if (existing_stylesheets.indexOf(escaped) !== -1) {\n",
              "        on_load()\n",
              "        continue;\n",
              "      }\n",
              "      const element = document.createElement(\"link\");\n",
              "      element.onload = on_load;\n",
              "      element.onerror = on_error;\n",
              "      element.rel = \"stylesheet\";\n",
              "      element.type = \"text/css\";\n",
              "      element.href = url;\n",
              "      console.debug(\"Bokeh: injecting link tag for BokehJS stylesheet: \", url);\n",
              "      document.body.appendChild(element);\n",
              "    }    var existing_scripts = []\n",
              "    const scripts = document.getElementsByTagName('script')\n",
              "    for (let i = 0; i < scripts.length; i++) {\n",
              "      var script = scripts[i]\n",
              "      if (script.src != null) {\n",
              "        existing_scripts.push(script.src)\n",
              "      }\n",
              "    }\n",
              "    for (let i = 0; i < js_urls.length; i++) {\n",
              "      const url = js_urls[i];\n",
              "      const escaped = encodeURI(url)\n",
              "      if (skip.indexOf(escaped) !== -1 || existing_scripts.indexOf(escaped) !== -1) {\n",
              "        if (!window.requirejs) {\n",
              "          on_load();\n",
              "        }\n",
              "        continue;\n",
              "      }\n",
              "      const element = document.createElement('script');\n",
              "      element.onload = on_load;\n",
              "      element.onerror = on_error;\n",
              "      element.async = false;\n",
              "      element.src = url;\n",
              "      console.debug(\"Bokeh: injecting script tag for BokehJS library: \", url);\n",
              "      document.head.appendChild(element);\n",
              "    }\n",
              "    for (let i = 0; i < js_modules.length; i++) {\n",
              "      const url = js_modules[i];\n",
              "      const escaped = encodeURI(url)\n",
              "      if (skip.indexOf(escaped) !== -1 || existing_scripts.indexOf(escaped) !== -1) {\n",
              "        if (!window.requirejs) {\n",
              "          on_load();\n",
              "        }\n",
              "        continue;\n",
              "      }\n",
              "      var element = document.createElement('script');\n",
              "      element.onload = on_load;\n",
              "      element.onerror = on_error;\n",
              "      element.async = false;\n",
              "      element.src = url;\n",
              "      element.type = \"module\";\n",
              "      console.debug(\"Bokeh: injecting script tag for BokehJS library: \", url);\n",
              "      document.head.appendChild(element);\n",
              "    }\n",
              "    for (const name in js_exports) {\n",
              "      const url = js_exports[name];\n",
              "      const escaped = encodeURI(url)\n",
              "      if (skip.indexOf(escaped) >= 0 || root[name] != null) {\n",
              "        if (!window.requirejs) {\n",
              "          on_load();\n",
              "        }\n",
              "        continue;\n",
              "      }\n",
              "      var element = document.createElement('script');\n",
              "      element.onerror = on_error;\n",
              "      element.async = false;\n",
              "      element.type = \"module\";\n",
              "      console.debug(\"Bokeh: injecting script tag for BokehJS library: \", url);\n",
              "      element.textContent = `\n",
              "      import ${name} from \"${url}\"\n",
              "      window.${name} = ${name}\n",
              "      window._bokeh_on_load()\n",
              "      `\n",
              "      document.head.appendChild(element);\n",
              "    }\n",
              "    if (!js_urls.length && !js_modules.length) {\n",
              "      on_load()\n",
              "    }\n",
              "  };\n",
              "\n",
              "  function inject_raw_css(css) {\n",
              "    const element = document.createElement(\"style\");\n",
              "    element.appendChild(document.createTextNode(css));\n",
              "    document.body.appendChild(element);\n",
              "  }\n",
              "\n",
              "  const js_urls = [\"https://cdn.holoviz.org/panel/1.6.2/dist/bundled/reactiveesm/es-module-shims@^1.10.0/dist/es-module-shims.min.js\", \"https://cdn.bokeh.org/bokeh/release/bokeh-3.6.3.min.js\", \"https://cdn.bokeh.org/bokeh/release/bokeh-gl-3.6.3.min.js\", \"https://cdn.bokeh.org/bokeh/release/bokeh-widgets-3.6.3.min.js\", \"https://cdn.bokeh.org/bokeh/release/bokeh-tables-3.6.3.min.js\", \"https://cdn.holoviz.org/panel/1.6.2/dist/panel.min.js\", \"https://cdn.jsdelivr.net/npm/@holoviz/geoviews@1.14.0/dist/geoviews.min.js\"];\n",
              "  const js_modules = [];\n",
              "  const js_exports = {};\n",
              "  const css_urls = [];\n",
              "  const inline_js = [    function(Bokeh) {\n",
              "      Bokeh.set_log_level(\"info\");\n",
              "    },\n",
              "function(Bokeh) {} // ensure no trailing comma for IE\n",
              "  ];\n",
              "\n",
              "  function run_inline_js() {\n",
              "    if ((root.Bokeh !== undefined) || (force === true)) {\n",
              "      for (let i = 0; i < inline_js.length; i++) {\n",
              "        try {\n",
              "          inline_js[i].call(root, root.Bokeh);\n",
              "        } catch(e) {\n",
              "          if (!reloading) {\n",
              "            throw e;\n",
              "          }\n",
              "        }\n",
              "      }\n",
              "      // Cache old bokeh versions\n",
              "      if (Bokeh != undefined && !reloading) {\n",
              "        var NewBokeh = root.Bokeh;\n",
              "        if (Bokeh.versions === undefined) {\n",
              "          Bokeh.versions = new Map();\n",
              "        }\n",
              "        if (NewBokeh.version !== Bokeh.version) {\n",
              "          Bokeh.versions.set(NewBokeh.version, NewBokeh)\n",
              "        }\n",
              "        root.Bokeh = Bokeh;\n",
              "      }\n",
              "    } else if (Date.now() < root._bokeh_timeout) {\n",
              "      setTimeout(run_inline_js, 100);\n",
              "    } else if (!root._bokeh_failed_load) {\n",
              "      console.log(\"Bokeh: BokehJS failed to load within specified timeout.\");\n",
              "      root._bokeh_failed_load = true;\n",
              "    }\n",
              "    root._bokeh_is_initializing = false\n",
              "  }\n",
              "\n",
              "  function load_or_wait() {\n",
              "    // Implement a backoff loop that tries to ensure we do not load multiple\n",
              "    // versions of Bokeh and its dependencies at the same time.\n",
              "    // In recent versions we use the root._bokeh_is_initializing flag\n",
              "    // to determine whether there is an ongoing attempt to initialize\n",
              "    // bokeh, however for backward compatibility we also try to ensure\n",
              "    // that we do not start loading a newer (Panel>=1.0 and Bokeh>3) version\n",
              "    // before older versions are fully initialized.\n",
              "    if (root._bokeh_is_initializing && Date.now() > root._bokeh_timeout) {\n",
              "      // If the timeout and bokeh was not successfully loaded we reset\n",
              "      // everything and try loading again\n",
              "      root._bokeh_timeout = Date.now() + 5000;\n",
              "      root._bokeh_is_initializing = false;\n",
              "      root._bokeh_onload_callbacks = undefined;\n",
              "      root._bokeh_is_loading = 0\n",
              "      console.log(\"Bokeh: BokehJS was loaded multiple times but one version failed to initialize.\");\n",
              "      load_or_wait();\n",
              "    } else if (root._bokeh_is_initializing || (typeof root._bokeh_is_initializing === \"undefined\" && root._bokeh_onload_callbacks !== undefined)) {\n",
              "      setTimeout(load_or_wait, 100);\n",
              "    } else {\n",
              "      root._bokeh_is_initializing = true\n",
              "      root._bokeh_onload_callbacks = []\n",
              "      const bokeh_loaded = root.Bokeh != null && (root.Bokeh.version === py_version || (root.Bokeh.versions !== undefined && root.Bokeh.versions.has(py_version)));\n",
              "      if (!reloading && !bokeh_loaded) {\n",
              "        if (root.Bokeh) {\n",
              "          root.Bokeh = undefined;\n",
              "        }\n",
              "        console.debug(\"Bokeh: BokehJS not loaded, scheduling load and callback at\", now());\n",
              "      }\n",
              "      load_libs(css_urls, js_urls, js_modules, js_exports, function() {\n",
              "        console.debug(\"Bokeh: BokehJS plotting callback run at\", now());\n",
              "        run_inline_js();\n",
              "      });\n",
              "    }\n",
              "  }\n",
              "  // Give older versions of the autoload script a head-start to ensure\n",
              "  // they initialize before we start loading newer version.\n",
              "  setTimeout(load_or_wait, 100)\n",
              "}(window));"
            ],
            "application/vnd.holoviews_load.v0+json": "(function(root) {\n  function now() {\n    return new Date();\n  }\n\n  const force = true;\n  const py_version = '3.6.3'.replace('rc', '-rc.').replace('.dev', '-dev.');\n  const reloading = false;\n  const Bokeh = root.Bokeh;\n\n  // Set a timeout for this load but only if we are not already initializing\n  if (typeof (root._bokeh_timeout) === \"undefined\" || (force || !root._bokeh_is_initializing)) {\n    root._bokeh_timeout = Date.now() + 5000;\n    root._bokeh_failed_load = false;\n  }\n\n  function run_callbacks() {\n    try {\n      root._bokeh_onload_callbacks.forEach(function(callback) {\n        if (callback != null)\n          callback();\n      });\n    } finally {\n      delete root._bokeh_onload_callbacks;\n    }\n    console.debug(\"Bokeh: all callbacks have finished\");\n  }\n\n  function load_libs(css_urls, js_urls, js_modules, js_exports, callback) {\n    if (css_urls == null) css_urls = [];\n    if (js_urls == null) js_urls = [];\n    if (js_modules == null) js_modules = [];\n    if (js_exports == null) js_exports = {};\n\n    root._bokeh_onload_callbacks.push(callback);\n\n    if (root._bokeh_is_loading > 0) {\n      // Don't load bokeh if it is still initializing\n      console.debug(\"Bokeh: BokehJS is being loaded, scheduling callback at\", now());\n      return null;\n    } else if (js_urls.length === 0 && js_modules.length === 0 && Object.keys(js_exports).length === 0) {\n      // There is nothing to load\n      run_callbacks();\n      return null;\n    }\n\n    function on_load() {\n      root._bokeh_is_loading--;\n      if (root._bokeh_is_loading === 0) {\n        console.debug(\"Bokeh: all BokehJS libraries/stylesheets loaded\");\n        run_callbacks()\n      }\n    }\n    window._bokeh_on_load = on_load\n\n    function on_error(e) {\n      const src_el = e.srcElement\n      console.error(\"failed to load \" + (src_el.href || src_el.src));\n    }\n\n    const skip = [];\n    if (window.requirejs) {\n      window.requirejs.config({'packages': {}, 'paths': {}, 'shim': {}});\n      root._bokeh_is_loading = css_urls.length + 0;\n    } else {\n      root._bokeh_is_loading = css_urls.length + js_urls.length + js_modules.length + Object.keys(js_exports).length;\n    }\n\n    const existing_stylesheets = []\n    const links = document.getElementsByTagName('link')\n    for (let i = 0; i < links.length; i++) {\n      const link = links[i]\n      if (link.href != null) {\n        existing_stylesheets.push(link.href)\n      }\n    }\n    for (let i = 0; i < css_urls.length; i++) {\n      const url = css_urls[i];\n      const escaped = encodeURI(url)\n      if (existing_stylesheets.indexOf(escaped) !== -1) {\n        on_load()\n        continue;\n      }\n      const element = document.createElement(\"link\");\n      element.onload = on_load;\n      element.onerror = on_error;\n      element.rel = \"stylesheet\";\n      element.type = \"text/css\";\n      element.href = url;\n      console.debug(\"Bokeh: injecting link tag for BokehJS stylesheet: \", url);\n      document.body.appendChild(element);\n    }    var existing_scripts = []\n    const scripts = document.getElementsByTagName('script')\n    for (let i = 0; i < scripts.length; i++) {\n      var script = scripts[i]\n      if (script.src != null) {\n        existing_scripts.push(script.src)\n      }\n    }\n    for (let i = 0; i < js_urls.length; i++) {\n      const url = js_urls[i];\n      const escaped = encodeURI(url)\n      if (skip.indexOf(escaped) !== -1 || existing_scripts.indexOf(escaped) !== -1) {\n        if (!window.requirejs) {\n          on_load();\n        }\n        continue;\n      }\n      const element = document.createElement('script');\n      element.onload = on_load;\n      element.onerror = on_error;\n      element.async = false;\n      element.src = url;\n      console.debug(\"Bokeh: injecting script tag for BokehJS library: \", url);\n      document.head.appendChild(element);\n    }\n    for (let i = 0; i < js_modules.length; i++) {\n      const url = js_modules[i];\n      const escaped = encodeURI(url)\n      if (skip.indexOf(escaped) !== -1 || existing_scripts.indexOf(escaped) !== -1) {\n        if (!window.requirejs) {\n          on_load();\n        }\n        continue;\n      }\n      var element = document.createElement('script');\n      element.onload = on_load;\n      element.onerror = on_error;\n      element.async = false;\n      element.src = url;\n      element.type = \"module\";\n      console.debug(\"Bokeh: injecting script tag for BokehJS library: \", url);\n      document.head.appendChild(element);\n    }\n    for (const name in js_exports) {\n      const url = js_exports[name];\n      const escaped = encodeURI(url)\n      if (skip.indexOf(escaped) >= 0 || root[name] != null) {\n        if (!window.requirejs) {\n          on_load();\n        }\n        continue;\n      }\n      var element = document.createElement('script');\n      element.onerror = on_error;\n      element.async = false;\n      element.type = \"module\";\n      console.debug(\"Bokeh: injecting script tag for BokehJS library: \", url);\n      element.textContent = `\n      import ${name} from \"${url}\"\n      window.${name} = ${name}\n      window._bokeh_on_load()\n      `\n      document.head.appendChild(element);\n    }\n    if (!js_urls.length && !js_modules.length) {\n      on_load()\n    }\n  };\n\n  function inject_raw_css(css) {\n    const element = document.createElement(\"style\");\n    element.appendChild(document.createTextNode(css));\n    document.body.appendChild(element);\n  }\n\n  const js_urls = [\"https://cdn.holoviz.org/panel/1.6.2/dist/bundled/reactiveesm/es-module-shims@^1.10.0/dist/es-module-shims.min.js\", \"https://cdn.bokeh.org/bokeh/release/bokeh-3.6.3.min.js\", \"https://cdn.bokeh.org/bokeh/release/bokeh-gl-3.6.3.min.js\", \"https://cdn.bokeh.org/bokeh/release/bokeh-widgets-3.6.3.min.js\", \"https://cdn.bokeh.org/bokeh/release/bokeh-tables-3.6.3.min.js\", \"https://cdn.holoviz.org/panel/1.6.2/dist/panel.min.js\", \"https://cdn.jsdelivr.net/npm/@holoviz/geoviews@1.14.0/dist/geoviews.min.js\"];\n  const js_modules = [];\n  const js_exports = {};\n  const css_urls = [];\n  const inline_js = [    function(Bokeh) {\n      Bokeh.set_log_level(\"info\");\n    },\nfunction(Bokeh) {} // ensure no trailing comma for IE\n  ];\n\n  function run_inline_js() {\n    if ((root.Bokeh !== undefined) || (force === true)) {\n      for (let i = 0; i < inline_js.length; i++) {\n        try {\n          inline_js[i].call(root, root.Bokeh);\n        } catch(e) {\n          if (!reloading) {\n            throw e;\n          }\n        }\n      }\n      // Cache old bokeh versions\n      if (Bokeh != undefined && !reloading) {\n        var NewBokeh = root.Bokeh;\n        if (Bokeh.versions === undefined) {\n          Bokeh.versions = new Map();\n        }\n        if (NewBokeh.version !== Bokeh.version) {\n          Bokeh.versions.set(NewBokeh.version, NewBokeh)\n        }\n        root.Bokeh = Bokeh;\n      }\n    } else if (Date.now() < root._bokeh_timeout) {\n      setTimeout(run_inline_js, 100);\n    } else if (!root._bokeh_failed_load) {\n      console.log(\"Bokeh: BokehJS failed to load within specified timeout.\");\n      root._bokeh_failed_load = true;\n    }\n    root._bokeh_is_initializing = false\n  }\n\n  function load_or_wait() {\n    // Implement a backoff loop that tries to ensure we do not load multiple\n    // versions of Bokeh and its dependencies at the same time.\n    // In recent versions we use the root._bokeh_is_initializing flag\n    // to determine whether there is an ongoing attempt to initialize\n    // bokeh, however for backward compatibility we also try to ensure\n    // that we do not start loading a newer (Panel>=1.0 and Bokeh>3) version\n    // before older versions are fully initialized.\n    if (root._bokeh_is_initializing && Date.now() > root._bokeh_timeout) {\n      // If the timeout and bokeh was not successfully loaded we reset\n      // everything and try loading again\n      root._bokeh_timeout = Date.now() + 5000;\n      root._bokeh_is_initializing = false;\n      root._bokeh_onload_callbacks = undefined;\n      root._bokeh_is_loading = 0\n      console.log(\"Bokeh: BokehJS was loaded multiple times but one version failed to initialize.\");\n      load_or_wait();\n    } else if (root._bokeh_is_initializing || (typeof root._bokeh_is_initializing === \"undefined\" && root._bokeh_onload_callbacks !== undefined)) {\n      setTimeout(load_or_wait, 100);\n    } else {\n      root._bokeh_is_initializing = true\n      root._bokeh_onload_callbacks = []\n      const bokeh_loaded = root.Bokeh != null && (root.Bokeh.version === py_version || (root.Bokeh.versions !== undefined && root.Bokeh.versions.has(py_version)));\n      if (!reloading && !bokeh_loaded) {\n        if (root.Bokeh) {\n          root.Bokeh = undefined;\n        }\n        console.debug(\"Bokeh: BokehJS not loaded, scheduling load and callback at\", now());\n      }\n      load_libs(css_urls, js_urls, js_modules, js_exports, function() {\n        console.debug(\"Bokeh: BokehJS plotting callback run at\", now());\n        run_inline_js();\n      });\n    }\n  }\n  // Give older versions of the autoload script a head-start to ensure\n  // they initialize before we start loading newer version.\n  setTimeout(load_or_wait, 100)\n}(window));"
          },
          "metadata": {}
        },
        {
          "output_type": "display_data",
          "data": {
            "application/vnd.holoviews_load.v0+json": "\nif ((window.PyViz === undefined) || (window.PyViz instanceof HTMLElement)) {\n  window.PyViz = {comms: {}, comm_status:{}, kernels:{}, receivers: {}, plot_index: []}\n}\n\n\n    function JupyterCommManager() {\n    }\n\n    JupyterCommManager.prototype.register_target = function(plot_id, comm_id, msg_handler) {\n      if (window.comm_manager || ((window.Jupyter !== undefined) && (Jupyter.notebook.kernel != null))) {\n        var comm_manager = window.comm_manager || Jupyter.notebook.kernel.comm_manager;\n        comm_manager.register_target(comm_id, function(comm) {\n          comm.on_msg(msg_handler);\n        });\n      } else if ((plot_id in window.PyViz.kernels) && (window.PyViz.kernels[plot_id])) {\n        window.PyViz.kernels[plot_id].registerCommTarget(comm_id, function(comm) {\n          comm.onMsg = msg_handler;\n        });\n      } else if (typeof google != 'undefined' && google.colab.kernel != null) {\n        google.colab.kernel.comms.registerTarget(comm_id, (comm) => {\n          var messages = comm.messages[Symbol.asyncIterator]();\n          function processIteratorResult(result) {\n            var message = result.value;\n            console.log(message)\n            var content = {data: message.data, comm_id};\n            var buffers = []\n            for (var buffer of message.buffers || []) {\n              buffers.push(new DataView(buffer))\n            }\n            var metadata = message.metadata || {};\n            var msg = {content, buffers, metadata}\n            msg_handler(msg);\n            return messages.next().then(processIteratorResult);\n          }\n          return messages.next().then(processIteratorResult);\n        })\n      }\n    }\n\n    JupyterCommManager.prototype.get_client_comm = function(plot_id, comm_id, msg_handler) {\n      if (comm_id in window.PyViz.comms) {\n        return window.PyViz.comms[comm_id];\n      } else if (window.comm_manager || ((window.Jupyter !== undefined) && (Jupyter.notebook.kernel != null))) {\n        var comm_manager = window.comm_manager || Jupyter.notebook.kernel.comm_manager;\n        var comm = comm_manager.new_comm(comm_id, {}, {}, {}, comm_id);\n        if (msg_handler) {\n          comm.on_msg(msg_handler);\n        }\n      } else if ((plot_id in window.PyViz.kernels) && (window.PyViz.kernels[plot_id])) {\n        var comm = window.PyViz.kernels[plot_id].connectToComm(comm_id);\n        comm.open();\n        if (msg_handler) {\n          comm.onMsg = msg_handler;\n        }\n      } else if (typeof google != 'undefined' && google.colab.kernel != null) {\n        var comm_promise = google.colab.kernel.comms.open(comm_id)\n        comm_promise.then((comm) => {\n          window.PyViz.comms[comm_id] = comm;\n          if (msg_handler) {\n            var messages = comm.messages[Symbol.asyncIterator]();\n            function processIteratorResult(result) {\n              var message = result.value;\n              var content = {data: message.data};\n              var metadata = message.metadata || {comm_id};\n              var msg = {content, metadata}\n              msg_handler(msg);\n              return messages.next().then(processIteratorResult);\n            }\n            return messages.next().then(processIteratorResult);\n          }\n        })\n        var sendClosure = (data, metadata, buffers, disposeOnDone) => {\n          return comm_promise.then((comm) => {\n            comm.send(data, metadata, buffers, disposeOnDone);\n          });\n        };\n        var comm = {\n          send: sendClosure\n        };\n      }\n      window.PyViz.comms[comm_id] = comm;\n      return comm;\n    }\n    window.PyViz.comm_manager = new JupyterCommManager();\n    \n\n\nvar JS_MIME_TYPE = 'application/javascript';\nvar HTML_MIME_TYPE = 'text/html';\nvar EXEC_MIME_TYPE = 'application/vnd.holoviews_exec.v0+json';\nvar CLASS_NAME = 'output';\n\n/**\n * Render data to the DOM node\n */\nfunction render(props, node) {\n  var div = document.createElement(\"div\");\n  var script = document.createElement(\"script\");\n  node.appendChild(div);\n  node.appendChild(script);\n}\n\n/**\n * Handle when a new output is added\n */\nfunction handle_add_output(event, handle) {\n  var output_area = handle.output_area;\n  var output = handle.output;\n  if ((output.data == undefined) || (!output.data.hasOwnProperty(EXEC_MIME_TYPE))) {\n    return\n  }\n  var id = output.metadata[EXEC_MIME_TYPE][\"id\"];\n  var toinsert = output_area.element.find(\".\" + CLASS_NAME.split(' ')[0]);\n  if (id !== undefined) {\n    var nchildren = toinsert.length;\n    var html_node = toinsert[nchildren-1].children[0];\n    html_node.innerHTML = output.data[HTML_MIME_TYPE];\n    var scripts = [];\n    var nodelist = html_node.querySelectorAll(\"script\");\n    for (var i in nodelist) {\n      if (nodelist.hasOwnProperty(i)) {\n        scripts.push(nodelist[i])\n      }\n    }\n\n    scripts.forEach( function (oldScript) {\n      var newScript = document.createElement(\"script\");\n      var attrs = [];\n      var nodemap = oldScript.attributes;\n      for (var j in nodemap) {\n        if (nodemap.hasOwnProperty(j)) {\n          attrs.push(nodemap[j])\n        }\n      }\n      attrs.forEach(function(attr) { newScript.setAttribute(attr.name, attr.value) });\n      newScript.appendChild(document.createTextNode(oldScript.innerHTML));\n      oldScript.parentNode.replaceChild(newScript, oldScript);\n    });\n    if (JS_MIME_TYPE in output.data) {\n      toinsert[nchildren-1].children[1].textContent = output.data[JS_MIME_TYPE];\n    }\n    output_area._hv_plot_id = id;\n    if ((window.Bokeh !== undefined) && (id in Bokeh.index)) {\n      window.PyViz.plot_index[id] = Bokeh.index[id];\n    } else {\n      window.PyViz.plot_index[id] = null;\n    }\n  } else if (output.metadata[EXEC_MIME_TYPE][\"server_id\"] !== undefined) {\n    var bk_div = document.createElement(\"div\");\n    bk_div.innerHTML = output.data[HTML_MIME_TYPE];\n    var script_attrs = bk_div.children[0].attributes;\n    for (var i = 0; i < script_attrs.length; i++) {\n      toinsert[toinsert.length - 1].childNodes[1].setAttribute(script_attrs[i].name, script_attrs[i].value);\n    }\n    // store reference to server id on output_area\n    output_area._bokeh_server_id = output.metadata[EXEC_MIME_TYPE][\"server_id\"];\n  }\n}\n\n/**\n * Handle when an output is cleared or removed\n */\nfunction handle_clear_output(event, handle) {\n  var id = handle.cell.output_area._hv_plot_id;\n  var server_id = handle.cell.output_area._bokeh_server_id;\n  if (((id === undefined) || !(id in PyViz.plot_index)) && (server_id !== undefined)) { return; }\n  var comm = window.PyViz.comm_manager.get_client_comm(\"hv-extension-comm\", \"hv-extension-comm\", function () {});\n  if (server_id !== null) {\n    comm.send({event_type: 'server_delete', 'id': server_id});\n    return;\n  } else if (comm !== null) {\n    comm.send({event_type: 'delete', 'id': id});\n  }\n  delete PyViz.plot_index[id];\n  if ((window.Bokeh !== undefined) & (id in window.Bokeh.index)) {\n    var doc = window.Bokeh.index[id].model.document\n    doc.clear();\n    const i = window.Bokeh.documents.indexOf(doc);\n    if (i > -1) {\n      window.Bokeh.documents.splice(i, 1);\n    }\n  }\n}\n\n/**\n * Handle kernel restart event\n */\nfunction handle_kernel_cleanup(event, handle) {\n  delete PyViz.comms[\"hv-extension-comm\"];\n  window.PyViz.plot_index = {}\n}\n\n/**\n * Handle update_display_data messages\n */\nfunction handle_update_output(event, handle) {\n  handle_clear_output(event, {cell: {output_area: handle.output_area}})\n  handle_add_output(event, handle)\n}\n\nfunction register_renderer(events, OutputArea) {\n  function append_mime(data, metadata, element) {\n    // create a DOM node to render to\n    var toinsert = this.create_output_subarea(\n    metadata,\n    CLASS_NAME,\n    EXEC_MIME_TYPE\n    );\n    this.keyboard_manager.register_events(toinsert);\n    // Render to node\n    var props = {data: data, metadata: metadata[EXEC_MIME_TYPE]};\n    render(props, toinsert[0]);\n    element.append(toinsert);\n    return toinsert\n  }\n\n  events.on('output_added.OutputArea', handle_add_output);\n  events.on('output_updated.OutputArea', handle_update_output);\n  events.on('clear_output.CodeCell', handle_clear_output);\n  events.on('delete.Cell', handle_clear_output);\n  events.on('kernel_ready.Kernel', handle_kernel_cleanup);\n\n  OutputArea.prototype.register_mime_type(EXEC_MIME_TYPE, append_mime, {\n    safe: true,\n    index: 0\n  });\n}\n\nif (window.Jupyter !== undefined) {\n  try {\n    var events = require('base/js/events');\n    var OutputArea = require('notebook/js/outputarea').OutputArea;\n    if (OutputArea.prototype.mime_types().indexOf(EXEC_MIME_TYPE) == -1) {\n      register_renderer(events, OutputArea);\n    }\n  } catch(err) {\n  }\n}\n",
            "application/javascript": [
              "\n",
              "if ((window.PyViz === undefined) || (window.PyViz instanceof HTMLElement)) {\n",
              "  window.PyViz = {comms: {}, comm_status:{}, kernels:{}, receivers: {}, plot_index: []}\n",
              "}\n",
              "\n",
              "\n",
              "    function JupyterCommManager() {\n",
              "    }\n",
              "\n",
              "    JupyterCommManager.prototype.register_target = function(plot_id, comm_id, msg_handler) {\n",
              "      if (window.comm_manager || ((window.Jupyter !== undefined) && (Jupyter.notebook.kernel != null))) {\n",
              "        var comm_manager = window.comm_manager || Jupyter.notebook.kernel.comm_manager;\n",
              "        comm_manager.register_target(comm_id, function(comm) {\n",
              "          comm.on_msg(msg_handler);\n",
              "        });\n",
              "      } else if ((plot_id in window.PyViz.kernels) && (window.PyViz.kernels[plot_id])) {\n",
              "        window.PyViz.kernels[plot_id].registerCommTarget(comm_id, function(comm) {\n",
              "          comm.onMsg = msg_handler;\n",
              "        });\n",
              "      } else if (typeof google != 'undefined' && google.colab.kernel != null) {\n",
              "        google.colab.kernel.comms.registerTarget(comm_id, (comm) => {\n",
              "          var messages = comm.messages[Symbol.asyncIterator]();\n",
              "          function processIteratorResult(result) {\n",
              "            var message = result.value;\n",
              "            console.log(message)\n",
              "            var content = {data: message.data, comm_id};\n",
              "            var buffers = []\n",
              "            for (var buffer of message.buffers || []) {\n",
              "              buffers.push(new DataView(buffer))\n",
              "            }\n",
              "            var metadata = message.metadata || {};\n",
              "            var msg = {content, buffers, metadata}\n",
              "            msg_handler(msg);\n",
              "            return messages.next().then(processIteratorResult);\n",
              "          }\n",
              "          return messages.next().then(processIteratorResult);\n",
              "        })\n",
              "      }\n",
              "    }\n",
              "\n",
              "    JupyterCommManager.prototype.get_client_comm = function(plot_id, comm_id, msg_handler) {\n",
              "      if (comm_id in window.PyViz.comms) {\n",
              "        return window.PyViz.comms[comm_id];\n",
              "      } else if (window.comm_manager || ((window.Jupyter !== undefined) && (Jupyter.notebook.kernel != null))) {\n",
              "        var comm_manager = window.comm_manager || Jupyter.notebook.kernel.comm_manager;\n",
              "        var comm = comm_manager.new_comm(comm_id, {}, {}, {}, comm_id);\n",
              "        if (msg_handler) {\n",
              "          comm.on_msg(msg_handler);\n",
              "        }\n",
              "      } else if ((plot_id in window.PyViz.kernels) && (window.PyViz.kernels[plot_id])) {\n",
              "        var comm = window.PyViz.kernels[plot_id].connectToComm(comm_id);\n",
              "        comm.open();\n",
              "        if (msg_handler) {\n",
              "          comm.onMsg = msg_handler;\n",
              "        }\n",
              "      } else if (typeof google != 'undefined' && google.colab.kernel != null) {\n",
              "        var comm_promise = google.colab.kernel.comms.open(comm_id)\n",
              "        comm_promise.then((comm) => {\n",
              "          window.PyViz.comms[comm_id] = comm;\n",
              "          if (msg_handler) {\n",
              "            var messages = comm.messages[Symbol.asyncIterator]();\n",
              "            function processIteratorResult(result) {\n",
              "              var message = result.value;\n",
              "              var content = {data: message.data};\n",
              "              var metadata = message.metadata || {comm_id};\n",
              "              var msg = {content, metadata}\n",
              "              msg_handler(msg);\n",
              "              return messages.next().then(processIteratorResult);\n",
              "            }\n",
              "            return messages.next().then(processIteratorResult);\n",
              "          }\n",
              "        })\n",
              "        var sendClosure = (data, metadata, buffers, disposeOnDone) => {\n",
              "          return comm_promise.then((comm) => {\n",
              "            comm.send(data, metadata, buffers, disposeOnDone);\n",
              "          });\n",
              "        };\n",
              "        var comm = {\n",
              "          send: sendClosure\n",
              "        };\n",
              "      }\n",
              "      window.PyViz.comms[comm_id] = comm;\n",
              "      return comm;\n",
              "    }\n",
              "    window.PyViz.comm_manager = new JupyterCommManager();\n",
              "    \n",
              "\n",
              "\n",
              "var JS_MIME_TYPE = 'application/javascript';\n",
              "var HTML_MIME_TYPE = 'text/html';\n",
              "var EXEC_MIME_TYPE = 'application/vnd.holoviews_exec.v0+json';\n",
              "var CLASS_NAME = 'output';\n",
              "\n",
              "/**\n",
              " * Render data to the DOM node\n",
              " */\n",
              "function render(props, node) {\n",
              "  var div = document.createElement(\"div\");\n",
              "  var script = document.createElement(\"script\");\n",
              "  node.appendChild(div);\n",
              "  node.appendChild(script);\n",
              "}\n",
              "\n",
              "/**\n",
              " * Handle when a new output is added\n",
              " */\n",
              "function handle_add_output(event, handle) {\n",
              "  var output_area = handle.output_area;\n",
              "  var output = handle.output;\n",
              "  if ((output.data == undefined) || (!output.data.hasOwnProperty(EXEC_MIME_TYPE))) {\n",
              "    return\n",
              "  }\n",
              "  var id = output.metadata[EXEC_MIME_TYPE][\"id\"];\n",
              "  var toinsert = output_area.element.find(\".\" + CLASS_NAME.split(' ')[0]);\n",
              "  if (id !== undefined) {\n",
              "    var nchildren = toinsert.length;\n",
              "    var html_node = toinsert[nchildren-1].children[0];\n",
              "    html_node.innerHTML = output.data[HTML_MIME_TYPE];\n",
              "    var scripts = [];\n",
              "    var nodelist = html_node.querySelectorAll(\"script\");\n",
              "    for (var i in nodelist) {\n",
              "      if (nodelist.hasOwnProperty(i)) {\n",
              "        scripts.push(nodelist[i])\n",
              "      }\n",
              "    }\n",
              "\n",
              "    scripts.forEach( function (oldScript) {\n",
              "      var newScript = document.createElement(\"script\");\n",
              "      var attrs = [];\n",
              "      var nodemap = oldScript.attributes;\n",
              "      for (var j in nodemap) {\n",
              "        if (nodemap.hasOwnProperty(j)) {\n",
              "          attrs.push(nodemap[j])\n",
              "        }\n",
              "      }\n",
              "      attrs.forEach(function(attr) { newScript.setAttribute(attr.name, attr.value) });\n",
              "      newScript.appendChild(document.createTextNode(oldScript.innerHTML));\n",
              "      oldScript.parentNode.replaceChild(newScript, oldScript);\n",
              "    });\n",
              "    if (JS_MIME_TYPE in output.data) {\n",
              "      toinsert[nchildren-1].children[1].textContent = output.data[JS_MIME_TYPE];\n",
              "    }\n",
              "    output_area._hv_plot_id = id;\n",
              "    if ((window.Bokeh !== undefined) && (id in Bokeh.index)) {\n",
              "      window.PyViz.plot_index[id] = Bokeh.index[id];\n",
              "    } else {\n",
              "      window.PyViz.plot_index[id] = null;\n",
              "    }\n",
              "  } else if (output.metadata[EXEC_MIME_TYPE][\"server_id\"] !== undefined) {\n",
              "    var bk_div = document.createElement(\"div\");\n",
              "    bk_div.innerHTML = output.data[HTML_MIME_TYPE];\n",
              "    var script_attrs = bk_div.children[0].attributes;\n",
              "    for (var i = 0; i < script_attrs.length; i++) {\n",
              "      toinsert[toinsert.length - 1].childNodes[1].setAttribute(script_attrs[i].name, script_attrs[i].value);\n",
              "    }\n",
              "    // store reference to server id on output_area\n",
              "    output_area._bokeh_server_id = output.metadata[EXEC_MIME_TYPE][\"server_id\"];\n",
              "  }\n",
              "}\n",
              "\n",
              "/**\n",
              " * Handle when an output is cleared or removed\n",
              " */\n",
              "function handle_clear_output(event, handle) {\n",
              "  var id = handle.cell.output_area._hv_plot_id;\n",
              "  var server_id = handle.cell.output_area._bokeh_server_id;\n",
              "  if (((id === undefined) || !(id in PyViz.plot_index)) && (server_id !== undefined)) { return; }\n",
              "  var comm = window.PyViz.comm_manager.get_client_comm(\"hv-extension-comm\", \"hv-extension-comm\", function () {});\n",
              "  if (server_id !== null) {\n",
              "    comm.send({event_type: 'server_delete', 'id': server_id});\n",
              "    return;\n",
              "  } else if (comm !== null) {\n",
              "    comm.send({event_type: 'delete', 'id': id});\n",
              "  }\n",
              "  delete PyViz.plot_index[id];\n",
              "  if ((window.Bokeh !== undefined) & (id in window.Bokeh.index)) {\n",
              "    var doc = window.Bokeh.index[id].model.document\n",
              "    doc.clear();\n",
              "    const i = window.Bokeh.documents.indexOf(doc);\n",
              "    if (i > -1) {\n",
              "      window.Bokeh.documents.splice(i, 1);\n",
              "    }\n",
              "  }\n",
              "}\n",
              "\n",
              "/**\n",
              " * Handle kernel restart event\n",
              " */\n",
              "function handle_kernel_cleanup(event, handle) {\n",
              "  delete PyViz.comms[\"hv-extension-comm\"];\n",
              "  window.PyViz.plot_index = {}\n",
              "}\n",
              "\n",
              "/**\n",
              " * Handle update_display_data messages\n",
              " */\n",
              "function handle_update_output(event, handle) {\n",
              "  handle_clear_output(event, {cell: {output_area: handle.output_area}})\n",
              "  handle_add_output(event, handle)\n",
              "}\n",
              "\n",
              "function register_renderer(events, OutputArea) {\n",
              "  function append_mime(data, metadata, element) {\n",
              "    // create a DOM node to render to\n",
              "    var toinsert = this.create_output_subarea(\n",
              "    metadata,\n",
              "    CLASS_NAME,\n",
              "    EXEC_MIME_TYPE\n",
              "    );\n",
              "    this.keyboard_manager.register_events(toinsert);\n",
              "    // Render to node\n",
              "    var props = {data: data, metadata: metadata[EXEC_MIME_TYPE]};\n",
              "    render(props, toinsert[0]);\n",
              "    element.append(toinsert);\n",
              "    return toinsert\n",
              "  }\n",
              "\n",
              "  events.on('output_added.OutputArea', handle_add_output);\n",
              "  events.on('output_updated.OutputArea', handle_update_output);\n",
              "  events.on('clear_output.CodeCell', handle_clear_output);\n",
              "  events.on('delete.Cell', handle_clear_output);\n",
              "  events.on('kernel_ready.Kernel', handle_kernel_cleanup);\n",
              "\n",
              "  OutputArea.prototype.register_mime_type(EXEC_MIME_TYPE, append_mime, {\n",
              "    safe: true,\n",
              "    index: 0\n",
              "  });\n",
              "}\n",
              "\n",
              "if (window.Jupyter !== undefined) {\n",
              "  try {\n",
              "    var events = require('base/js/events');\n",
              "    var OutputArea = require('notebook/js/outputarea').OutputArea;\n",
              "    if (OutputArea.prototype.mime_types().indexOf(EXEC_MIME_TYPE) == -1) {\n",
              "      register_renderer(events, OutputArea);\n",
              "    }\n",
              "  } catch(err) {\n",
              "  }\n",
              "}\n"
            ]
          },
          "metadata": {}
        },
        {
          "output_type": "display_data",
          "data": {
            "text/html": [
              "<div id='11720b8d-0177-41bc-b5da-e4e5cbaa614f'>\n",
              "  <div id=\"c39e91b8-c057-470e-a271-3779db016200\" data-root-id=\"11720b8d-0177-41bc-b5da-e4e5cbaa614f\" style=\"display: contents;\"></div>\n",
              "</div>\n",
              "<script type=\"application/javascript\">(function(root) {\n",
              "  var docs_json = {\"3e848848-a678-4e2b-a235-63b62e6a10a8\":{\"version\":\"3.6.3\",\"title\":\"Bokeh Application\",\"roots\":[{\"type\":\"object\",\"name\":\"panel.models.browser.BrowserInfo\",\"id\":\"11720b8d-0177-41bc-b5da-e4e5cbaa614f\"},{\"type\":\"object\",\"name\":\"panel.models.comm_manager.CommManager\",\"id\":\"5ba884aa-bdee-4d54-8980-d03f76fa08d8\",\"attributes\":{\"plot_id\":\"11720b8d-0177-41bc-b5da-e4e5cbaa614f\",\"comm_id\":\"95701037d4df43fba2c2f11f1fb1fa69\",\"client_comm_id\":\"94f19ea8a1b04c999bd95124e12daee7\"}}],\"defs\":[{\"type\":\"model\",\"name\":\"ReactiveHTML1\"},{\"type\":\"model\",\"name\":\"FlexBox1\",\"properties\":[{\"name\":\"align_content\",\"kind\":\"Any\",\"default\":\"flex-start\"},{\"name\":\"align_items\",\"kind\":\"Any\",\"default\":\"flex-start\"},{\"name\":\"flex_direction\",\"kind\":\"Any\",\"default\":\"row\"},{\"name\":\"flex_wrap\",\"kind\":\"Any\",\"default\":\"wrap\"},{\"name\":\"gap\",\"kind\":\"Any\",\"default\":\"\"},{\"name\":\"justify_content\",\"kind\":\"Any\",\"default\":\"flex-start\"}]},{\"type\":\"model\",\"name\":\"FloatPanel1\",\"properties\":[{\"name\":\"config\",\"kind\":\"Any\",\"default\":{\"type\":\"map\"}},{\"name\":\"contained\",\"kind\":\"Any\",\"default\":true},{\"name\":\"position\",\"kind\":\"Any\",\"default\":\"right-top\"},{\"name\":\"offsetx\",\"kind\":\"Any\",\"default\":null},{\"name\":\"offsety\",\"kind\":\"Any\",\"default\":null},{\"name\":\"theme\",\"kind\":\"Any\",\"default\":\"primary\"},{\"name\":\"status\",\"kind\":\"Any\",\"default\":\"normalized\"}]},{\"type\":\"model\",\"name\":\"GridStack1\",\"properties\":[{\"name\":\"ncols\",\"kind\":\"Any\",\"default\":null},{\"name\":\"nrows\",\"kind\":\"Any\",\"default\":null},{\"name\":\"allow_resize\",\"kind\":\"Any\",\"default\":true},{\"name\":\"allow_drag\",\"kind\":\"Any\",\"default\":true},{\"name\":\"state\",\"kind\":\"Any\",\"default\":[]}]},{\"type\":\"model\",\"name\":\"drag1\",\"properties\":[{\"name\":\"slider_width\",\"kind\":\"Any\",\"default\":5},{\"name\":\"slider_color\",\"kind\":\"Any\",\"default\":\"black\"},{\"name\":\"value\",\"kind\":\"Any\",\"default\":50}]},{\"type\":\"model\",\"name\":\"click1\",\"properties\":[{\"name\":\"terminal_output\",\"kind\":\"Any\",\"default\":\"\"},{\"name\":\"debug_name\",\"kind\":\"Any\",\"default\":\"\"},{\"name\":\"clears\",\"kind\":\"Any\",\"default\":0}]},{\"type\":\"model\",\"name\":\"FastWrapper1\",\"properties\":[{\"name\":\"object\",\"kind\":\"Any\",\"default\":null},{\"name\":\"style\",\"kind\":\"Any\",\"default\":null}]},{\"type\":\"model\",\"name\":\"NotificationArea1\",\"properties\":[{\"name\":\"js_events\",\"kind\":\"Any\",\"default\":{\"type\":\"map\"}},{\"name\":\"max_notifications\",\"kind\":\"Any\",\"default\":5},{\"name\":\"notifications\",\"kind\":\"Any\",\"default\":[]},{\"name\":\"position\",\"kind\":\"Any\",\"default\":\"bottom-right\"},{\"name\":\"_clear\",\"kind\":\"Any\",\"default\":0},{\"name\":\"types\",\"kind\":\"Any\",\"default\":[{\"type\":\"map\",\"entries\":[[\"type\",\"warning\"],[\"background\",\"#ffc107\"],[\"icon\",{\"type\":\"map\",\"entries\":[[\"className\",\"fas fa-exclamation-triangle\"],[\"tagName\",\"i\"],[\"color\",\"white\"]]}]]},{\"type\":\"map\",\"entries\":[[\"type\",\"info\"],[\"background\",\"#007bff\"],[\"icon\",{\"type\":\"map\",\"entries\":[[\"className\",\"fas fa-info-circle\"],[\"tagName\",\"i\"],[\"color\",\"white\"]]}]]}]}]},{\"type\":\"model\",\"name\":\"Notification\",\"properties\":[{\"name\":\"background\",\"kind\":\"Any\",\"default\":null},{\"name\":\"duration\",\"kind\":\"Any\",\"default\":3000},{\"name\":\"icon\",\"kind\":\"Any\",\"default\":null},{\"name\":\"message\",\"kind\":\"Any\",\"default\":\"\"},{\"name\":\"notification_type\",\"kind\":\"Any\",\"default\":null},{\"name\":\"_rendered\",\"kind\":\"Any\",\"default\":false},{\"name\":\"_destroyed\",\"kind\":\"Any\",\"default\":false}]},{\"type\":\"model\",\"name\":\"TemplateActions1\",\"properties\":[{\"name\":\"open_modal\",\"kind\":\"Any\",\"default\":0},{\"name\":\"close_modal\",\"kind\":\"Any\",\"default\":0}]},{\"type\":\"model\",\"name\":\"BootstrapTemplateActions1\",\"properties\":[{\"name\":\"open_modal\",\"kind\":\"Any\",\"default\":0},{\"name\":\"close_modal\",\"kind\":\"Any\",\"default\":0}]},{\"type\":\"model\",\"name\":\"TemplateEditor1\",\"properties\":[{\"name\":\"layout\",\"kind\":\"Any\",\"default\":[]}]},{\"type\":\"model\",\"name\":\"MaterialTemplateActions1\",\"properties\":[{\"name\":\"open_modal\",\"kind\":\"Any\",\"default\":0},{\"name\":\"close_modal\",\"kind\":\"Any\",\"default\":0}]},{\"type\":\"model\",\"name\":\"ReactiveESM1\",\"properties\":[{\"name\":\"esm_constants\",\"kind\":\"Any\",\"default\":{\"type\":\"map\"}}]},{\"type\":\"model\",\"name\":\"JSComponent1\",\"properties\":[{\"name\":\"esm_constants\",\"kind\":\"Any\",\"default\":{\"type\":\"map\"}}]},{\"type\":\"model\",\"name\":\"ReactComponent1\",\"properties\":[{\"name\":\"esm_constants\",\"kind\":\"Any\",\"default\":{\"type\":\"map\"}}]},{\"type\":\"model\",\"name\":\"AnyWidgetComponent1\",\"properties\":[{\"name\":\"esm_constants\",\"kind\":\"Any\",\"default\":{\"type\":\"map\"}}]},{\"type\":\"model\",\"name\":\"request_value1\",\"properties\":[{\"name\":\"fill\",\"kind\":\"Any\",\"default\":\"none\"},{\"name\":\"_synced\",\"kind\":\"Any\",\"default\":null},{\"name\":\"_request_sync\",\"kind\":\"Any\",\"default\":0}]}]}};\n",
              "  var render_items = [{\"docid\":\"3e848848-a678-4e2b-a235-63b62e6a10a8\",\"roots\":{\"11720b8d-0177-41bc-b5da-e4e5cbaa614f\":\"c39e91b8-c057-470e-a271-3779db016200\"},\"root_ids\":[\"11720b8d-0177-41bc-b5da-e4e5cbaa614f\"]}];\n",
              "  var docs = Object.values(docs_json)\n",
              "  if (!docs) {\n",
              "    return\n",
              "  }\n",
              "  const py_version = docs[0].version.replace('rc', '-rc.').replace('.dev', '-dev.')\n",
              "  async function embed_document(root) {\n",
              "    var Bokeh = get_bokeh(root)\n",
              "    await Bokeh.embed.embed_items_notebook(docs_json, render_items);\n",
              "    for (const render_item of render_items) {\n",
              "      for (const root_id of render_item.root_ids) {\n",
              "\tconst id_el = document.getElementById(root_id)\n",
              "\tif (id_el.children.length && id_el.children[0].hasAttribute('data-root-id')) {\n",
              "\t  const root_el = id_el.children[0]\n",
              "\t  root_el.id = root_el.id + '-rendered'\n",
              "\t  for (const child of root_el.children) {\n",
              "            // Ensure JupyterLab does not capture keyboard shortcuts\n",
              "            // see: https://jupyterlab.readthedocs.io/en/4.1.x/extension/notebook.html#keyboard-interaction-model\n",
              "\t    child.setAttribute('data-lm-suppress-shortcuts', 'true')\n",
              "\t  }\n",
              "\t}\n",
              "      }\n",
              "    }\n",
              "  }\n",
              "  function get_bokeh(root) {\n",
              "    if (root.Bokeh === undefined) {\n",
              "      return null\n",
              "    } else if (root.Bokeh.version !== py_version) {\n",
              "      if (root.Bokeh.versions === undefined || !root.Bokeh.versions.has(py_version)) {\n",
              "\treturn null\n",
              "      }\n",
              "      return root.Bokeh.versions.get(py_version);\n",
              "    } else if (root.Bokeh.version === py_version) {\n",
              "      return root.Bokeh\n",
              "    }\n",
              "    return null\n",
              "  }\n",
              "  function is_loaded(root) {\n",
              "    var Bokeh = get_bokeh(root)\n",
              "    return (Bokeh != null && Bokeh.Panel !== undefined)\n",
              "  }\n",
              "  if (is_loaded(root)) {\n",
              "    embed_document(root);\n",
              "  } else {\n",
              "    var attempts = 0;\n",
              "    var timer = setInterval(function(root) {\n",
              "      if (is_loaded(root)) {\n",
              "        clearInterval(timer);\n",
              "        embed_document(root);\n",
              "      } else if (document.readyState == \"complete\") {\n",
              "        attempts++;\n",
              "        if (attempts > 200) {\n",
              "          clearInterval(timer);\n",
              "\t  var Bokeh = get_bokeh(root)\n",
              "\t  if (Bokeh == null || Bokeh.Panel == null) {\n",
              "            console.warn(\"Panel: ERROR: Unable to run Panel code because Bokeh or Panel library is missing\");\n",
              "\t  } else {\n",
              "\t    console.warn(\"Panel: WARNING: Attempting to render but not all required libraries could be resolved.\")\n",
              "\t    embed_document(root)\n",
              "\t  }\n",
              "        }\n",
              "      }\n",
              "    }, 25, root)\n",
              "  }\n",
              "})(window);</script>"
            ],
            "application/vnd.holoviews_exec.v0+json": ""
          },
          "metadata": {
            "application/vnd.holoviews_exec.v0+json": {
              "id": "11720b8d-0177-41bc-b5da-e4e5cbaa614f"
            }
          }
        },
        {
          "output_type": "display_data",
          "data": {
            "text/html": [
              "\n",
              "<div class=\"logo-block\">\n",
              "<img src='data:image/png;base64,iVBORw0KGgoAAAANSUhEUgAAAEAAAABACAYAAACqaXHeAAAABHNCSVQICAgIfAhkiAAAAAlwSFlz\n",
              "AAAB+wAAAfsBxc2miwAAABl0RVh0U29mdHdhcmUAd3d3Lmlua3NjYXBlLm9yZ5vuPBoAAA6zSURB\n",
              "VHic7ZtpeFRVmsf/5966taWqUlUJ2UioBBJiIBAwCZtog9IOgjqACsogKtqirT2ttt069nQ/zDzt\n",
              "tI4+CrJIREFaFgWhBXpUNhHZQoKBkIUASchWla1S+3ar7r1nPkDaCAnZKoQP/D7mnPOe9/xy76n3\n",
              "nFSAW9ziFoPFNED2LLK5wcyBDObkb8ZkxuaoSYlI6ZcOKq1eWFdedqNzGHQBk9RMEwFAASkk0Xw3\n",
              "ETacDNi2vtvc7L0ROdw0AjoSotQVkKSvHQz/wRO1lScGModBFbDMaNRN1A4tUBCS3lk7BWhQkgpD\n",
              "lG4852/+7DWr1R3uHAZVQDsbh6ZPN7CyxUrCzJMRouusj0ipRwD2uKm0Zn5d2dFwzX1TCGhnmdGo\n",
              "G62Nna+isiUqhkzuKrkQaJlPEv5mFl2fvGg2t/VnzkEV8F5ioioOEWkLG86fvbpthynjdhXYZziQ\n",
              "x1hC9J2NFyi8vCTt91Fh04KGip0AaG9zuCk2wQCVyoNU3Hjezee9bq92duzzTmxsRJoy+jEZZZYo\n",
              "GTKJ6SJngdJqAfRzpze0+jHreUtPc7gpBLQnIYK6BYp/uGhw9YK688eu7v95ysgshcg9qSLMo3JC\n",
              "4jqLKQFBgdKDPoQ+Pltb8dUyQLpeDjeVgI6EgLIQFT5tEl3rn2losHVsexbZ3EyT9wE1uGdkIPcy\n",
              "BGxn8QUq1QrA5nqW5i2tLqvrrM9NK6AdkVIvL9E9bZL/oyfMVd/jqvc8LylzRBKDJSzIExwhQzuL\n",
              "QYGQj4rHfFTc8mUdu3E7yoLtbTe9gI4EqVgVkug2i5+uXGo919ixbRog+3fTbQ8qJe4ZOYNfMoTI\n",
              "OoshUNosgO60AisX15aeI2PSIp5KiFLI9ubb1vV3Qb2ltwLakUCDAkWX7/nHKRmmGIl9VgYsUhJm\n",
              "2NXjKYADtM1ygne9QQDIXlk49FBstMKx66D1v4+XuQr7vqTe0VcBHQlRWiOCbmmSYe2SqtL6q5rJ\n",
              "zsTb7lKx3FKOYC4DoqyS/B5bvLPxvD9Qtf6saxYLQGJErmDOdOMr/zo96km1nElr8bmPOBwI9COv\n",
              "HnFPRIwmkSOv9kcAS4heRsidOkpeWBgZM+UBrTFAXNYL5Vf2ii9c1trNzpYdaoVil3WIc+wdk+gQ\n",
              "noie3ecCcxt9ITcLAPWt/laGEO/9U6PmzZkenTtsSMQ8uYywJVW+grCstAvCIaAdArAsIWkRDDs/\n",
              "KzLm2YcjY1Lv0UdW73HabE9n6V66cxSzfEmuJssTpKGVp+0vHq73FwL46eOjpMpbRAnNmJFrGJNu\n",
              "Ukf9Yrz+3rghiumCKNXXWPhLYcjxGsIpoCMsIRoFITkW8AuyM8jC1+/QLx4bozCEJIq38+1rtpR6\n",
              "V/yzb8eBlRb3fo5l783N0CWolAzJHaVNzkrTzlEp2bQ2q3TC5gn6wpnoQAmwSiGh2GitnTmVMc5O\n",
              "UyfKWUKCIsU7+fZDKwqdT6DDpvkzAX4/+AMFjk0tDp5GRXLpQ2MUmhgDp5gxQT8+Y7hyPsMi8uxF\n",
              "71H0oebujHALECjFKaW9Lm68n18wXp2kVzIcABytD5iXFzg+WVXkegpAsOOYziqo0OkK76GyquC3\n",
              "ltZAzMhhqlSNmmWTE5T6e3IN05ITFLM4GdN0vtZ3ob8Jh1NAKXFbm5PtLU/eqTSlGjkNAJjdgn/N\n",
              "aedXa0tdi7+t9G0FIF49rtMSEgAs1kDLkTPO7ebm4IUWeyh1bKomXqlgMG6kJmHcSM0clYLJ8XtR\n",
              "1GTnbV3F6I5wCGikAb402npp1h1s7LQUZZSMIfALFOuL3UUrfnS8+rez7v9qcold5tilgHbO1fjK\n",
              "9ubb17u9oshxzMiUBKXWqJNxd+fqb0tLVs4lILFnK71H0Ind7uiPgACVcFJlrb0tV6DzxqqTIhUM\n",
              "CwDf1/rrVhTa33/3pGPxJYdQ2l2cbgVcQSosdx8uqnDtbGjh9SlDVSMNWhlnilfqZk42Th2ZpLpf\n",
              "xrHec5e815zrr0dfBZSwzkZfqsv+1FS1KUknUwPARVvItfKUY+cn57yP7qv07UE3p8B2uhUwLk09\n",
              "e0SCOrK+hbdYHYLjRIl71wWzv9jpEoeOHhGRrJAzyEyNiJuUqX0g2sBN5kGK6y2Blp5M3lsB9Qh4\n",
              "y2Ja6x6+i0ucmKgwMATwhSjdUu49tKrQ/pvN5d53ml2CGwCmJipmKjgmyuaXzNeL2a0AkQ01Th5j\n",
              "2DktO3Jyk8f9vcOBQHV94OK+fPumJmvQHxJoWkaKWq9Vs+yUsbq0zGT1I4RgeH2b5wef7+c7bl8F\n",
              "eKgoHVVZa8ZPEORzR6sT1BzDUAD/d9F78e2Tzv99v8D+fLVTqAKAsbGamKey1Mt9Ann4eH3gTXTz\n",
              "idWtAJ8PQWOk7NzSeQn/OTHDuEikVF1R4z8BQCy+6D1aWRfY0tTGG2OM8rRoPaeIj5ZHzJxszElN\n",
              "VM8K8JS5WOfv8mzRnQAKoEhmt8gyPM4lU9SmBK1MCQBnW4KONT86v1hZ1PbwSXPw4JWussVjtH9Y\n",
              "NCoiL9UoH/6PSu8jFrfY2t36erQHXLIEakMi1SydmzB31h3GGXFDFNPaK8Rme9B79Ixrd0WN+1ij\n",
              "NRQ/doRmuFLBkHSTOm5GruG+pFjFdAmorG4IXH1Qua6ASniclfFtDYt+oUjKipPrCQB7QBQ2lrgP\n",
              "fFzm+9XWUtcqJ3/5vDLDpJ79XHZk3u8nGZ42qlj1+ydtbxysCezrydp6ugmipNJ7WBPB5tydY0jP\n",
              "HaVNzs3QzeE4ZpTbI+ZbnSFPbVOw9vsfnVvqWnirPyCNGD08IlqtYkh2hjZ5dErEQzoNm+6ykyOt\n",
              "Lt5/PQEuSRRKo22VkydK+vvS1XEKlhCJAnsqvcVvH7f/ZU2R67eXbMEGAMiIV5oWZWiWvz5Fv2xG\n",
              "sjqNJQRvn3Rs2lji/lNP19VjAQDgD7FHhujZB9OGqYxRkZxixgRDVlqS6uEOFaJUVu0rPFzctrnF\n",
              "JqijImVp8dEKVWyUXDk92zAuMZ6bFwpBU1HrOw6AdhQgUooChb0+ItMbWJitSo5Ws3IAOGEOtL53\n",
              "0vHZih9sC4vtofZ7Qu6523V/fmGcds1TY3V36pUsBwAbSlxnVh2xLfAD/IAIMDf7XYIkNmXfpp2l\n",
              "18rkAJAy9HKFaIr/qULkeQQKy9zf1JgDB2uaeFNGijo5QsUyacNUUTOnGO42xSnv4oOwpDi1zYkc\n",
              "efUc3I5Gk6PhyTuVKaOGyLUAYPGIoY9Pu/atL/L92+4q9wbflRJ2Trpm/jPjdBtfnqB/dIThcl8A\n",
              "KG7hbRuKnb8qsQsVvVlTrwQAQMUlf3kwJI24Z4JhPMtcfng5GcH49GsrxJpGvvHIaeem2ma+KSjQ\n",
              "lIwUdYyCY8j4dE1KzijNnIP2llF2wcXNnsoapw9XxsgYAl6k+KzUXbi2yP3KR2ecf6z3BFsBICdW\n",
              "nvnIaG3eHybqX7vbpEqUMT+9OL4Qpe8VON7dXuFd39v19FoAABRVePbGGuXTszO0P7tu6lghUonE\n",
              "llRdrhArLvmKdh9u29jcFiRRkfLUxBiFNiqSU9icoZQHo5mYBI1MBgBH6wMNb+U7Pnw337H4gi1Y\n",
              "ciWs+uks3Z9fztUvfzxTm9Ne8XXkvQLHNytOOZeiD4e0PgkAIAYCYknKUNUDSXEKzdWNpnil7r4p\n",
              "xqkjTarZMtk/K8TQ6Qve78qqvXurGwIJqcOUKfUWHsm8KGvxSP68YudXq4pcj39X49uOK2X142O0\n",
              "Tz5/u/7TVybqH0rSya6ZBwD21/gubbrgWdDgEOx9WUhfBaC2ibcEBYm7a7x+ukrBMNcEZggyR0TE\n",
              "T8zUPjikQ4VosQZbTpS4vqizBKvqmvjsqnpfzaZyx9JPiz1/bfGKdgD45XB1zoIMzYbfTdS/NClB\n",
              "Gct0USiY3YL/g0LHy/uq/Ef6uo5+n0R/vyhp17Klpge763f8rMu6YU/zrn2nml+2WtH+Z+5IAAFc\n",
              "2bUTdTDOSNa9+cQY7YLsOIXhevEkCvzph7a8laecz/Un/z4/Ae04XeL3UQb57IwU9ZDr9UuKVajv\n",
              "nxp1+1UVIo/LjztZkKH59fO3G/JemqCfmaCRqbqbd90ZZ8FfjtkfAyD0J/9+C2h1hDwsSxvGjNDc\n",
              "b4zk5NfrSwiQblLHzZhg+Jf4aPlUwpDqkQqa9nimbt1/TDH8OitGMaQnj+RJS6B1fbF7SY1TqO5v\n",
              "/v0WAADl1f7zokgS7s7VT2DZ7pegUjBM7mjtiDZbcN4j0YrHH0rXpCtY0qPX0cVL0rv5jv/ZXend\n",
              "0u/EESYBAFBU4T4Qa5TflZOhTe7pmKpaP8kCVUVw1+yhXfJWvn1P3hnXi33JsTN6PnP3hHZ8Z3/h\n",
              "aLHzmkNPuPj7Bc/F/Q38CwjTpSwQXgE4Vmwry9tpfq/ZFgqFMy4AVDtCvi8rvMvOmv0N4YwbVgEA\n",
              "sPM72/KVnzfspmH7HQGCRLG2yL1+z8XwvPcdCbsAANh+xPzstgMtxeGKt+6MK3/tacfvwhWvIwMi\n",
              "oKEBtm0H7W+UVfkc/Y1V0BhoPlDr/w1w/eu1vjIgAgDg22OtX6/eYfnEz/focrZTHAFR+PSs56/7\n",
              "q32nwpjazxgwAQCwcU/T62t3WL7r6/jVRa6/byp1rei+Z98ZUAEAhEPHPc8fKnTU9nbgtnOe8h0l\n",
              "9hcGIqmODLQAHCy2Xti6v/XNRivf43f4fFvIteu854+VHnR7q9tfBlwAAGz+pnndB9vM26UebAe8\n",
              "SLHujPOTPVW+rwY+sxskAAC2HrA8t2Vvc7ffP1r9o+vwR2dcr92InIAbKKC1FZ5tB1tf+/G8p8sv\n",
              "N/9Q5zd/XR34LYCwV5JdccMEAMDBk45DH243r/X4xGvqxFa/GNpS7n6rwOwNWwHVE26oAADYurf1\n",
              "zx/utOzt+DMKYM0p17YtZZ5VNzqfsB2HewG1WXE8PoZ7gOclbTIvynZf9JV+fqZtfgs/8F/Nu5rB\n",
              "EIBmJ+8QRMmpU7EzGRsf2FzuePqYRbzh/zE26EwdrT10f6r6o8HOYzCJB9Dpff8tbnGLG8L/A/WE\n",
              "roTBs2RqAAAAAElFTkSuQmCC'\n",
              "     style='height:25px; border-radius:12px; display: inline-block; float: left; vertical-align: middle'></img>\n",
              "\n",
              "\n",
              "  <img src='data:image/png;base64,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'\n",
              "       style='height:15px; border-radius:12px; display: inline-block; float: left'></img>\n",
              "  \n",
              "\n",
              "\n",
              "  <img src='data:image/png;base64,iVBORw0KGgoAAAANSUhEUgAAACAAAAAgCAYAAABzenr0AAAABHNCSVQICAgIfAhkiAAAAAlwSFlz\n",
              "AAAFMAAABTABZarKtgAAABl0RVh0U29mdHdhcmUAd3d3Lmlua3NjYXBlLm9yZ5vuPBoAAArNSURB\n",
              "VFiFnVd5VFNXGv/ee0kgGyQhbFoXIKCFYEXEDVErTucMoKUOWA/VLsNSLPQgFTOdyrHPiIp1lFIQ\n",
              "OlaPShEG3EpPcQmISCuV1bQ1CLKIULeQhJA9JO+9+UMT0x5aPfOdc895373f/e7v/t537/ddBF5Q\n",
              "JBIJl81mJwCACEVRQBCEQhAEAQCgnghCURRCkmS7Wq2+WlJSYn0Rv8jzDHAcD0EQJIVGo5mFQuGF\n",
              "jIyMu39kq1KpkOrq6gU6nS6aIAiGzWY7VVBQ0P9/AcjNzWXy+fxcOp2uiY+Przm0d6+n8dblv/Fo\n",
              "kzM4SzYfPlRePvFnjnt6ehh1dXVv2mw2nlar/byoqMj8wgBwHBchCJIZEhJSeu1yHVi7vtu02t8+\n",
              "NykQ7BMWoOUMhXQsXLv5IQAwSJJEEASxcDicoeTk5DtCoZBy9XX69Gnv3t7ebJIky3EcH3guAKlU\n",
              "GoGiaOKWLVsOvhs7/9XXPMde3/IyIFbMnaPDuD5AUdQuOf2XlD0npTExMWYAgNbWVpZcLg8xGAzB\n",
              "JEnSvby82tPT052LaTQatLy8fBtJkt/s3Lnz5h8CwHFcRKPRNu/YsePAjh072KTs0IGCxRg8RgUB\n",
              "TGpSx6cmHgMAfNqN6Xa1GvJ/D35gYAAViURkcXHxUrPZHDRv3rxv4uLiDI7xPXv2bLdYLBUFBQWD\n",
              "jj7M8ZGbm8tkMpmSrKysQiaTScXGxtpqL7dManT6tcu5mgEWWJyOhicozpk+c3NsbKzNFcBbWWEf\n",
              "1Td9/upA30i3ZJv0h8bGxiSFQmFcuHDhOACAWCy+0d3dvX3lypUtzc3N9t8AiIuLk4SEhByLiooy\n",
              "AgAcO3ZsNlPgH3Cttb35JZo+bCYXIQAA9MDiUW7sWS1KN687w6Mera2twa2trfMvXboUOS28Pyb1\n",
              "U08McRtf/sXBSmt5cc35pqamVQqFwhoZGallMpnU/fv3e7RaberVq1d/AABAn1IfQqfTNRs3blQB\n",
              "AFy+fJk7Nja2XCKRnD3dNSorusPq6NfTPR+gPiEEoLRFXO1tS2+zavv27ReftjNttyr0S1/j0rUP\n",
              "PEJQwNwQYGgAACQSyXmNRhMtk8lYAAApKSlKDMP0+fn5QU4ACIKkxMfH1zjYuHnz5uspKSlOfdX7\n",
              "u68fvOePcCzKQR4YVCgATGfa/F3pnzaHWOAXSDyaMCqH2+r8VXErP3D+snXr1tV2dXW94dATExOr\n",
              "6XT6JgAAVCKRcDEMM4WHh9sAAHJyUqNu//wDymKx7AAAVVVVPiaTKXxByrYMvBsxEMSTwPXhuL+8\n",
              "e/fu9fv371+flvbemogYNz+TnsBOFEwMFO8/KzEYDKFVVVX+AAChoaGT7u7ud48ePRro0DEMs+bl\n",
              "5bFRNpud4O3tfdGBzq5uy/5wTUPM/q2zC9atmbVqeHg4Pi0t7WxGRoZFH5rw76I7LI8HqHfwPL7d\n",
              "rfVagzw1NfW81t4ePUfsP/OrnWZ6fPSuUqFQSEkkkrOjo6OvuQR5q0ajiXLoPj4+lzgcTjwKACLH\n",
              "9SqXy2kzhBO8haGo+UA2wZW+p880DxeveGt9aHx9fT09ctlq3sC0NT9e6xsbjuZblSxl7wKtVotM\n",
              "m6PnXvlmZJBtX91CEMQsxyJsNlteXl4udugIghAajQYFAEhPTx9AEGQOimGY8y4oLt63KlJkdB4t\n",
              "P282Z/c/dPrDH04ktJ9P2tfWXP3+2o1vHzunEp6Xq0lsGt08KzUrcSGTQ3n3XeefLCs5UqnT6Rap\n",
              "VCoEACA7O/snvV4f5gJooLa2NsihoygKKEVRzquTND2OCpttGXdG1tOxwOlgzdvE9v30rV+m3W5I\n",
              "2jfJNQmLH85QUUzPNTwvkAx0+vVGhq2/VV9fT+dyuZ01NTXOXQOA3fGxevXq2waDYY5r8KIoij5b\n",
              "jzB5Cz2oKdOo0erOm+1tVuVtBMZXElNMRJR1fvvjx9iPLQ/RjpuB0Xu/Vp7YmH1864YNG3oNBkPw\n",
              "VD7mzp1rJUnSzZUBmqsBggAgGFC/n6jVA+3WoN3tu1Gg39cg2tEx1Cg3CIJHsclxnl2HRorMN8Z0\n",
              "fRW+vr7GJ36Q56Z5h9BIknzGAMJWtvdQYs0EZe3/FSwqk5tpXEMb1JoYD+n8xRdQJl/fMPEgzKhS\n",
              "L40KCD7lGzg92qIyovpb3y/msT2un2psvFpWVvYyl8vtc1nDSXFXV5c7iqLOtEyS5LNBAADfWeKm\n",
              "Ly4uuvR1++sfv51/P5sfnHm2/Iy+mBmwsaHJbpt+Q0jHSS7TZ/PSNVkNJ/973OxtemD1s91CPb12\n",
              "h9MfvZsk5meo1eqo5ORkxTNWn7HR1tY2l8PhOAsUiqIolCRJcETtv/61qzNySYK5trZ2TCgUUiwW\n",
              "S1FSUhLR+bA/kAzwXcAbHa/cFhrTXrJ/v+7IkSPu3Je4Xm5eboJv2wba5QbO5fQwxhsP679Y+nFO\n",
              "jgAAoKSkJILFYjnBGI1G0YYNGwYBnqRoiqIQlKKojurq6gUAAAKBgKQoiuGYkJWVpTCZTOKmI1Xd\n",
              "HwnDcm+cOnOMw+H0FxYWbqpvqv/r9EV+bky+O+/QoUPiqJRt9JphTLFHbKBCR87tWL9EPN9oNIZn\n",
              "ZWUpXHaMCQQCEgCgsrIyEgBuoGq1+qpOp4t2GPH5/BvFxcVLHXpgYGDD8ePH/56Xl2cCAMjMzOxP\n",
              "S0s7pWfow4RCbz/fAF9RT0+P9yeffHJySSqev+9nxLD1FaAlTR8vlJ8vxxzsFhUVLRMIBB0OvwaD\n",
              "YRlFUdfQkpISK0EQ9J6eHgYAQEZGxl2z2Rw0MjJCBwBITk5+xOVyfzpw4ECSw5lQKKQIbxtJm4EN\n",
              "8eZ7jPz0oNv+dK5FG/jq54eH+IFr/S1KabBy0UerAvI+++wzD4vFEpCWljYEACCTyVh2ux3FcXwS\n",
              "BQCw2WxVdXV1bzrQRURE1FVVVTn1zMzM/pkzZ35/9OjRd0pLS19RqVQIy4/tCwDgOcPTQvFQEQBA\n",
              "aWnpK0ERK2LbyVllN341GUJ4YDu8zD5bKyur7O+85tx9Z2fnO1ar9QjA04KkpaVFs2LFir8olcq7\n",
              "YWFhJpFINNnX16drbGyMjY6Ovg0AIBaLjcuXL5d3d3d7XbhwIW704b3F479MeD1qVfJ5Og/bvb4R\n",
              "LwaDMZabm9uwflNa/z/3HOIv5NsDEK7XS7FeevXPvYNLvm5S/GglCK5KpZorlUobXE8g5ObmMqVS\n",
              "6UG1Wu1BURSHoijOiRMnwgoLC7coFAqBo+9Fm0KhEKStmvvto3TeucFN7pVJYbytarXaQyqVHsRx\n",
              "3N15TF1BuBaljr4rV66wOzo63mAymXdzcnKuwwtIUVHRMqvVGkgQxMV7NXvyJijGvcNXB/7z5Zdf\n",
              "bicI4gSO40NTAgD4bVnuODIAT2pElUq1FEEQO4fD6QsPD++fqixHEATj8/ntjoCrqKhwS0hIsJWV\n",
              "leURBHEOx3G563pT3tn5+flBDAbjg6CgoMMpKSlK17GhoSFMJpMFPk04DJIkEQzDzCwW6+5UD5Oa\n",
              "mhrfO3fufECS5GHXnf8pAAAAHMfdURTdimGYPjExsTo0NHTyj2ynEplMxurs7HyHIAiKJMlSHMct\n",
              "U9k9N2vl5+cH0en0TRiGWX18fC65vnh+LxqNBq2oqFhgMpmi7XY7arVaj+zdu/fxn/l/4bSZl5fH\n",
              "5nK5CQAQMtXznCRJePpEbwOAZhzHX4ix/wHzzC/tu64gcwAAAABJRU5ErkJggg=='\n",
              "       style='height:15px; border-radius:12px; display: inline-block; float: left'></img>\n",
              "  \n",
              "\n",
              "\n",
              "</div>\n"
            ]
          },
          "metadata": {}
        }
      ],
      "source": [
        "import os\n",
        "import h5py\n",
        "import numpy as np\n",
        "import pandas as pd\n",
        "import geopandas as gp\n",
        "from shapely.geometry import Point\n",
        "import geoviews as gv\n",
        "from geoviews import opts, tile_sources as gvts\n",
        "import holoviews as hv\n",
        "gv.extension('bokeh', 'matplotlib')\n",
        "import shapely\n",
        "import warnings\n",
        "from shapely.errors import ShapelyDeprecationWarning\n",
        "warnings.filterwarnings(\"ignore\", category=ShapelyDeprecationWarning)\n",
        "\n",
        "os.chdir('../../')"
      ]
    },
    {
      "cell_type": "code",
      "source": [
        "import earthaccess\n",
        "import pprint"
      ],
      "metadata": {
        "id": "We6kWlRAfZK1"
      },
      "execution_count": null,
      "outputs": []
    },
    {
      "cell_type": "code",
      "source": [
        "from google.colab import drive\n",
        "drive.mount('/content/drive')"
      ],
      "metadata": {
        "colab": {
          "base_uri": "https://localhost:8080/"
        },
        "id": "00Ut_zMNtUq6",
        "outputId": "262f536d-7d22-4908-f523-6340a964a084"
      },
      "execution_count": null,
      "outputs": [
        {
          "output_type": "stream",
          "name": "stdout",
          "text": [
            "Mounted at /content/drive\n"
          ]
        }
      ]
    },
    {
      "cell_type": "code",
      "source": [
        "%cd /content/drive/MyDrive/PhD_Main_Folder/Geo_Data/GEDI_DEV_GUAN"
      ],
      "metadata": {
        "colab": {
          "base_uri": "https://localhost:8080/"
        },
        "id": "z2klyQuqtkNt",
        "outputId": "00a76d3b-0ada-4fe4-d241-8d0b719a8e66"
      },
      "execution_count": null,
      "outputs": [
        {
          "output_type": "stream",
          "name": "stdout",
          "text": [
            "/content/drive/MyDrive/PhD_Main_Folder/Geo_Data/GEDI_DEV_GUAN\n"
          ]
        }
      ]
    },
    {
      "cell_type": "code",
      "source": [
        "# path = '/content/drive/MyDrive/PhD_Main_Folder/Geo_Data/GEDI_Dev_ES'\n",
        "\n",
        "path = '/content/drive/MyDrive/PhD_Main_Folder/Geo_Data/GEDI_DEV_GUAN'"
      ],
      "metadata": {
        "id": "Wlu88d5utoAA"
      },
      "execution_count": null,
      "outputs": []
    },
    {
      "cell_type": "code",
      "source": [
        "!git clone https://github.com/nasa/GEDI-Data-Resources.git"
      ],
      "metadata": {
        "colab": {
          "base_uri": "https://localhost:8080/"
        },
        "id": "8Q21ouElWIju",
        "outputId": "93cbe8e2-4f9b-42b5-80b1-8e97a385d009"
      },
      "execution_count": null,
      "outputs": [
        {
          "output_type": "stream",
          "name": "stdout",
          "text": [
            "fatal: destination path 'GEDI-Data-Resources' already exists and is not an empty directory.\n"
          ]
        }
      ]
    },
    {
      "cell_type": "markdown",
      "metadata": {
        "id": "n0Wx-VX_si7k"
      },
      "source": [
        "## 1.2 Set Up the Working Environment and Retrieve Files<a id=\"1.2\"></a>\n",
        "#### The input directory is defined as the current working directory. Note that you will need to have the Jupyter Notebook and example data (.h5 and .geojson) stored in this directory in order to execute the tutorial successfully."
      ]
    },
    {
      "cell_type": "code",
      "execution_count": null,
      "metadata": {
        "id": "wWJXd99Vsi7l"
      },
      "outputs": [],
      "source": [
        "# inDir = os.getcwd()"
      ]
    },
    {
      "cell_type": "markdown",
      "source": [
        "use to get files by a geojson"
      ],
      "metadata": {
        "id": "Jj3S92pnT9zp"
      }
    },
    {
      "cell_type": "code",
      "source": [
        "collections = earthaccess.collection_query().keyword('gedi').version('002').provider('LPCLOUD').get()\n",
        "print(collections[0].summary())"
      ],
      "metadata": {
        "id": "PLiMZb4QUC3h",
        "colab": {
          "base_uri": "https://localhost:8080/"
        },
        "outputId": "79dc250e-7064-4809-e450-0769dec0bfeb"
      },
      "execution_count": null,
      "outputs": [
        {
          "output_type": "stream",
          "name": "stdout",
          "text": [
            "{'short-name': 'GEDI02_A', 'concept-id': 'C2142771958-LPCLOUD', 'version': '002', 'file-type': \"[{'Format': 'HDF5', 'FormatType': 'Native', 'FormatDescription': 'Hierarchical Data Format Version 5', 'Media': ['Earthdata Cloud', 'HTTPS'], 'AverageFileSize': 1.4394, 'AverageFileSizeUnit': 'GB', 'TotalCollectionFileSize': 108.7314382, 'TotalCollectionFileSizeUnit': 'TB'}]\", 'get-data': ['https://search.earthdata.nasa.gov/search?q=C2142771958-LPCLOUD'], 'cloud-info': {'Region': 'us-west-2', 'S3BucketAndObjectPrefixNames': ['s3://lp-prod-protected/GEDI02_A.002', 's3://lp-prod-public/GEDI02_A.002'], 'S3CredentialsAPIEndpoint': 'https://data.lpdaac.earthdatacloud.nasa.gov/s3credentials', 'S3CredentialsAPIDocumentationURL': 'https://data.lpdaac.earthdatacloud.nasa.gov/s3credentialsREADME'}}\n"
          ]
        }
      ]
    },
    {
      "cell_type": "code",
      "source": [
        "gedi_collectionIDs = {}\n",
        "for c in collections:\n",
        "    gedi_collectionIDs[c.summary()['short-name']] = c.summary()['concept-id']\n",
        "gedi_collectionIDs"
      ],
      "metadata": {
        "id": "hS0_05HNUNs6",
        "colab": {
          "base_uri": "https://localhost:8080/"
        },
        "outputId": "1801be79-99be-41d4-87b4-bf6e8814f1d7"
      },
      "execution_count": null,
      "outputs": [
        {
          "output_type": "execute_result",
          "data": {
            "text/plain": [
              "{'GEDI02_A': 'C2142771958-LPCLOUD',\n",
              " 'GEDI01_B': 'C2142749196-LPCLOUD',\n",
              " 'GEDI02_B': 'C2142776747-LPCLOUD'}"
            ]
          },
          "metadata": {},
          "execution_count": 11
        }
      ]
    },
    {
      "cell_type": "code",
      "source": [
        "#gedi_products =  ['GEDI02_A']   #['GEDI01_B', 'GEDI02_B', 'GEDI02_A']\n",
        "gedi_products =  ['GEDI01_B']   #['GEDI01_B', 'GEDI02_B', 'GEDI02_A']\n",
        "conceptID = [gedi_collectionIDs[g] for g in gedi_products]\n",
        "conceptID"
      ],
      "metadata": {
        "id": "eh9LsZIcUP8Z",
        "colab": {
          "base_uri": "https://localhost:8080/"
        },
        "outputId": "aa4e7772-ee09-49ba-ab8b-1d8969a1f12b"
      },
      "execution_count": null,
      "outputs": [
        {
          "output_type": "execute_result",
          "data": {
            "text/plain": [
              "['C2142749196-LPCLOUD']"
            ]
          },
          "metadata": {},
          "execution_count": 12
        }
      ]
    },
    {
      "cell_type": "code",
      "source": [
        "tempRange = ('2019-01-01', '2024-12-31')"
      ],
      "metadata": {
        "id": "wpI8oKGtUSGE"
      },
      "execution_count": null,
      "outputs": []
    },
    {
      "cell_type": "markdown",
      "source": [
        "At GUAN NEON site add a gejson the same bounds as a laz file: NEON_D04_GUAN_DP1_726000_1988000_classified_point_cloud"
      ],
      "metadata": {
        "id": "qGgz8KW8iglp"
      }
    },
    {
      "cell_type": "code",
      "source": [
        "polygon = gp.read_file('/content/drive/MyDrive/PhD_Main_Folder/Geo_Data/GEDI_DEV_GUAN/Expanded_NEON_D04_GUAN_DP1_726000_1988000_classified_point_cloud.geojson')\n",
        "polygon['geometry'][0]"
      ],
      "metadata": {
        "id": "VF_M0MCUUT-g",
        "colab": {
          "base_uri": "https://localhost:8080/",
          "height": 122
        },
        "outputId": "2bc0843e-f128-4a39-a9cd-fcc57778067f"
      },
      "execution_count": null,
      "outputs": [
        {
          "output_type": "execute_result",
          "data": {
            "text/plain": [
              "<POLYGON ((-66.866 17.978, -66.866 17.969, -66.857 17.969, -66.857 17.978, -...>"
            ],
            "image/svg+xml": "<svg xmlns=\"http://www.w3.org/2000/svg\" xmlns:xlink=\"http://www.w3.org/1999/xlink\" width=\"100.0\" height=\"100.0\" viewBox=\"-66.86665412649579 17.969031850236107 0.010192528963784753 0.009260446021500002\" preserveAspectRatio=\"xMinYMin meet\"><g transform=\"matrix(1,0,0,-1,0,35.94732414649371)\"><path fill-rule=\"evenodd\" fill=\"#66cc99\" stroke=\"#555555\" stroke-width=\"0.00020385057927569506\" opacity=\"0.6\" d=\"M -66.86627662542305,17.977914795184873 L -66.86627662542305,17.96940935130884 L -66.85683909860474,17.96940935130884 L -66.85683909860474,17.977914795184873 L -66.86627662542305,17.977914795184873 z\" /></g></svg>"
          },
          "metadata": {},
          "execution_count": 14
        }
      ]
    },
    {
      "cell_type": "code",
      "source": [
        "polygon"
      ],
      "metadata": {
        "colab": {
          "base_uri": "https://localhost:8080/",
          "height": 89
        },
        "id": "0FdoQEKa5fP_",
        "outputId": "fcbc16a6-f2f1-4abc-bb73-3c6e132b4dfb"
      },
      "execution_count": null,
      "outputs": [
        {
          "output_type": "execute_result",
          "data": {
            "text/plain": [
              "                                            geometry\n",
              "0  POLYGON ((-66.86628 17.97791, -66.86628 17.969..."
            ],
            "text/html": [
              "\n",
              "  <div id=\"df-b7620af8-0a62-420d-9b7f-c834fe2403f0\" class=\"colab-df-container\">\n",
              "    <div>\n",
              "<style scoped>\n",
              "    .dataframe tbody tr th:only-of-type {\n",
              "        vertical-align: middle;\n",
              "    }\n",
              "\n",
              "    .dataframe tbody tr th {\n",
              "        vertical-align: top;\n",
              "    }\n",
              "\n",
              "    .dataframe thead th {\n",
              "        text-align: right;\n",
              "    }\n",
              "</style>\n",
              "<table border=\"1\" class=\"dataframe\">\n",
              "  <thead>\n",
              "    <tr style=\"text-align: right;\">\n",
              "      <th></th>\n",
              "      <th>geometry</th>\n",
              "    </tr>\n",
              "  </thead>\n",
              "  <tbody>\n",
              "    <tr>\n",
              "      <th>0</th>\n",
              "      <td>POLYGON ((-66.86628 17.97791, -66.86628 17.969...</td>\n",
              "    </tr>\n",
              "  </tbody>\n",
              "</table>\n",
              "</div>\n",
              "    <div class=\"colab-df-buttons\">\n",
              "\n",
              "  <div class=\"colab-df-container\">\n",
              "    <button class=\"colab-df-convert\" onclick=\"convertToInteractive('df-b7620af8-0a62-420d-9b7f-c834fe2403f0')\"\n",
              "            title=\"Convert this dataframe to an interactive table.\"\n",
              "            style=\"display:none;\">\n",
              "\n",
              "  <svg xmlns=\"http://www.w3.org/2000/svg\" height=\"24px\" viewBox=\"0 -960 960 960\">\n",
              "    <path d=\"M120-120v-720h720v720H120Zm60-500h600v-160H180v160Zm220 220h160v-160H400v160Zm0 220h160v-160H400v160ZM180-400h160v-160H180v160Zm440 0h160v-160H620v160ZM180-180h160v-160H180v160Zm440 0h160v-160H620v160Z\"/>\n",
              "  </svg>\n",
              "    </button>\n",
              "\n",
              "  <style>\n",
              "    .colab-df-container {\n",
              "      display:flex;\n",
              "      gap: 12px;\n",
              "    }\n",
              "\n",
              "    .colab-df-convert {\n",
              "      background-color: #E8F0FE;\n",
              "      border: none;\n",
              "      border-radius: 50%;\n",
              "      cursor: pointer;\n",
              "      display: none;\n",
              "      fill: #1967D2;\n",
              "      height: 32px;\n",
              "      padding: 0 0 0 0;\n",
              "      width: 32px;\n",
              "    }\n",
              "\n",
              "    .colab-df-convert:hover {\n",
              "      background-color: #E2EBFA;\n",
              "      box-shadow: 0px 1px 2px rgba(60, 64, 67, 0.3), 0px 1px 3px 1px rgba(60, 64, 67, 0.15);\n",
              "      fill: #174EA6;\n",
              "    }\n",
              "\n",
              "    .colab-df-buttons div {\n",
              "      margin-bottom: 4px;\n",
              "    }\n",
              "\n",
              "    [theme=dark] .colab-df-convert {\n",
              "      background-color: #3B4455;\n",
              "      fill: #D2E3FC;\n",
              "    }\n",
              "\n",
              "    [theme=dark] .colab-df-convert:hover {\n",
              "      background-color: #434B5C;\n",
              "      box-shadow: 0px 1px 3px 1px rgba(0, 0, 0, 0.15);\n",
              "      filter: drop-shadow(0px 1px 2px rgba(0, 0, 0, 0.3));\n",
              "      fill: #FFFFFF;\n",
              "    }\n",
              "  </style>\n",
              "\n",
              "    <script>\n",
              "      const buttonEl =\n",
              "        document.querySelector('#df-b7620af8-0a62-420d-9b7f-c834fe2403f0 button.colab-df-convert');\n",
              "      buttonEl.style.display =\n",
              "        google.colab.kernel.accessAllowed ? 'block' : 'none';\n",
              "\n",
              "      async function convertToInteractive(key) {\n",
              "        const element = document.querySelector('#df-b7620af8-0a62-420d-9b7f-c834fe2403f0');\n",
              "        const dataTable =\n",
              "          await google.colab.kernel.invokeFunction('convertToInteractive',\n",
              "                                                    [key], {});\n",
              "        if (!dataTable) return;\n",
              "\n",
              "        const docLinkHtml = 'Like what you see? Visit the ' +\n",
              "          '<a target=\"_blank\" href=https://colab.research.google.com/notebooks/data_table.ipynb>data table notebook</a>'\n",
              "          + ' to learn more about interactive tables.';\n",
              "        element.innerHTML = '';\n",
              "        dataTable['output_type'] = 'display_data';\n",
              "        await google.colab.output.renderOutput(dataTable, element);\n",
              "        const docLink = document.createElement('div');\n",
              "        docLink.innerHTML = docLinkHtml;\n",
              "        element.appendChild(docLink);\n",
              "      }\n",
              "    </script>\n",
              "  </div>\n",
              "\n",
              "\n",
              "  <div id=\"id_fc4472d2-3991-459a-b9d2-72b3f1ddc72b\">\n",
              "    <style>\n",
              "      .colab-df-generate {\n",
              "        background-color: #E8F0FE;\n",
              "        border: none;\n",
              "        border-radius: 50%;\n",
              "        cursor: pointer;\n",
              "        display: none;\n",
              "        fill: #1967D2;\n",
              "        height: 32px;\n",
              "        padding: 0 0 0 0;\n",
              "        width: 32px;\n",
              "      }\n",
              "\n",
              "      .colab-df-generate:hover {\n",
              "        background-color: #E2EBFA;\n",
              "        box-shadow: 0px 1px 2px rgba(60, 64, 67, 0.3), 0px 1px 3px 1px rgba(60, 64, 67, 0.15);\n",
              "        fill: #174EA6;\n",
              "      }\n",
              "\n",
              "      [theme=dark] .colab-df-generate {\n",
              "        background-color: #3B4455;\n",
              "        fill: #D2E3FC;\n",
              "      }\n",
              "\n",
              "      [theme=dark] .colab-df-generate:hover {\n",
              "        background-color: #434B5C;\n",
              "        box-shadow: 0px 1px 3px 1px rgba(0, 0, 0, 0.15);\n",
              "        filter: drop-shadow(0px 1px 2px rgba(0, 0, 0, 0.3));\n",
              "        fill: #FFFFFF;\n",
              "      }\n",
              "    </style>\n",
              "    <button class=\"colab-df-generate\" onclick=\"generateWithVariable('polygon')\"\n",
              "            title=\"Generate code using this dataframe.\"\n",
              "            style=\"display:none;\">\n",
              "\n",
              "  <svg xmlns=\"http://www.w3.org/2000/svg\" height=\"24px\"viewBox=\"0 0 24 24\"\n",
              "       width=\"24px\">\n",
              "    <path d=\"M7,19H8.4L18.45,9,17,7.55,7,17.6ZM5,21V16.75L18.45,3.32a2,2,0,0,1,2.83,0l1.4,1.43a1.91,1.91,0,0,1,.58,1.4,1.91,1.91,0,0,1-.58,1.4L9.25,21ZM18.45,9,17,7.55Zm-12,3A5.31,5.31,0,0,0,4.9,8.1,5.31,5.31,0,0,0,1,6.5,5.31,5.31,0,0,0,4.9,4.9,5.31,5.31,0,0,0,6.5,1,5.31,5.31,0,0,0,8.1,4.9,5.31,5.31,0,0,0,12,6.5,5.46,5.46,0,0,0,6.5,12Z\"/>\n",
              "  </svg>\n",
              "    </button>\n",
              "    <script>\n",
              "      (() => {\n",
              "      const buttonEl =\n",
              "        document.querySelector('#id_fc4472d2-3991-459a-b9d2-72b3f1ddc72b button.colab-df-generate');\n",
              "      buttonEl.style.display =\n",
              "        google.colab.kernel.accessAllowed ? 'block' : 'none';\n",
              "\n",
              "      buttonEl.onclick = () => {\n",
              "        google.colab.notebook.generateWithVariable('polygon');\n",
              "      }\n",
              "      })();\n",
              "    </script>\n",
              "  </div>\n",
              "\n",
              "    </div>\n",
              "  </div>\n"
            ],
            "application/vnd.google.colaboratory.intrinsic+json": {
              "type": "dataframe",
              "variable_name": "polygon",
              "summary": "{\n  \"name\": \"polygon\",\n  \"rows\": 1,\n  \"fields\": [\n    {\n      \"column\": \"geometry\",\n      \"properties\": {\n        \"dtype\": \"geometry\",\n        \"num_unique_values\": 1,\n        \"samples\": [\n          \"POLYGON ((-66.86627662542305 17.977914795184873, -66.86627662542305 17.96940935130884, -66.85683909860474 17.96940935130884, -66.85683909860474 17.977914795184873, -66.86627662542305 17.977914795184873))\"\n        ],\n        \"semantic_type\": \"\",\n        \"description\": \"\"\n      }\n    }\n  ]\n}"
            }
          },
          "metadata": {},
          "execution_count": 15
        }
      ]
    },
    {
      "cell_type": "code",
      "source": [
        "params = {\n",
        "    \"concept_id\" : conceptID,\n",
        "    \"temporal\": tempRange,\n",
        "    \"polygon\": list(polygon['geometry'][0].exterior.coords),\n",
        "    # bounding_box = bbx,\n",
        "    \"count\": 200\n",
        "}"
      ],
      "metadata": {
        "id": "OBi0GYoTUVS6"
      },
      "execution_count": null,
      "outputs": []
    },
    {
      "cell_type": "code",
      "source": [
        "results = earthaccess.search_data(**params)"
      ],
      "metadata": {
        "id": "4u7JxMTEUXYc"
      },
      "execution_count": null,
      "outputs": []
    },
    {
      "cell_type": "code",
      "source": [
        "results[:12]"
      ],
      "metadata": {
        "id": "ZUAMhb2yUain",
        "colab": {
          "base_uri": "https://localhost:8080/"
        },
        "outputId": "f35bac3b-4e35-4afb-c69f-d3f0e0e29218"
      },
      "execution_count": null,
      "outputs": [
        {
          "output_type": "execute_result",
          "data": {
            "text/plain": [
              "[Collection: {'ShortName': 'GEDI01_B', 'Version': '002'}\n",
              " Spatial coverage: {'HorizontalSpatialDomain': {'Geometry': {'GPolygons': [{'Boundary': {'Points': [{'Longitude': -80.0483596248, 'Latitude': 0.1197348691}, {'Longitude': -77.8861004737, 'Latitude': 3.1852324528}, {'Longitude': -75.7097274677, 'Latitude': 6.2447998207}, {'Longitude': -73.5047667725, 'Latitude': 9.2929310084}, {'Longitude': -71.2571105702, 'Latitude': 12.3233107629}, {'Longitude': -68.9517129957, 'Latitude': 15.3294916764}, {'Longitude': -66.5727501951, 'Latitude': 18.3046235119}, {'Longitude': -34.5827625656, 'Latitude': 44.0475734317}, {'Longitude': -30.0364328116, 'Latitude': 45.9217996864}, {'Longitude': -25.1772128789, 'Latitude': 47.5817573046}, {'Longitude': -20.0094821057, 'Latitude': 48.9981695221}, {'Longitude': -14.5594866683, 'Latitude': 50.1474244326}, {'Longitude': -8.8666181124, 'Latitude': 51.0033295047}, {'Longitude': -2.9935363307, 'Latitude': 51.5494708557}, {'Longitude': 2.9812149121, 'Latitude': 51.7695573974}, {'Longitude': 4.2767170273, 'Latitude': 51.7732031795}, {'Longitude': 4.2770702711, 'Latitude': 51.8235647114}, {'Longitude': 2.9797208506, 'Latitude': 51.8199109251}, {'Longitude': -3.0022300387, 'Latitude': 51.5995421853}, {'Longitude': -8.882053935, 'Latitude': 51.0527469345}, {'Longitude': -14.5810718622, 'Latitude': 50.1958516802}, {'Longitude': -20.0363200702, 'Latitude': 49.0453562362}, {'Longitude': -25.2084561203, 'Latitude': 47.6275019793}, {'Longitude': -30.0711314365, 'Latitude': 45.9660056332}, {'Longitude': -34.6215531492, 'Latitude': 44.0895200578}, {'Longitude': -66.6146819417, 'Latitude': 18.3354744033}, {'Longitude': -68.993447422, 'Latitude': 15.359766055}, {'Longitude': -71.2986642856, 'Latitude': 12.353117843}, {'Longitude': -73.5461670734, 'Latitude': 9.3223789607}, {'Longitude': -75.7510107392, 'Latitude': 6.2739937097}, {'Longitude': -77.9273060318, 'Latitude': 3.2142793726}, {'Longitude': -80.089532667, 'Latitude': 0.1487369648}, {'Longitude': -80.0483596248, 'Latitude': 0.1197348691}]}}]}}}\n",
              " Temporal coverage: {'RangeDateTime': {'BeginningDateTime': '2019-09-03T04:26:45.000Z', 'EndingDateTime': '2019-09-03T05:59:34.000Z'}}\n",
              " Size(MB): 1891.13\n",
              " Data: ['https://data.lpdaac.earthdatacloud.nasa.gov/lp-prod-protected/GEDI01_B.002/GEDI01_B_2019246042645_O04104_02_T00259_02_005_02_V002/GEDI01_B_2019246042645_O04104_02_T00259_02_005_02_V002.h5'],\n",
              " Collection: {'ShortName': 'GEDI01_B', 'Version': '002'}\n",
              " Spatial coverage: {'HorizontalSpatialDomain': {'Geometry': {'GPolygons': [{'Boundary': {'Points': [{'Longitude': -138.468630987, 'Latitude': 51.772506191}, {'Longitude': -132.4835018299, 'Latitude': 51.6492417797}, {'Longitude': -126.5756065859, 'Latitude': 51.1984835949}, {'Longitude': -120.8271582737, 'Latitude': 50.4316602065}, {'Longitude': -115.3044743535, 'Latitude': 49.366563395}, {'Longitude': -110.0577089031, 'Latitude': 48.0266678324}, {'Longitude': -105.1118284975, 'Latitude': 46.4375317022}, {'Longitude': -100.4794667831, 'Latitude': 44.6265518315}, {'Longitude': -96.1544062199, 'Latitude': 42.6182892919}, {'Longitude': -92.1259309669, 'Latitude': 40.4389010727}, {'Longitude': -88.3737673184, 'Latitude': 38.1102536673}, {'Longitude': -84.8736250798, 'Latitude': 35.6532401619}, {'Longitude': -81.6003211618, 'Latitude': 33.0848560155}, {'Longitude': -78.5291662344, 'Latitude': 30.4215160932}, {'Longitude': -75.6359649983, 'Latitude': 27.6772717336}, {'Longitude': -72.8977252431, 'Latitude': 24.8639952253}, {'Longitude': -70.2934868769, 'Latitude': 21.993005884}, {'Longitude': -67.8022571658, 'Latitude': 19.0729074073}, {'Longitude': -65.406047587, 'Latitude': 16.1126608737}, {'Longitude': -63.0876453768, 'Latitude': 13.1201340686}, {'Longitude': -60.8311690735, 'Latitude': 10.1018463935}, {'Longitude': -58.6212516241, 'Latitude': 7.0645404572}, {'Longitude': -56.4446167045, 'Latitude': 4.0152733896}, {'Longitude': -54.2845923189, 'Latitude': 0.9573449823}, {'Longitude': -53.9326238353, 'Latitude': 0.4577924705}, {'Longitude': -53.8914506226, 'Latitude': 0.4867961496}, {'Longitude': -54.2434178293, 'Latitude': 0.9863532703}, {'Longitude': -56.4034087746, 'Latitude': 4.0443702019}, {'Longitude': -58.579972883, 'Latitude': 7.0938368246}, {'Longitude': -60.7897770187, 'Latitude': 10.1314418572}, {'Longitude': -63.0461095134, 'Latitude': 13.1501373645}, {'Longitude': -65.3643404549, 'Latitude': 16.143174332}, {'Longitude': -67.7603686731, 'Latitude': 19.1040416376}, {'Longitude': -70.2514226997, 'Latitude': 22.0248716626}, {'Longitude': -72.8555161019, 'Latitude': 24.8967073319}, {'Longitude': -75.5936706131, 'Latitude': 27.7109450033}, {'Longitude': -78.4868836481, 'Latitude': 30.4562634805}, {'Longitude': -81.5582008041, 'Latitude': 33.1207917868}, {'Longitude': -84.8318841093, 'Latitude': 35.6904759472}, {'Longitude': -88.3326919869, 'Latitude': 38.1488847588}, {'Longitude': -92.0859213104, 'Latitude': 40.4790209569}, {'Longitude': -96.1159556, 'Latitude': 42.6599576968}, {'Longitude': -100.4432009691, 'Latitude': 44.6698028585}, {'Longitude': -105.0784820797, 'Latitude': 46.4823497999}, {'Longitude': -110.028125937, 'Latitude': 48.0729846948}, {'Longitude': -115.2795671503, 'Latitude': 49.414244612}, {'Longitude': -120.8078227726, 'Latitude': 50.4804944933}, {'Longitude': -126.5626313585, 'Latitude': 51.2481856712}, {'Longitude': -132.4774769214, 'Latitude': 51.6994650037}, {'Longitude': -138.4692684566, 'Latitude': 51.8228666536}, {'Longitude': -138.468630987, 'Latitude': 51.772506191}]}}]}}}\n",
              " Temporal coverage: {'RangeDateTime': {'BeginningDateTime': '2020-04-13T21:20:32.000Z', 'EndingDateTime': '2020-04-13T22:53:27.000Z'}}\n",
              " Size(MB): 3987.35\n",
              " Data: ['https://data.lpdaac.earthdatacloud.nasa.gov/lp-prod-protected/GEDI01_B.002/GEDI01_B_2020104212032_O07573_03_T01382_02_005_01_V002/GEDI01_B_2020104212032_O07573_03_T01382_02_005_01_V002.h5'],\n",
              " Collection: {'ShortName': 'GEDI01_B', 'Version': '002'}\n",
              " Spatial coverage: {'HorizontalSpatialDomain': {'Geometry': {'GPolygons': [{'Boundary': {'Points': [{'Longitude': -80.0912596637, 'Latitude': -0.0356071732}, {'Longitude': -77.937187685, 'Latitude': 3.0236188982}, {'Longitude': -75.7694475814, 'Latitude': 6.0772628394}, {'Longitude': -73.5738694418, 'Latitude': 9.1207653297}, {'Longitude': -71.337304635, 'Latitude': 12.1460670051}, {'Longitude': -69.0435339877, 'Latitude': 15.1492649972}, {'Longitude': -66.6779529358, 'Latitude': 18.121581267}, {'Longitude': -34.0080735525, 'Latitude': 44.2745967307}, {'Longitude': -29.432532823, 'Latitude': 46.123233783}, {'Longitude': -24.548712148, 'Latitude': 47.7530868307}, {'Longitude': -19.3473697715, 'Latitude': 49.1420389346}, {'Longitude': -13.8719357808, 'Latitude': 50.2588800795}, {'Longitude': -8.160126628, 'Latitude': 51.0812903094}, {'Longitude': -2.2776971681, 'Latitude': 51.5905900379}, {'Longitude': 3.6939978464, 'Latitude': 51.7739134553}, {'Longitude': 3.8221063539, 'Latitude': 51.7741790977}, {'Longitude': 3.821904712, 'Latitude': 51.824540949}, {'Longitude': 3.6933039209, 'Latitude': 51.8242736326}, {'Longitude': -2.2855952478, 'Latitude': 51.6407126935}, {'Longitude': -8.1748596139, 'Latitude': 51.1307954481}, {'Longitude': -13.8928779925, 'Latitude': 50.3074316517}, {'Longitude': -19.3736839056, 'Latitude': 49.1893705437}, {'Longitude': -24.5795028391, 'Latitude': 47.7990015497}, {'Longitude': -29.4668855503, 'Latitude': 46.1676169174}, {'Longitude': -34.0466169795, 'Latitude': 44.3167307231}, {'Longitude': -66.71990223, 'Latitude': 18.1523564148}, {'Longitude': -69.0852847946, 'Latitude': 15.1794723155}, {'Longitude': -71.3788717969, 'Latitude': 12.1758189557}, {'Longitude': -73.6152846211, 'Latitude': 9.1501651802}, {'Longitude': -75.810744519, 'Latitude': 6.1064193343}, {'Longitude': -77.9784113263, 'Latitude': 3.0526312527}, {'Longitude': -80.1324538074, 'Latitude': -0.0066352142}, {'Longitude': -80.0912596637, 'Latitude': -0.0356071732}]}}]}}}\n",
              " Temporal coverage: {'RangeDateTime': {'BeginningDateTime': '2020-07-27T18:23:49.000Z', 'EndingDateTime': '2020-07-27T19:56:41.000Z'}}\n",
              " Size(MB): 1768.97\n",
              " Data: ['https://data.lpdaac.earthdatacloud.nasa.gov/lp-prod-protected/GEDI01_B.002/GEDI01_B_2020209182349_O09199_02_T03105_02_005_01_V002/GEDI01_B_2020209182349_O09199_02_T03105_02_005_01_V002.h5'],\n",
              " Collection: {'ShortName': 'GEDI01_B', 'Version': '002'}\n",
              " Spatial coverage: {'HorizontalSpatialDomain': {'Geometry': {'GPolygons': [{'Boundary': {'Points': [{'Longitude': -80.1898972468, 'Latitude': -0.1065394117}, {'Longitude': -78.0358448416, 'Latitude': 2.9525179716}, {'Longitude': -75.8693686837, 'Latitude': 6.005103629}, {'Longitude': -73.6746892975, 'Latitude': 9.0480372009}, {'Longitude': -71.439961697, 'Latitude': 12.0723958846}, {'Longitude': -69.1470012321, 'Latitude': 15.0762573803}, {'Longitude': -66.7828799839, 'Latitude': 18.0488940888}, {'Longitude': -34.6099370541, 'Latitude': 43.9924596867}, {'Longitude': -30.1314146528, 'Latitude': 45.9310529335}, {'Longitude': -25.3366932521, 'Latitude': 47.6635682859}, {'Longitude': -20.2202023167, 'Latitude': 49.1572345289}, {'Longitude': -14.8136924491, 'Latitude': 50.4074802209}, {'Longitude': -9.1181327055, 'Latitude': 51.324156555}, {'Longitude': -3.2136685213, 'Latitude': 51.8874229116}, {'Longitude': 2.79885121, 'Latitude': 52.1184253526}, {'Longitude': 3.5355228542, 'Latitude': 52.1263349289}, {'Longitude': 3.5345036967, 'Latitude': 52.1766930521}, {'Longitude': 2.7971352808, 'Latitude': 52.1687763478}, {'Longitude': -3.2227877742, 'Latitude': 51.9374697607}, {'Longitude': -9.1350225318, 'Latitude': 51.3734013512}, {'Longitude': -14.8376432987, 'Latitude': 50.4554756857}, {'Longitude': -20.2488405636, 'Latitude': 49.2039880046}, {'Longitude': -25.3695759909, 'Latitude': 47.7088044817}, {'Longitude': -30.1674926847, 'Latitude': 45.9747240102}, {'Longitude': -34.648674335, 'Latitude': 44.0344145471}, {'Longitude': -66.8248182063, 'Latitude': 18.0796614512}, {'Longitude': -69.1887424324, 'Latitude': 15.1064585492}, {'Longitude': -71.4815221248, 'Latitude': 12.1021414954}, {'Longitude': -73.7160975616, 'Latitude': 9.0774349862}, {'Longitude': -75.9106627169, 'Latitude': 6.0342564636}, {'Longitude': -78.0770654026, 'Latitude': 2.9815308887}, {'Longitude': -80.2310896943, 'Latitude': -0.0775649695}, {'Longitude': -80.1898972468, 'Latitude': -0.1065394117}]}}]}}}\n",
              " Temporal coverage: {'RangeDateTime': {'BeginningDateTime': '2020-09-28T17:29:56.000Z', 'EndingDateTime': '2020-09-28T19:02:51.000Z'}}\n",
              " Size(MB): 1810.18\n",
              " Data: ['https://data.lpdaac.earthdatacloud.nasa.gov/lp-prod-protected/GEDI01_B.002/GEDI01_B_2020272172956_O10175_02_T05951_02_005_02_V002/GEDI01_B_2020272172956_O10175_02_T05951_02_005_02_V002.h5'],\n",
              " Collection: {'ShortName': 'GEDI01_B', 'Version': '002'}\n",
              " Spatial coverage: {'HorizontalSpatialDomain': {'Geometry': {'GPolygons': [{'Boundary': {'Points': [{'Longitude': -137.9903869641, 'Latitude': 51.7751758898}, {'Longitude': -132.0086727725, 'Latitude': 51.6273702378}, {'Longitude': -126.1087119668, 'Latitude': 51.1523689322}, {'Longitude': -120.3764973175, 'Latitude': 50.3623208768}, {'Longitude': -114.8758725593, 'Latitude': 49.2767367967}, {'Longitude': -109.651328072, 'Latitude': 47.9178831297}, {'Longitude': -104.730086189, 'Latitude': 46.3121489977}, {'Longitude': -100.1212126502, 'Latitude': 44.4861860509}, {'Longitude': -95.8216809969, 'Latitude': 42.4659163546}, {'Longitude': -91.8147015725, 'Latitude': 40.275669633}, {'Longitude': -88.0826059108, 'Latitude': 37.9381841302}, {'Longitude': -84.6017899986, 'Latitude': 35.4740257609}, {'Longitude': -81.3453295868, 'Latitude': 32.8996638515}, {'Longitude': -78.2908494059, 'Latitude': 30.2329473461}, {'Longitude': -75.4089721134, 'Latitude': 27.4839006989}, {'Longitude': -72.6822660719, 'Latitude': 24.667815227}, {'Longitude': -70.0875435512, 'Latitude': 21.794408742}, {'Longitude': -67.6049955262, 'Latitude': 18.8728895476}, {'Longitude': -65.2154809536, 'Latitude': 15.9113338125}, {'Longitude': -62.9045255477, 'Latitude': 12.9197564013}, {'Longitude': -60.6504056523, 'Latitude': 9.8997604337}, {'Longitude': -58.4441038615, 'Latitude': 6.862661418}, {'Longitude': -56.2690127487, 'Latitude': 3.8132614308}, {'Longitude': -54.1112169138, 'Latitude': 0.7570068988}, {'Longitude': -53.7594069434, 'Latitude': 0.2574826366}, {'Longitude': -53.7182301417, 'Latitude': 0.2864798926}, {'Longitude': -54.0700419627, 'Latitude': 0.7860114232}, {'Longitude': -56.2278110634, 'Latitude': 3.8423529811}, {'Longitude': -58.4028304783, 'Latitude': 6.8919405068}, {'Longitude': -60.6090287488, 'Latitude': 9.9293414815}, {'Longitude': -62.8629965279, 'Latitude': 12.9497244838}, {'Longitude': -65.1737859436, 'Latitude': 15.941809406}, {'Longitude': -67.5631175645, 'Latitude': 18.903975884}, {'Longitude': -70.045490744, 'Latitude': 21.826220772}, {'Longitude': -72.6400646364, 'Latitude': 24.7004645009}, {'Longitude': -75.3666846106, 'Latitude': 27.5175070842}, {'Longitude': -78.2485598722, 'Latitude': 30.267614488}, {'Longitude': -81.3031908167, 'Latitude': 32.9355113863}, {'Longitude': -84.560011103, 'Latitude': 35.5111639443}, {'Longitude': -88.041474355, 'Latitude': 37.9767142237}, {'Longitude': -91.7746020889, 'Latitude': 40.3156810841}, {'Longitude': -95.7830938487, 'Latitude': 42.5074689381}, {'Longitude': -100.0847636297, 'Latitude': 44.5293213373}, {'Longitude': -104.6964986488, 'Latitude': 46.356853991}, {'Longitude': -109.621439378, 'Latitude': 47.9640939399}, {'Longitude': -114.8505911674, 'Latitude': 49.3243240936}, {'Longitude': -120.3567078434, 'Latitude': 50.4110766165}, {'Longitude': -126.0952363064, 'Latitude': 51.2020173117}, {'Longitude': -132.0021173168, 'Latitude': 51.6775677427}, {'Longitude': -137.9904829568, 'Latitude': 51.8255378605}, {'Longitude': -137.9903869641, 'Latitude': 51.7751758898}]}}]}}}\n",
              " Temporal coverage: {'RangeDateTime': {'BeginningDateTime': '2020-09-29T02:47:26.000Z', 'EndingDateTime': '2020-09-29T04:20:20.000Z'}}\n",
              " Size(MB): 3949.79\n",
              " Data: ['https://data.lpdaac.earthdatacloud.nasa.gov/lp-prod-protected/GEDI01_B.002/GEDI01_B_2020273024726_O10181_03_T07074_02_005_02_V002/GEDI01_B_2020273024726_O10181_03_T07074_02_005_02_V002.h5'],\n",
              " Collection: {'ShortName': 'GEDI01_B', 'Version': '002'}\n",
              " Spatial coverage: {'HorizontalSpatialDomain': {'Geometry': {'GPolygons': [{'Boundary': {'Points': [{'Longitude': -138.4201285414, 'Latitude': 51.7370995626}, {'Longitude': -132.4445727614, 'Latitude': 51.5028949895}, {'Longitude': -126.5659675009, 'Latitude': 51.0069827804}, {'Longitude': -120.8363882597, 'Latitude': 50.2727524788}, {'Longitude': -115.3014686707, 'Latitude': 49.2974290045}, {'Longitude': -110.01236008, 'Latitude': 48.0617981405}, {'Longitude': -105.0232798835, 'Latitude': 46.5460451563}, {'Longitude': -100.3766850675, 'Latitude': 44.7462486213}, {'Longitude': -96.0936492317, 'Latitude': 42.6819545518}, {'Longitude': -92.1434922622, 'Latitude': 40.4027847418}, {'Longitude': -88.4914268377, 'Latitude': 37.9639434721}, {'Longitude': -85.0739276382, 'Latitude': 35.4256187321}, {'Longitude': -81.8367380312, 'Latitude': 32.8316057957}, {'Longitude': -78.7440250737, 'Latitude': 30.2028853828}, {'Longitude': -75.7839105501, 'Latitude': 27.5352684238}, {'Longitude': -72.9636902726, 'Latitude': 24.8088863414}, {'Longitude': -70.297450603, 'Latitude': 22.0008888849}, {'Longitude': -67.7920277382, 'Latitude': 19.0975895944}, {'Longitude': -65.4377679233, 'Latitude': 16.1016917246}, {'Longitude': -63.2027031625, 'Latitude': 13.0346167503}, {'Longitude': -61.0418030047, 'Latitude': 9.9309305982}, {'Longitude': -58.9053794399, 'Latitude': 6.8283515353}, {'Longitude': -56.7531293654, 'Latitude': 3.7569196718}, {'Longitude': -54.5626520169, 'Latitude': 0.7297833978}, {'Longitude': -54.2008326281, 'Latitude': 0.2392023211}, {'Longitude': -54.1603000973, 'Latitude': 0.2690934223}, {'Longitude': -54.521818212, 'Latitude': 0.7592658259}, {'Longitude': -56.7116901123, 'Latitude': 3.7856694368}, {'Longitude': -58.8633834487, 'Latitude': 6.8565951614}, {'Longitude': -60.9994604259, 'Latitude': 9.9591602537}, {'Longitude': -63.1603117493, 'Latitude': 13.0634422635}, {'Longitude': -65.3956167269, 'Latitude': 16.1316336665}, {'Longitude': -67.7503145491, 'Latitude': 19.1289407376}, {'Longitude': -70.2561661849, 'Latitude': 22.0336221135}, {'Longitude': -72.9226153364, 'Latitude': 24.8427477912}, {'Longitude': -75.7426808861, 'Latitude': 27.5699117635}, {'Longitude': -78.7022940781, 'Latitude': 30.2380427532}, {'Longitude': -81.7943635393, 'Latitude': 32.8672296532}, {'Longitude': -85.0311152542, 'Latitude': 35.461947988}, {'Longitude': -88.4487537947, 'Latitude': 38.001427269}, {'Longitude': -92.101914375, 'Latitude': 40.4419567059}, {'Longitude': -96.0541690588, 'Latitude': 42.7231195386}, {'Longitude': -100.3405226258, 'Latitude': 44.7895749819}, {'Longitude': -104.9912058911, 'Latitude': 46.5913233272}, {'Longitude': -109.9847671345, 'Latitude': 48.1086656672}, {'Longitude': -115.2783927179, 'Latitude': 49.3454924297}, {'Longitude': -120.8177997693, 'Latitude': 50.321694585}, {'Longitude': -126.5521040867, 'Latitude': 51.0565843782}, {'Longitude': -132.4361734437, 'Latitude': 51.5529851667}, {'Longitude': -138.4183307267, 'Latitude': 51.7874492744}, {'Longitude': -138.4201285414, 'Latitude': 51.7370995626}]}}]}}}\n",
              " Temporal coverage: {'RangeDateTime': {'BeginningDateTime': '2020-10-03T01:15:06.000Z', 'EndingDateTime': '2020-10-03T02:48:01.000Z'}}\n",
              " Size(MB): 4009.33\n",
              " Data: ['https://data.lpdaac.earthdatacloud.nasa.gov/lp-prod-protected/GEDI01_B.002/GEDI01_B_2020277011506_O10242_03_T08344_02_005_02_V002/GEDI01_B_2020277011506_O10242_03_T08344_02_005_02_V002.h5'],\n",
              " Collection: {'ShortName': 'GEDI01_B', 'Version': '002'}\n",
              " Spatial coverage: {'HorizontalSpatialDomain': {'Geometry': {'GPolygons': [{'Boundary': {'Points': [{'Longitude': -138.1408583926, 'Latitude': 51.7750855013}, {'Longitude': -132.1565206447, 'Latitude': 51.6314291829}, {'Longitude': -126.2586685461, 'Latitude': 51.1619269756}, {'Longitude': -120.5192358896, 'Latitude': 50.3761299608}, {'Longitude': -115.0123386248, 'Latitude': 49.29379166}, {'Longitude': -109.7823713857, 'Latitude': 47.9384541422}, {'Longitude': -104.8542407138, 'Latitude': 46.3346515269}, {'Longitude': -100.2397518928, 'Latitude': 44.5106482542}, {'Longitude': -95.9344631033, 'Latitude': 42.4919704304}, {'Longitude': -91.9248753444, 'Latitude': 40.3035684468}, {'Longitude': -88.1884916549, 'Latitude': 37.9672094119}, {'Longitude': -84.7037047059, 'Latitude': 35.5033469846}, {'Longitude': -81.4445744862, 'Latitude': 32.9299499806}, {'Longitude': -78.3862684238, 'Latitude': 30.2626843623}, {'Longitude': -75.505363228, 'Latitude': 27.5167970468}, {'Longitude': -72.7769050319, 'Latitude': 24.7012114157}, {'Longitude': -70.1788795907, 'Latitude': 21.8266068036}, {'Longitude': -67.694523928, 'Latitude': 18.9053209492}, {'Longitude': -65.3040114082, 'Latitude': 15.9440461705}, {'Longitude': -62.9903909192, 'Latitude': 12.9505898648}, {'Longitude': -60.7380106496, 'Latitude': 9.9328849619}, {'Longitude': -58.5305416803, 'Latitude': 6.8947899542}, {'Longitude': -56.3541952968, 'Latitude': 3.8443489148}, {'Longitude': -54.1957754199, 'Latitude': 0.7869883838}, {'Longitude': -53.8438832393, 'Latitude': 0.2873998458}, {'Longitude': -53.802707646, 'Latitude': 0.3163989706}, {'Longitude': -54.154598587, 'Latitude': 0.815990657}, {'Longitude': -56.3129943047, 'Latitude': 3.8734435597}, {'Longitude': -58.4892667662, 'Latitude': 6.9240708036}, {'Longitude': -60.6966275111, 'Latitude': 9.9624632319}, {'Longitude': -62.9488618844, 'Latitude': 12.9805646914}, {'Longitude': -65.2623142716, 'Latitude': 15.9745276765}, {'Longitude': -67.6526468752, 'Latitude': 18.9364181692}, {'Longitude': -70.1368267846, 'Latitude': 21.8584296169}, {'Longitude': -72.7347011405, 'Latitude': 24.7338701412}, {'Longitude': -75.4630724108, 'Latitude': 27.5504126713}, {'Longitude': -78.3439794307, 'Latitude': 30.2973636514}, {'Longitude': -81.4024381458, 'Latitude': 32.9658114739}, {'Longitude': -84.6619289815, 'Latitude': 35.5404989031}, {'Longitude': -88.1473713724, 'Latitude': 38.005757768}, {'Longitude': -91.8847847888, 'Latitude': 40.3435947513}, {'Longitude': -95.895901189, 'Latitude': 42.5335438565}, {'Longitude': -100.2033333299, 'Latitude': 44.5538031854}, {'Longitude': -104.8206912661, 'Latitude': 46.3793750927}, {'Longitude': -109.7525441158, 'Latitude': 47.9846861973}, {'Longitude': -114.9871226136, 'Latitude': 49.3413956719}, {'Longitude': -120.4995380221, 'Latitude': 50.4249017215}, {'Longitude': -126.2453022613, 'Latitude': 51.2115872673}, {'Longitude': -132.150054688, 'Latitude': 51.6816311848}, {'Longitude': -138.1410481653, 'Latitude': 51.8254473702}, {'Longitude': -138.1408583926, 'Latitude': 51.7750855013}]}}]}}}\n",
              " Temporal coverage: {'RangeDateTime': {'BeginningDateTime': '2020-10-18T19:00:38.000Z', 'EndingDateTime': '2020-10-18T20:33:31.000Z'}}\n",
              " Size(MB): 3915.11\n",
              " Data: ['https://data.lpdaac.earthdatacloud.nasa.gov/lp-prod-protected/GEDI01_B.002/GEDI01_B_2020292190038_O10486_03_T08497_02_005_02_V002/GEDI01_B_2020292190038_O10486_03_T08497_02_005_02_V002.h5'],\n",
              " Collection: {'ShortName': 'GEDI01_B', 'Version': '002'}\n",
              " Spatial coverage: {'HorizontalSpatialDomain': {'Geometry': {'GPolygons': [{'Boundary': {'Points': [{'Longitude': -79.9845141214, 'Latitude': 0.1046692015}, {'Longitude': -77.8292660354, 'Latitude': 3.1651027094}, {'Longitude': -75.659844445, 'Latitude': 6.2195573813}, {'Longitude': -73.4625670813, 'Latitude': 9.2641250165}, {'Longitude': -71.222599276, 'Latitude': 12.2911950543}, {'Longitude': -68.9255504077, 'Latitude': 15.2944705096}, {'Longitude': -66.5551232646, 'Latitude': 18.267525902}, {'Longitude': -33.5114036622, 'Latitude': 44.4971728543}, {'Longitude': -28.901798464, 'Latitude': 46.2901262642}, {'Longitude': -23.9809187354, 'Latitude': 47.8955734949}, {'Longitude': -18.7573569176, 'Latitude': 49.2539675793}, {'Longitude': -13.2557429685, 'Latitude': 50.3392804233}, {'Longitude': -7.5258159545, 'Latitude': 51.1282370115}, {'Longitude': -1.6313323483, 'Latitude': 51.6021837742}, {'Longitude': 4.1466257652, 'Latitude': 51.7505715939}, {'Longitude': 4.1680874756, 'Latitude': 51.8365780695}, {'Longitude': -1.621039029, 'Latitude': 51.6890793875}, {'Longitude': -7.5275272337, 'Latitude': 51.2153228159}, {'Longitude': -13.2687243081, 'Latitude': 50.4259222283}, {'Longitude': -18.7809007609, 'Latitude': 49.3386799543}, {'Longitude': -24.0125457017, 'Latitude': 47.9794514221}, {'Longitude': -28.9406178138, 'Latitude': 46.3727552335}, {'Longitude': -33.5455838137, 'Latitude': 44.5349609364}, {'Longitude': -66.6149638128, 'Latitude': 18.3312211895}, {'Longitude': -68.9857087917, 'Latitude': 15.3583939311}, {'Longitude': -71.2826867606, 'Latitude': 12.354472404}, {'Longitude': -73.5225882373, 'Latitude': 9.3269159578}, {'Longitude': -75.7196286258, 'Latitude': 6.2816687202}, {'Longitude': -77.8885099089, 'Latitude': 3.2254302709}, {'Longitude': -80.0444251211, 'Latitude': 0.166920317}, {'Longitude': -79.9845141214, 'Latitude': 0.1046692015}]}}]}}}\n",
              " Temporal coverage: {'RangeDateTime': {'BeginningDateTime': '2021-09-27T17:32:39.000Z', 'EndingDateTime': '2021-09-27T19:05:33.000Z'}}\n",
              " Size(MB): 1762.48\n",
              " Data: ['https://data.lpdaac.earthdatacloud.nasa.gov/lp-prod-protected/GEDI01_B.002/GEDI01_B_2021270173239_O15817_02_T03105_02_005_02_V002/GEDI01_B_2021270173239_O15817_02_T03105_02_005_02_V002.h5'],\n",
              " Collection: {'ShortName': 'GEDI01_B', 'Version': '002'}\n",
              " Spatial coverage: {'HorizontalSpatialDomain': {'Geometry': {'GPolygons': [{'Boundary': {'Points': [{'Longitude': -138.6121368765, 'Latitude': 51.7537142042}, {'Longitude': -132.6227263289, 'Latitude': 51.6368424899}, {'Longitude': -126.7206138506, 'Latitude': 51.1923607827}, {'Longitude': -120.9713164492, 'Latitude': 50.4315593663}, {'Longitude': -115.4487510628, 'Latitude': 49.3725265124}, {'Longitude': -110.1980554775, 'Latitude': 48.0389326182}, {'Longitude': -105.2487520022, 'Latitude': 46.4553639602}, {'Longitude': -100.6125587928, 'Latitude': 44.6487972065}, {'Longitude': -96.2851354168, 'Latitude': 42.6459578838}, {'Longitude': -92.2535246816, 'Latitude': 40.4713122262}, {'Longitude': -88.4977861424, 'Latitude': 38.1476261841}, {'Longitude': -84.9944234601, 'Latitude': 35.6947249238}, {'Longitude': -81.7193737214, 'Latitude': 33.1313732379}, {'Longitude': -78.6443649378, 'Latitude': 30.4709489665}, {'Longitude': -75.7518508068, 'Latitude': 27.7328135429}, {'Longitude': -73.0124312341, 'Latitude': 24.9240048502}, {'Longitude': -70.4070678214, 'Latitude': 22.0568648802}, {'Longitude': -67.9154678115, 'Latitude': 19.141021948}, {'Longitude': -65.515164955, 'Latitude': 16.1791577354}, {'Longitude': -63.2011597953, 'Latitude': 13.1963911166}, {'Longitude': -60.9453785457, 'Latitude': 10.1821456875}, {'Longitude': -58.7364654605, 'Latitude': 7.1488519651}, {'Longitude': -56.5604471878, 'Latitude': 4.1023371999}, {'Longitude': -54.4030303145, 'Latitude': 1.0486707948}, {'Longitude': -54.0446085435, 'Latitude': 0.5399218579}, {'Longitude': -53.9670312253, 'Latitude': 0.5803230536}, {'Longitude': -54.3254585431, 'Latitude': 1.0890983778}, {'Longitude': -56.4828139526, 'Latitude': 4.14294025}, {'Longitude': -58.6586362414, 'Latitude': 7.1897858501}, {'Longitude': -60.8672341779, 'Latitude': 10.2236031548}, {'Longitude': -63.1225882053, 'Latitude': 13.2385510332}, {'Longitude': -65.4402417242, 'Latitude': 16.2280156587}, {'Longitude': -67.8354077598, 'Latitude': 19.1847973522}, {'Longitude': -70.3240978928, 'Latitude': 22.0980334894}, {'Longitude': -72.9313450842, 'Latitude': 24.9710813761}, {'Longitude': -75.6700809157, 'Latitude': 27.7816594276}, {'Longitude': -78.5640323399, 'Latitude': 30.5237033751}, {'Longitude': -81.6365771369, 'Latitude': 33.1844655126}, {'Longitude': -84.9116077761, 'Latitude': 35.7503487795}, {'Longitude': -88.4150491316, 'Latitude': 38.2058867277}, {'Longitude': -92.1715904009, 'Latitude': 40.5324913899}, {'Longitude': -96.2047407802, 'Latitude': 42.7102223073}, {'Longitude': -100.5344670673, 'Latitude': 44.7161703668}, {'Longitude': -105.1747433682, 'Latitude': 46.5261969619}, {'Longitude': -110.1292217193, 'Latitude': 48.1130882406}, {'Longitude': -115.3866024546, 'Latitude': 49.4498410385}, {'Longitude': -120.911755154, 'Latitude': 50.5103430979}, {'Longitude': -126.6765767031, 'Latitude': 51.2750892536}, {'Longitude': -132.5872633367, 'Latitude': 51.7208713113}, {'Longitude': -138.5910297983, 'Latitude': 51.8400254805}, {'Longitude': -138.6121368765, 'Latitude': 51.7537142042}]}}]}}}\n",
              " Temporal coverage: {'RangeDateTime': {'BeginningDateTime': '2021-10-02T01:17:32.000Z', 'EndingDateTime': '2021-10-02T02:50:26.000Z'}}\n",
              " Size(MB): 3947.45\n",
              " Data: ['https://data.lpdaac.earthdatacloud.nasa.gov/lp-prod-protected/GEDI01_B.002/GEDI01_B_2021275011732_O15884_03_T08497_02_005_02_V002/GEDI01_B_2021275011732_O15884_03_T08497_02_005_02_V002.h5'],\n",
              " Collection: {'ShortName': 'GEDI01_B', 'Version': '002'}\n",
              " Spatial coverage: {'HorizontalSpatialDomain': {'Geometry': {'GPolygons': [{'Boundary': {'Points': [{'Longitude': -138.2760191782, 'Latitude': 51.7528864406}, {'Longitude': -132.2981067369, 'Latitude': 51.6253529673}, {'Longitude': -126.3994249628, 'Latitude': 51.1683143613}, {'Longitude': -120.6602260792, 'Latitude': 50.3961482277}, {'Longitude': -115.1499534172, 'Latitude': 49.3266136564}, {'Longitude': -109.9132414393, 'Latitude': 47.9837428673}, {'Longitude': -104.9789525251, 'Latitude': 46.392473299}, {'Longitude': -100.3560087268, 'Latitude': 44.5797915326}, {'Longitude': -96.0416722956, 'Latitude': 42.5714624813}, {'Longitude': -92.0171975793, 'Latitude': 40.3909033229}, {'Longitude': -88.2778176212, 'Latitude': 38.0649273348}, {'Longitude': -84.7805816108, 'Latitude': 35.6076461005}, {'Longitude': -81.5177537689, 'Latitude': 33.0429113898}, {'Longitude': -78.45225824, 'Latitude': 30.382028915}, {'Longitude': -75.5638991414, 'Latitude': 27.6400850466}, {'Longitude': -72.8295580939, 'Latitude': 24.8298974649}, {'Longitude': -70.2283459896, 'Latitude': 21.9614181266}, {'Longitude': -67.7382838174, 'Latitude': 19.0430474437}, {'Longitude': -65.3468748681, 'Latitude': 16.0868999177}, {'Longitude': -63.0301992571, 'Latitude': 13.0968866415}, {'Longitude': -60.7762380283, 'Latitude': 10.0814757426}, {'Longitude': -58.5680115284, 'Latitude': 7.0467008461}, {'Longitude': -56.3883943987, 'Latitude': 3.9963297435}, {'Longitude': -54.2296684999, 'Latitude': 0.9405498511}, {'Longitude': -53.8711865663, 'Latitude': 0.4313940197}, {'Longitude': -53.7966487217, 'Latitude': 0.4733637813}, {'Longitude': -54.1554837202, 'Latitude': 0.9828341814}, {'Longitude': -56.3116388536, 'Latitude': 4.0367695787}, {'Longitude': -58.4903851061, 'Latitude': 7.0876868652}, {'Longitude': -60.698286805, 'Latitude': 10.1230026355}, {'Longitude': -62.9523505508, 'Latitude': 13.1394600897}, {'Longitude': -65.2679228612, 'Latitude': 16.1300683636}, {'Longitude': -67.6604193068, 'Latitude': 19.0882675933}, {'Longitude': -70.148075379, 'Latitude': 22.0070488704}, {'Longitude': -72.7485640148, 'Latitude': 24.8770746678}, {'Longitude': -75.4822048515, 'Latitude': 27.6890390488}, {'Longitude': -78.3698557741, 'Latitude': 30.432937604}, {'Longitude': -81.4349641387, 'Latitude': 33.0960999315}, {'Longitude': -84.6983059661, 'Latitude': 35.6630312984}, {'Longitude': -88.195521244, 'Latitude': 38.123453914}, {'Longitude': -91.9392606149, 'Latitude': 40.4531825311}, {'Longitude': -95.9611309782, 'Latitude': 42.6358206247}, {'Longitude': -100.278074981, 'Latitude': 44.6474347927}, {'Longitude': -104.9048083839, 'Latitude': 46.4634284291}, {'Longitude': -109.8440910345, 'Latitude': 48.0579787742}, {'Longitude': -115.0870321313, 'Latitude': 49.4039580897}, {'Longitude': -120.6064194407, 'Latitude': 50.4765403944}, {'Longitude': -126.3552161072, 'Latitude': 51.2513590547}, {'Longitude': -132.2652091705, 'Latitude': 51.7104542648}, {'Longitude': -138.2546233702, 'Latitude': 51.8394134569}, {'Longitude': -138.2760191782, 'Latitude': 51.7528864406}]}}]}}}\n",
              " Temporal coverage: {'RangeDateTime': {'BeginningDateTime': '2022-03-23T05:10:02.000Z', 'EndingDateTime': '2022-03-23T06:42:54.000Z'}}\n",
              " Size(MB): 3828.35\n",
              " Data: ['https://data.lpdaac.earthdatacloud.nasa.gov/lp-prod-protected/GEDI01_B.002/GEDI01_B_2022082051002_O18553_03_T04228_02_005_02_V002/GEDI01_B_2022082051002_O18553_03_T04228_02_005_02_V002.h5'],\n",
              " Collection: {'ShortName': 'GEDI01_B', 'Version': '002'}\n",
              " Spatial coverage: {'HorizontalSpatialDomain': {'Geometry': {'GPolygons': [{'Boundary': {'Points': [{'Longitude': -80.3344800985, 'Latitude': -0.3610300119}, {'Longitude': -78.1819305916, 'Latitude': 2.696491363}, {'Longitude': -76.0116027749, 'Latitude': 5.7501841409}, {'Longitude': -73.8179200115, 'Latitude': 8.792711785}, {'Longitude': -71.5901338468, 'Latitude': 11.8169308541}, {'Longitude': -69.3038744875, 'Latitude': 14.8211530989}, {'Longitude': -66.9471488194, 'Latitude': 17.7956602679}, {'Longitude': -33.885537639, 'Latitude': 44.4369899202}, {'Longitude': -29.3294010365, 'Latitude': 46.263668801}, {'Longitude': -24.3577815819, 'Latitude': 47.7980371744}, {'Longitude': -19.155974888, 'Latitude': 49.1749797303}, {'Longitude': -13.6763819675, 'Latitude': 50.2791541157}, {'Longitude': -7.9632263414, 'Latitude': 51.0890982194}, {'Longitude': -2.0793533165, 'Latitude': 51.5854916164}, {'Longitude': 3.0893153551, 'Latitude': 51.7524002555}, {'Longitude': 3.1112558763, 'Latitude': 51.8386603383}, {'Longitude': -2.0715363349, 'Latitude': 51.6720738743}, {'Longitude': -7.9684027184, 'Latitude': 51.1759592581}, {'Longitude': -13.6884619255, 'Latitude': 50.3658156353}, {'Longitude': -19.1804953008, 'Latitude': 49.2605627271}, {'Longitude': -24.3880440754, 'Latitude': 47.8829552196}, {'Longitude': -29.36229644, 'Latitude': 46.3461678613}, {'Longitude': -33.9200454645, 'Latitude': 44.4746096365}, {'Longitude': -67.0073677973, 'Latitude': 17.8606583122}, {'Longitude': -69.3640756926, 'Latitude': 14.88536474}, {'Longitude': -71.6502507222, 'Latitude': 11.8805109446}, {'Longitude': -73.8753182558, 'Latitude': 8.8561714737}, {'Longitude': -76.0734726286, 'Latitude': 5.8117384822}, {'Longitude': -78.2381176223, 'Latitude': 2.7606461916}, {'Longitude': -80.3923758694, 'Latitude': -0.2976879458}, {'Longitude': -80.3344800985, 'Latitude': -0.3610300119}]}}]}}}\n",
              " Temporal coverage: {'RangeDateTime': {'BeginningDateTime': '2022-06-03T15:03:17.000Z', 'EndingDateTime': '2022-06-03T16:36:08.000Z'}}\n",
              " Size(MB): 1726.43\n",
              " Data: ['https://data.lpdaac.earthdatacloud.nasa.gov/lp-prod-protected/GEDI01_B.002/GEDI01_B_2022154150317_O19676_02_T05951_02_005_02_V002/GEDI01_B_2022154150317_O19676_02_T05951_02_005_02_V002.h5'],\n",
              " Collection: {'ShortName': 'GEDI01_B', 'Version': '002'}\n",
              " Spatial coverage: {'HorizontalSpatialDomain': {'Geometry': {'GPolygons': [{'Boundary': {'Points': [{'Longitude': -138.5097547172, 'Latitude': 51.7896431673}, {'Longitude': -132.5298641129, 'Latitude': 51.6848104735}, {'Longitude': -126.6090154265, 'Latitude': 51.2511171995}, {'Longitude': -120.8436453055, 'Latitude': 50.4996412901}, {'Longitude': -115.350158059, 'Latitude': 49.3553331532}, {'Longitude': -110.0924555043, 'Latitude': 48.0181591253}, {'Longitude': -105.1439519754, 'Latitude': 46.4303723015}, {'Longitude': -100.5126237853, 'Latitude': 44.6186390476}, {'Longitude': -96.1780227658, 'Latitude': 42.6095045193}, {'Longitude': -92.1534264474, 'Latitude': 40.43010855}, {'Longitude': -88.3970609292, 'Latitude': 38.1010361519}, {'Longitude': -84.8935069033, 'Latitude': 35.6422605116}, {'Longitude': -81.6179326747, 'Latitude': 33.0725778873}, {'Longitude': -78.5437148665, 'Latitude': 30.4065824732}, {'Longitude': -75.6466472646, 'Latitude': 27.6623831794}, {'Longitude': -72.9092779493, 'Latitude': 24.8468837452}, {'Longitude': -70.3022434247, 'Latitude': 21.9735934544}, {'Longitude': -67.809109519, 'Latitude': 19.0512653185}, {'Longitude': -65.411194824, 'Latitude': 16.0882772254}, {'Longitude': -63.0907251484, 'Latitude': 13.0931600006}, {'Longitude': -60.8324164497, 'Latitude': 10.071905589}, {'Longitude': -58.6203762673, 'Latitude': 7.0317669303}, {'Longitude': -56.4406061597, 'Latitude': 3.9784537573}, {'Longitude': -54.2787565923, 'Latitude': 0.9180580178}, {'Longitude': -53.9195975834, 'Latitude': 0.4080559852}, {'Longitude': -53.8426706558, 'Latitude': 0.4485587728}, {'Longitude': -54.2018602492, 'Latitude': 0.9585803404}, {'Longitude': -56.3602870148, 'Latitude': 4.0178277908}, {'Longitude': -58.5384861967, 'Latitude': 7.0709722791}, {'Longitude': -60.7548480382, 'Latitude': 10.1134570018}, {'Longitude': -63.0127277838, 'Latitude': 13.1354380657}, {'Longitude': -65.3326528294, 'Latitude': 16.1314626424}, {'Longitude': -67.7299475699, 'Latitude': 19.0955789438}, {'Longitude': -70.2223923033, 'Latitude': 22.0192257556}, {'Longitude': -72.8254947503, 'Latitude': 24.8929106147}, {'Longitude': -75.5604128914, 'Latitude': 27.7094728936}, {'Longitude': -78.4587058536, 'Latitude': 30.456357665}, {'Longitude': -81.5357717607, 'Latitude': 33.1257957401}, {'Longitude': -84.8110667361, 'Latitude': 35.6979047488}, {'Longitude': -88.3147919008, 'Latitude': 38.1593854594}, {'Longitude': -92.0719141006, 'Latitude': 40.4913506068}, {'Longitude': -96.0954200842, 'Latitude': 42.6726715416}, {'Longitude': -100.4351669302, 'Latitude': 44.686221923}, {'Longitude': -105.0748374578, 'Latitude': 46.5018094962}, {'Longitude': -110.0292934908, 'Latitude': 48.092872273}, {'Longitude': -115.28686861, 'Latitude': 49.4323957244}, {'Longitude': -120.787780829, 'Latitude': 50.5785578798}, {'Longitude': -126.5675419297, 'Latitude': 51.3340995052}, {'Longitude': -132.4867177422, 'Latitude': 51.7680030992}, {'Longitude': -138.4974490387, 'Latitude': 51.8761069867}, {'Longitude': -138.5097547172, 'Latitude': 51.7896431673}]}}]}}}\n",
              " Temporal coverage: {'RangeDateTime': {'BeginningDateTime': '2022-06-04T00:20:24.000Z', 'EndingDateTime': '2022-06-04T01:53:15.000Z'}}\n",
              " Size(MB): 3872.38\n",
              " Data: ['https://data.lpdaac.earthdatacloud.nasa.gov/lp-prod-protected/GEDI01_B.002/GEDI01_B_2022155002024_O19682_03_T01382_02_005_02_V002/GEDI01_B_2022155002024_O19682_03_T01382_02_005_02_V002.h5']]"
            ]
          },
          "metadata": {},
          "execution_count": 18
        }
      ]
    },
    {
      "cell_type": "code",
      "source": [
        "data_links = [granule.data_links(access=\"external\") for granule in results]\n",
        "data_links"
      ],
      "metadata": {
        "id": "BStZ2QwWUbNs",
        "colab": {
          "base_uri": "https://localhost:8080/"
        },
        "outputId": "5e13413d-5dd2-4599-c358-5ee1ff5a4840"
      },
      "execution_count": null,
      "outputs": [
        {
          "output_type": "execute_result",
          "data": {
            "text/plain": [
              "[['https://data.lpdaac.earthdatacloud.nasa.gov/lp-prod-protected/GEDI01_B.002/GEDI01_B_2019246042645_O04104_02_T00259_02_005_02_V002/GEDI01_B_2019246042645_O04104_02_T00259_02_005_02_V002.h5'],\n",
              " ['https://data.lpdaac.earthdatacloud.nasa.gov/lp-prod-protected/GEDI01_B.002/GEDI01_B_2020104212032_O07573_03_T01382_02_005_01_V002/GEDI01_B_2020104212032_O07573_03_T01382_02_005_01_V002.h5'],\n",
              " ['https://data.lpdaac.earthdatacloud.nasa.gov/lp-prod-protected/GEDI01_B.002/GEDI01_B_2020209182349_O09199_02_T03105_02_005_01_V002/GEDI01_B_2020209182349_O09199_02_T03105_02_005_01_V002.h5'],\n",
              " ['https://data.lpdaac.earthdatacloud.nasa.gov/lp-prod-protected/GEDI01_B.002/GEDI01_B_2020272172956_O10175_02_T05951_02_005_02_V002/GEDI01_B_2020272172956_O10175_02_T05951_02_005_02_V002.h5'],\n",
              " ['https://data.lpdaac.earthdatacloud.nasa.gov/lp-prod-protected/GEDI01_B.002/GEDI01_B_2020273024726_O10181_03_T07074_02_005_02_V002/GEDI01_B_2020273024726_O10181_03_T07074_02_005_02_V002.h5'],\n",
              " ['https://data.lpdaac.earthdatacloud.nasa.gov/lp-prod-protected/GEDI01_B.002/GEDI01_B_2020277011506_O10242_03_T08344_02_005_02_V002/GEDI01_B_2020277011506_O10242_03_T08344_02_005_02_V002.h5'],\n",
              " ['https://data.lpdaac.earthdatacloud.nasa.gov/lp-prod-protected/GEDI01_B.002/GEDI01_B_2020292190038_O10486_03_T08497_02_005_02_V002/GEDI01_B_2020292190038_O10486_03_T08497_02_005_02_V002.h5'],\n",
              " ['https://data.lpdaac.earthdatacloud.nasa.gov/lp-prod-protected/GEDI01_B.002/GEDI01_B_2021270173239_O15817_02_T03105_02_005_02_V002/GEDI01_B_2021270173239_O15817_02_T03105_02_005_02_V002.h5'],\n",
              " ['https://data.lpdaac.earthdatacloud.nasa.gov/lp-prod-protected/GEDI01_B.002/GEDI01_B_2021275011732_O15884_03_T08497_02_005_02_V002/GEDI01_B_2021275011732_O15884_03_T08497_02_005_02_V002.h5'],\n",
              " ['https://data.lpdaac.earthdatacloud.nasa.gov/lp-prod-protected/GEDI01_B.002/GEDI01_B_2022082051002_O18553_03_T04228_02_005_02_V002/GEDI01_B_2022082051002_O18553_03_T04228_02_005_02_V002.h5'],\n",
              " ['https://data.lpdaac.earthdatacloud.nasa.gov/lp-prod-protected/GEDI01_B.002/GEDI01_B_2022154150317_O19676_02_T05951_02_005_02_V002/GEDI01_B_2022154150317_O19676_02_T05951_02_005_02_V002.h5'],\n",
              " ['https://data.lpdaac.earthdatacloud.nasa.gov/lp-prod-protected/GEDI01_B.002/GEDI01_B_2022155002024_O19682_03_T01382_02_005_02_V002/GEDI01_B_2022155002024_O19682_03_T01382_02_005_02_V002.h5'],\n",
              " ['https://data.lpdaac.earthdatacloud.nasa.gov/lp-prod-protected/GEDI01_B.002/GEDI01_B_2022189012541_O20210_02_T00259_02_005_03_V002/GEDI01_B_2022189012541_O20210_02_T00259_02_005_03_V002.h5'],\n",
              " ['https://data.lpdaac.earthdatacloud.nasa.gov/lp-prod-protected/GEDI01_B.002/GEDI01_B_2022295072215_O21858_02_T07374_02_005_02_V002/GEDI01_B_2022295072215_O21858_02_T07374_02_005_02_V002.h5'],\n",
              " ['https://data.lpdaac.earthdatacloud.nasa.gov/lp-prod-protected/GEDI01_B.002/GEDI01_B_2023068100742_O24000_03_T08497_02_005_02_V002/GEDI01_B_2023068100742_O24000_03_T08497_02_005_02_V002.h5'],\n",
              " ['https://data.lpdaac.earthdatacloud.nasa.gov/lp-prod-protected/GEDI01_B.002/GEDI01_B_2023071231646_O24055_02_T07374_02_005_02_V002/GEDI01_B_2023071231646_O24055_02_T07374_02_005_02_V002.h5'],\n",
              " ['https://data.lpdaac.earthdatacloud.nasa.gov/lp-prod-protected/GEDI01_B.002/GEDI01_B_2023072083405_O24061_03_T01382_02_005_02_V002/GEDI01_B_2023072083405_O24061_03_T01382_02_005_02_V002.h5'],\n",
              " ['https://data.lpdaac.earthdatacloud.nasa.gov/lp-prod-protected/GEDI01_B.002/GEDI01_B_2024179041715_O31379_02_T03105_02_006_03_V002/GEDI01_B_2024179041715_O31379_02_T03105_02_006_03_V002.h5'],\n",
              " ['https://data.lpdaac.earthdatacloud.nasa.gov/lp-prod-protected/GEDI01_B.002/GEDI01_B_2024264040529_O32697_03_T04228_02_006_02_V002/GEDI01_B_2024264040529_O32697_03_T04228_02_006_02_V002.h5']]"
            ]
          },
          "metadata": {},
          "execution_count": 19
        }
      ]
    },
    {
      "cell_type": "code",
      "source": [
        "# # Only downloaded the first 2 granules\n",
        "# downloaded_files = earthaccess.download(\n",
        "#     results[0:12],\n",
        "#     local_path= path,\n",
        "# )\n",
        "\n",
        "# #'data/'\n",
        "\n",
        "\n",
        "\n",
        "# Only downloaded the first 2 granules\n",
        "downloaded_files = earthaccess.download(\n",
        "    results,\n",
        "    local_path= path,\n",
        ")\n",
        "\n",
        "#'data/'"
      ],
      "metadata": {
        "id": "V5jzYU-_Uf6U",
        "colab": {
          "base_uri": "https://localhost:8080/"
        },
        "outputId": "6db7ee2d-0654-401f-a312-d135cebdb33e"
      },
      "execution_count": null,
      "outputs": [
        {
          "output_type": "stream",
          "name": "stderr",
          "text": [
            "ERROR:earthaccess.api:'NoneType' object has no attribute 'get': You must call earthaccess.login() before you can download data\n"
          ]
        }
      ]
    },
    {
      "cell_type": "markdown",
      "metadata": {
        "id": "aMqf0ImSsi7l"
      },
      "source": [
        "#### You will need to download the file in order to execute this tutorial. Make sure to download the file into the `data` directory defined above.\n",
        "### Direct Link to file:\n",
        " - https://data.lpdaac.earthdatacloud.nasa.gov/lp-prod-protected/GEDI02_A.002/GEDI02_A_2019170155833_O02932_02_T02267_02_003_01_V002/GEDI02_A_2019170155833_O02932_02_T02267_02_003_01_V002.h5     \n",
        "\n",
        "Alternatively, you can use `earthaccess` package to download the data."
      ]
    },
    {
      "cell_type": "markdown",
      "source": [
        "Use to get a single file"
      ],
      "metadata": {
        "id": "AZsQ8ZqtT6at"
      }
    },
    {
      "cell_type": "code",
      "source": [
        "# !pip install earthaccess==0.8.2\n",
        "import earthaccess\n",
        "earthaccess.login(persist=True)\n",
        "results = results\n",
        "# download\n",
        "downloaded_files = earthaccess.download(\n",
        "    results,\n",
        "    local_path= path, #'data/'\n",
        ")"
      ],
      "metadata": {
        "id": "5NJdazU4Adw2",
        "colab": {
          "base_uri": "https://localhost:8080/",
          "height": 116,
          "referenced_widgets": [
            "a38ef1adc6a34a63bb08b5e8f4c9df46",
            "2a46713690914d8bbb992aa5d71b923e",
            "e610042dc18a439db7d5a7b56d536d58",
            "9fc7079c1ae14b91b4d1434e985ea5f1",
            "708ed8cca2b8440ba20b2c0fad0cce43",
            "8226a539bccc4ba2b329474dea74fa1f",
            "8220a79042df41218741a78c643cbef8",
            "a592f8c3d8854ec2b59c1b6b2a1fc655",
            "5402754dfbdb418798fd5294c7dbe218",
            "247b198c375541169c733063bd73c6c1",
            "8d88246b298c40f1b98fe492c0866f07",
            "cf3e2cde0b434e2aa16bed60bb3a5b9a",
            "1d31b7002ef74401a3c8051f49469358",
            "8632f15674954ba8a54831740d1613ca",
            "77246c0f409647e38db74e120936f3ae",
            "e1186c03005748da9c63c3c276ea5110",
            "26db9c43ed004bb3b061273d427252eb",
            "d621fbb1cd114cf7afd1481c17905ca8",
            "53c379b3f78f4edb9cc2e047d0827350",
            "a940f5d3e3e347aeaef314fd5c627035",
            "a8ec2fadc37041febe364e52789d256d",
            "333c017d8d7b4a269558f95fd210ab1f"
          ]
        },
        "outputId": "2e8a813f-cf99-42de-e7db-5858e5edc130"
      },
      "execution_count": null,
      "outputs": [
        {
          "name": "stdout",
          "output_type": "stream",
          "text": [
            "Enter your Earthdata Login username: tjm0042\n",
            "Enter your Earthdata password: ··········\n"
          ]
        },
        {
          "output_type": "display_data",
          "data": {
            "text/plain": [
              "QUEUEING TASKS | :   0%|          | 0/19 [00:00<?, ?it/s]"
            ],
            "application/vnd.jupyter.widget-view+json": {
              "version_major": 2,
              "version_minor": 0,
              "model_id": "a38ef1adc6a34a63bb08b5e8f4c9df46"
            }
          },
          "metadata": {}
        },
        {
          "output_type": "display_data",
          "data": {
            "text/plain": [
              "PROCESSING TASKS | :   0%|          | 0/19 [00:00<?, ?it/s]"
            ],
            "application/vnd.jupyter.widget-view+json": {
              "version_major": 2,
              "version_minor": 0,
              "model_id": "cf3e2cde0b434e2aa16bed60bb3a5b9a"
            }
          },
          "metadata": {}
        }
      ]
    },
    {
      "cell_type": "code",
      "execution_count": null,
      "metadata": {
        "id": "hsOFzPBasi7l"
      },
      "outputs": [],
      "source": [
        "# # !pip install earthaccess==0.8.2\n",
        "# import earthaccess\n",
        "# earthaccess.login(persist=True)\n",
        "# results = ['https://data.lpdaac.earthdatacloud.nasa.gov/lp-prod-protected/GEDI02_A.002/GEDI02_A_2019170155833_O02932_02_T02267_02_003_01_V002/GEDI02_A_2019170155833_O02932_02_T02267_02_003_01_V002.h5']\n",
        "# # download\n",
        "# downloaded_files = earthaccess.download(\n",
        "#     results,\n",
        "#     local_path= path, #'data/'\n",
        "# )"
      ]
    },
    {
      "cell_type": "code",
      "execution_count": null,
      "metadata": {
        "colab": {
          "base_uri": "https://localhost:8080/"
        },
        "id": "Mq0DN37hsi7m",
        "outputId": "47c27078-686f-462f-ac98-b416e89b47d9"
      },
      "outputs": [
        {
          "output_type": "execute_result",
          "data": {
            "text/plain": [
              "[]"
            ]
          },
          "metadata": {},
          "execution_count": 25
        }
      ],
      "source": [
        "gediFiles = [g for g in os.listdir(path) if g.startswith('GEDI01_B') and g.endswith('.h5')]  # List GEDI L2A .h5 files in the inDir  ///'GEDI01_B' |'GEDI02_A'\n",
        "gediFiles\n",
        "\n"
      ]
    },
    {
      "cell_type": "markdown",
      "metadata": {
        "id": "-pauRqbLsi7n"
      },
      "source": [
        "\n",
        "# 2. Import and Interpret Data <a id=\"importinterpret\"></a>\n",
        "#### In this section, begin working with the [GEDI Level 2A Elevation and Height Metrics Data](https://doi.org/10.5067/GEDI/GEDI02_A.002). Begin by checking out the example L2A file metadata."
      ]
    },
    {
      "cell_type": "markdown",
      "metadata": {
        "id": "Pbw3HwO8si7n"
      },
      "source": [
        "## 2.1 Open a GEDI HDF5 File and Read File Metadata <a id=\"2.1\"></a>\n",
        "#### Read the file using `h5py`."
      ]
    },
    {
      "cell_type": "code",
      "execution_count": null,
      "metadata": {
        "colab": {
          "base_uri": "https://localhost:8080/",
          "height": 36
        },
        "id": "akV1Tlntsi7n",
        "outputId": "b5798ab5-95ed-4133-8fd3-894d94564764"
      },
      "outputs": [
        {
          "output_type": "execute_result",
          "data": {
            "text/plain": [
              "'GEDI02_A_2021270173239_O15817_02_T03105_02_003_02_V002.h5'"
            ],
            "application/vnd.google.colaboratory.intrinsic+json": {
              "type": "string"
            }
          },
          "metadata": {},
          "execution_count": 26
        }
      ],
      "source": [
        "L2A = f'{gediFiles[0]}'\n",
        "L2A\n",
        "\n",
        "# L2A = f'data/{gediFiles[0]}'\n",
        "# L2A"
      ]
    },
    {
      "cell_type": "code",
      "source": [
        "list_of_files = f'{gediFiles}'\n",
        "list_of_files\n"
      ],
      "metadata": {
        "colab": {
          "base_uri": "https://localhost:8080/",
          "height": 123
        },
        "id": "Eb0GU13PMn4U",
        "outputId": "ebc19ed9-f24a-421a-b338-78e3cf552a34"
      },
      "execution_count": null,
      "outputs": [
        {
          "output_type": "execute_result",
          "data": {
            "text/plain": [
              "\"['GEDI02_A_2021270173239_O15817_02_T03105_02_003_02_V002.h5', 'GEDI02_A_2020273024726_O10181_03_T07074_02_003_02_V002.h5', 'GEDI02_A_2020209182349_O09199_02_T03105_02_003_01_V002.h5', 'GEDI02_A_2020277011506_O10242_03_T08344_02_003_02_V002.h5', 'GEDI02_A_2019246042645_O04104_02_T00259_02_003_02_V002.h5', 'GEDI02_A_2020292190038_O10486_03_T08497_02_003_02_V002.h5', 'GEDI02_A_2020272172956_O10175_02_T05951_02_003_02_V002.h5', 'GEDI02_A_2020104212032_O07573_03_T01382_02_003_01_V002.h5', 'GEDI02_A_2022082051002_O18553_03_T04228_02_003_02_V002.h5', 'GEDI02_A_2022154150317_O19676_02_T05951_02_003_02_V002.h5', 'GEDI02_A_2022189012541_O20210_02_T00259_02_003_03_V002.h5', 'GEDI02_A_2023071231646_O24055_02_T07374_02_003_02_V002.h5', 'GEDI02_A_2021275011732_O15884_03_T08497_02_003_02_V002.h5', 'GEDI02_A_2022295072215_O21858_02_T07374_02_003_02_V002.h5', 'GEDI02_A_2023068100742_O24000_03_T08497_02_003_02_V002.h5', 'GEDI02_A_2022155002024_O19682_03_T01382_02_003_02_V002.h5', 'GEDI02_A_2023072083405_O24061_03_T01382_02_003_02_V002.h5']\""
            ],
            "application/vnd.google.colaboratory.intrinsic+json": {
              "type": "string"
            }
          },
          "metadata": {},
          "execution_count": 27
        }
      ]
    },
    {
      "cell_type": "markdown",
      "metadata": {
        "id": "TgmNUdyHsi7o"
      },
      "source": [
        "#### The standard format  for GEDI filenames is as follows:\n",
        "> **GEDI02_A**: Product Short Name    \n",
        "**2019170155833**: Julian Date and Time of Acquisition (YYYYDDDHHMMSS)  \n",
        "**O02932**: Orbit Number   \n",
        "**02**: Sub-Orbit Granule Number (1-4)  \n",
        "**T02267**: Track Number (Reference Ground Track)  \n",
        "**02**: Positioning and Pointing Determination System (PPDS) type (00 is predict, 01 rapid, 02 and higher is final)  \n",
        "**003**: PGE Version Number    \n",
        "**01**: Granule Production Version  \n",
        "**V002**: Product Version  "
      ]
    },
    {
      "cell_type": "markdown",
      "metadata": {
        "id": "kf4qM9Ersi7o"
      },
      "source": [
        "#### Read in a GEDI HDF5 file using the `h5py` package."
      ]
    },
    {
      "cell_type": "code",
      "execution_count": null,
      "metadata": {
        "id": "kyq8SSlWsi7o"
      },
      "outputs": [],
      "source": [
        "gediL2A = h5py.File(L2A, 'r')  # Read file using h5py"
      ]
    },
    {
      "cell_type": "markdown",
      "metadata": {
        "id": "r5Lvt2JHsi7p"
      },
      "source": [
        "#### Navigate the HDF5 file below."
      ]
    },
    {
      "cell_type": "code",
      "execution_count": null,
      "metadata": {
        "colab": {
          "base_uri": "https://localhost:8080/"
        },
        "id": "I8fPeX9Ysi7p",
        "outputId": "70d86817-953f-4727-b533-a378a34bdc3f"
      },
      "outputs": [
        {
          "output_type": "execute_result",
          "data": {
            "text/plain": [
              "['BEAM0000',\n",
              " 'BEAM0001',\n",
              " 'BEAM0010',\n",
              " 'BEAM0011',\n",
              " 'BEAM0101',\n",
              " 'BEAM0110',\n",
              " 'BEAM1000',\n",
              " 'BEAM1011',\n",
              " 'METADATA']"
            ]
          },
          "metadata": {},
          "execution_count": 29
        }
      ],
      "source": [
        "list(gediL2A.keys())"
      ]
    },
    {
      "cell_type": "markdown",
      "metadata": {
        "id": "W50dx4Vgsi7p"
      },
      "source": [
        "#### The GEDI HDF5 file contains groups in which data and metadata are stored.\n",
        "#### First, the `METADATA` group contains the file-level metadata."
      ]
    },
    {
      "cell_type": "code",
      "execution_count": null,
      "metadata": {
        "colab": {
          "base_uri": "https://localhost:8080/"
        },
        "id": "wf9_Wtpisi7p",
        "outputId": "b0685f64-4d9e-4fd0-91fa-93c2763c28fb"
      },
      "outputs": [
        {
          "output_type": "execute_result",
          "data": {
            "text/plain": [
              "['DatasetIdentification']"
            ]
          },
          "metadata": {},
          "execution_count": 30
        }
      ],
      "source": [
        "list(gediL2A['METADATA'])"
      ]
    },
    {
      "cell_type": "markdown",
      "metadata": {
        "id": "ATu9VN_Tsi7q"
      },
      "source": [
        "This contains useful information such as the creation date, PGEVersion, and VersionID. Below, print the file-level metadata attributes."
      ]
    },
    {
      "cell_type": "code",
      "execution_count": null,
      "metadata": {
        "colab": {
          "base_uri": "https://localhost:8080/"
        },
        "id": "KQ8epN9bsi7q",
        "outputId": "817fb19c-fe70-4efe-f79a-7f8b590b3202"
      },
      "outputs": [
        {
          "output_type": "stream",
          "name": "stdout",
          "text": [
            "PGEVersion\n",
            "VersionID\n",
            "abstract\n",
            "characterSet\n",
            "creationDate\n",
            "credit\n",
            "fileName\n",
            "language\n",
            "originatorOrganizationName\n",
            "purpose\n",
            "shortName\n",
            "spatialRepresentationType\n",
            "status\n",
            "topicCategory\n",
            "uuid\n"
          ]
        }
      ],
      "source": [
        "for g in gediL2A['METADATA']['DatasetIdentification'].attrs: print(g)"
      ]
    },
    {
      "cell_type": "code",
      "execution_count": null,
      "metadata": {
        "colab": {
          "base_uri": "https://localhost:8080/"
        },
        "id": "djJcKc-Jsi7r",
        "outputId": "fc307b30-dd0d-4798-ec73-b48f6dc830a7"
      },
      "outputs": [
        {
          "output_type": "stream",
          "name": "stdout",
          "text": [
            "The purpose of the L2A dataset is to provide waveform interpretation and extracted products from each GEDI waveform.  This includes ground elevation, canopy top height, relative return energy metrics (describing canopy vertical structure, for example), and many other interpreted products from the return waveforms.\n"
          ]
        }
      ],
      "source": [
        "print(gediL2A['METADATA']['DatasetIdentification'].attrs['purpose'])"
      ]
    },
    {
      "cell_type": "markdown",
      "metadata": {
        "id": "2djRp6Pbsi7r"
      },
      "source": [
        "## 2.2 Read SDS Metadata and Subset by Beam <a id=\"2.2\"></a>"
      ]
    },
    {
      "cell_type": "markdown",
      "metadata": {
        "id": "1JWDPX2vsi7r"
      },
      "source": [
        "####  The GEDI instrument consists of 3 lasers producing a total of 8 beam ground transects. The eight remaining groups contain data for each of the eight GEDI beam transects. For additional information, be sure to check out: https://gedi.umd.edu/instrument/specifications/."
      ]
    },
    {
      "cell_type": "code",
      "execution_count": null,
      "metadata": {
        "colab": {
          "base_uri": "https://localhost:8080/"
        },
        "id": "bZNiW0d6si7r",
        "outputId": "98fd2053-d960-47d0-a61a-897dd8bf5cb8"
      },
      "outputs": [
        {
          "output_type": "execute_result",
          "data": {
            "text/plain": [
              "['BEAM0000',\n",
              " 'BEAM0001',\n",
              " 'BEAM0010',\n",
              " 'BEAM0011',\n",
              " 'BEAM0101',\n",
              " 'BEAM0110',\n",
              " 'BEAM1000',\n",
              " 'BEAM1011']"
            ]
          },
          "metadata": {},
          "execution_count": 33
        }
      ],
      "source": [
        "beamNames = [g for g in gediL2A.keys() if g.startswith('BEAM')]\n",
        "beamNames"
      ]
    },
    {
      "cell_type": "markdown",
      "metadata": {
        "id": "sxWn4uNZsi7s"
      },
      "source": [
        "#### One useful piece of metadata to retrieve from each beam transect is whether it is a full power beam or a coverage beam."
      ]
    },
    {
      "cell_type": "code",
      "execution_count": null,
      "metadata": {
        "colab": {
          "base_uri": "https://localhost:8080/"
        },
        "id": "9N-RB22Isi7s",
        "outputId": "d784504d-c1c6-4ccd-e294-3f425e7de222"
      },
      "outputs": [
        {
          "output_type": "stream",
          "name": "stdout",
          "text": [
            "description\n"
          ]
        }
      ],
      "source": [
        "for g in gediL2A['BEAM0000'].attrs: print(g)"
      ]
    },
    {
      "cell_type": "code",
      "execution_count": null,
      "metadata": {
        "colab": {
          "base_uri": "https://localhost:8080/"
        },
        "id": "HXdsiVkosi7s",
        "outputId": "0dd7a28e-5a6a-4e29-bb36-ea6c03d178aa"
      },
      "outputs": [
        {
          "output_type": "stream",
          "name": "stdout",
          "text": [
            "BEAM0000 is a Coverage beam\n",
            "BEAM0001 is a Coverage beam\n",
            "BEAM0010 is a Coverage beam\n",
            "BEAM0011 is a Coverage beam\n",
            "BEAM0101 is a Full power beam\n",
            "BEAM0110 is a Full power beam\n",
            "BEAM1000 is a Full power beam\n",
            "BEAM1011 is a Full power beam\n"
          ]
        }
      ],
      "source": [
        "for b in beamNames:\n",
        "    print(f\"{b} is a {gediL2A[b].attrs['description']}\")"
      ]
    },
    {
      "cell_type": "markdown",
      "metadata": {
        "id": "f_3X0tgnsi7t"
      },
      "source": [
        "#### Below, pick one of the full power beams that will be used to retrieve GEDI L2A relative height metrics in Section 3."
      ]
    },
    {
      "cell_type": "code",
      "execution_count": null,
      "metadata": {
        "id": "IP8O7pD-si7t"
      },
      "outputs": [],
      "source": [
        "beamNames = ['BEAM0110']"
      ]
    },
    {
      "cell_type": "markdown",
      "metadata": {
        "id": "MdkdDSr0si7u"
      },
      "source": [
        "#### Identify all the objects in the GEDI HDF5 file below.\n",
        "Note: This step may take a while to complete."
      ]
    },
    {
      "cell_type": "code",
      "execution_count": null,
      "metadata": {
        "colab": {
          "base_uri": "https://localhost:8080/"
        },
        "id": "AKjU6vGUsi7u",
        "outputId": "461e40cb-9ece-44cd-db89-6a11f9860ac9"
      },
      "outputs": [
        {
          "output_type": "execute_result",
          "data": {
            "text/plain": [
              "['BEAM0110/ancillary/l2a_alg_count',\n",
              " 'BEAM0110/beam',\n",
              " 'BEAM0110/channel',\n",
              " 'BEAM0110/degrade_flag',\n",
              " 'BEAM0110/delta_time',\n",
              " 'BEAM0110/digital_elevation_model',\n",
              " 'BEAM0110/digital_elevation_model_srtm',\n",
              " 'BEAM0110/elev_highestreturn',\n",
              " 'BEAM0110/elev_lowestmode',\n",
              " 'BEAM0110/elevation_bias_flag',\n",
              " 'BEAM0110/elevation_bin0_error',\n",
              " 'BEAM0110/energy_total',\n",
              " 'BEAM0110/geolocation/elev_highestreturn_a1',\n",
              " 'BEAM0110/geolocation/elev_highestreturn_a2',\n",
              " 'BEAM0110/geolocation/elev_highestreturn_a3',\n",
              " 'BEAM0110/geolocation/elev_highestreturn_a4',\n",
              " 'BEAM0110/geolocation/elev_highestreturn_a5',\n",
              " 'BEAM0110/geolocation/elev_highestreturn_a6',\n",
              " 'BEAM0110/geolocation/elev_lowestmode_a1',\n",
              " 'BEAM0110/geolocation/elev_lowestmode_a2',\n",
              " 'BEAM0110/geolocation/elev_lowestmode_a3',\n",
              " 'BEAM0110/geolocation/elev_lowestmode_a4',\n",
              " 'BEAM0110/geolocation/elev_lowestmode_a5',\n",
              " 'BEAM0110/geolocation/elev_lowestmode_a6',\n",
              " 'BEAM0110/geolocation/elev_lowestreturn_a1',\n",
              " 'BEAM0110/geolocation/elev_lowestreturn_a2',\n",
              " 'BEAM0110/geolocation/elev_lowestreturn_a3',\n",
              " 'BEAM0110/geolocation/elev_lowestreturn_a4',\n",
              " 'BEAM0110/geolocation/elev_lowestreturn_a5',\n",
              " 'BEAM0110/geolocation/elev_lowestreturn_a6',\n",
              " 'BEAM0110/geolocation/elevation_1gfit',\n",
              " 'BEAM0110/geolocation/elevs_allmodes_a1',\n",
              " 'BEAM0110/geolocation/elevs_allmodes_a2',\n",
              " 'BEAM0110/geolocation/elevs_allmodes_a3',\n",
              " 'BEAM0110/geolocation/elevs_allmodes_a4',\n",
              " 'BEAM0110/geolocation/elevs_allmodes_a5',\n",
              " 'BEAM0110/geolocation/elevs_allmodes_a6',\n",
              " 'BEAM0110/geolocation/energy_lowestmode_a1',\n",
              " 'BEAM0110/geolocation/energy_lowestmode_a2',\n",
              " 'BEAM0110/geolocation/energy_lowestmode_a3',\n",
              " 'BEAM0110/geolocation/energy_lowestmode_a4',\n",
              " 'BEAM0110/geolocation/energy_lowestmode_a5',\n",
              " 'BEAM0110/geolocation/energy_lowestmode_a6',\n",
              " 'BEAM0110/geolocation/lat_highestreturn_a1',\n",
              " 'BEAM0110/geolocation/lat_highestreturn_a2',\n",
              " 'BEAM0110/geolocation/lat_highestreturn_a3',\n",
              " 'BEAM0110/geolocation/lat_highestreturn_a4',\n",
              " 'BEAM0110/geolocation/lat_highestreturn_a5',\n",
              " 'BEAM0110/geolocation/lat_highestreturn_a6',\n",
              " 'BEAM0110/geolocation/lat_lowestmode_a1',\n",
              " 'BEAM0110/geolocation/lat_lowestmode_a2',\n",
              " 'BEAM0110/geolocation/lat_lowestmode_a3',\n",
              " 'BEAM0110/geolocation/lat_lowestmode_a4',\n",
              " 'BEAM0110/geolocation/lat_lowestmode_a5',\n",
              " 'BEAM0110/geolocation/lat_lowestmode_a6',\n",
              " 'BEAM0110/geolocation/lat_lowestreturn_a1',\n",
              " 'BEAM0110/geolocation/lat_lowestreturn_a2',\n",
              " 'BEAM0110/geolocation/lat_lowestreturn_a3',\n",
              " 'BEAM0110/geolocation/lat_lowestreturn_a4',\n",
              " 'BEAM0110/geolocation/lat_lowestreturn_a5',\n",
              " 'BEAM0110/geolocation/lat_lowestreturn_a6',\n",
              " 'BEAM0110/geolocation/latitude_1gfit',\n",
              " 'BEAM0110/geolocation/lats_allmodes_a1',\n",
              " 'BEAM0110/geolocation/lats_allmodes_a2',\n",
              " 'BEAM0110/geolocation/lats_allmodes_a3',\n",
              " 'BEAM0110/geolocation/lats_allmodes_a4',\n",
              " 'BEAM0110/geolocation/lats_allmodes_a5',\n",
              " 'BEAM0110/geolocation/lats_allmodes_a6',\n",
              " 'BEAM0110/geolocation/lon_highestreturn_a1',\n",
              " 'BEAM0110/geolocation/lon_highestreturn_a2',\n",
              " 'BEAM0110/geolocation/lon_highestreturn_a3',\n",
              " 'BEAM0110/geolocation/lon_highestreturn_a4',\n",
              " 'BEAM0110/geolocation/lon_highestreturn_a5',\n",
              " 'BEAM0110/geolocation/lon_highestreturn_a6',\n",
              " 'BEAM0110/geolocation/lon_lowestmode_a1',\n",
              " 'BEAM0110/geolocation/lon_lowestmode_a2',\n",
              " 'BEAM0110/geolocation/lon_lowestmode_a3',\n",
              " 'BEAM0110/geolocation/lon_lowestmode_a4',\n",
              " 'BEAM0110/geolocation/lon_lowestmode_a5',\n",
              " 'BEAM0110/geolocation/lon_lowestmode_a6',\n",
              " 'BEAM0110/geolocation/lon_lowestreturn_a1',\n",
              " 'BEAM0110/geolocation/lon_lowestreturn_a2',\n",
              " 'BEAM0110/geolocation/lon_lowestreturn_a3',\n",
              " 'BEAM0110/geolocation/lon_lowestreturn_a4',\n",
              " 'BEAM0110/geolocation/lon_lowestreturn_a5',\n",
              " 'BEAM0110/geolocation/lon_lowestreturn_a6',\n",
              " 'BEAM0110/geolocation/longitude_1gfit',\n",
              " 'BEAM0110/geolocation/lons_allmodes_a1',\n",
              " 'BEAM0110/geolocation/lons_allmodes_a2',\n",
              " 'BEAM0110/geolocation/lons_allmodes_a3',\n",
              " 'BEAM0110/geolocation/lons_allmodes_a4',\n",
              " 'BEAM0110/geolocation/lons_allmodes_a5',\n",
              " 'BEAM0110/geolocation/lons_allmodes_a6',\n",
              " 'BEAM0110/geolocation/num_detectedmodes_a1',\n",
              " 'BEAM0110/geolocation/num_detectedmodes_a2',\n",
              " 'BEAM0110/geolocation/num_detectedmodes_a3',\n",
              " 'BEAM0110/geolocation/num_detectedmodes_a4',\n",
              " 'BEAM0110/geolocation/num_detectedmodes_a5',\n",
              " 'BEAM0110/geolocation/num_detectedmodes_a6',\n",
              " 'BEAM0110/geolocation/quality_flag_a1',\n",
              " 'BEAM0110/geolocation/quality_flag_a2',\n",
              " 'BEAM0110/geolocation/quality_flag_a3',\n",
              " 'BEAM0110/geolocation/quality_flag_a4',\n",
              " 'BEAM0110/geolocation/quality_flag_a5',\n",
              " 'BEAM0110/geolocation/quality_flag_a6',\n",
              " 'BEAM0110/geolocation/rh_a1',\n",
              " 'BEAM0110/geolocation/rh_a2',\n",
              " 'BEAM0110/geolocation/rh_a3',\n",
              " 'BEAM0110/geolocation/rh_a4',\n",
              " 'BEAM0110/geolocation/rh_a5',\n",
              " 'BEAM0110/geolocation/rh_a6',\n",
              " 'BEAM0110/geolocation/sensitivity_a1',\n",
              " 'BEAM0110/geolocation/sensitivity_a2',\n",
              " 'BEAM0110/geolocation/sensitivity_a3',\n",
              " 'BEAM0110/geolocation/sensitivity_a4',\n",
              " 'BEAM0110/geolocation/sensitivity_a5',\n",
              " 'BEAM0110/geolocation/sensitivity_a6',\n",
              " 'BEAM0110/geolocation/stale_return_flag',\n",
              " 'BEAM0110/land_cover_data/landsat_treecover',\n",
              " 'BEAM0110/land_cover_data/landsat_water_persistence',\n",
              " 'BEAM0110/land_cover_data/leaf_off_doy',\n",
              " 'BEAM0110/land_cover_data/leaf_off_flag',\n",
              " 'BEAM0110/land_cover_data/leaf_on_cycle',\n",
              " 'BEAM0110/land_cover_data/leaf_on_doy',\n",
              " 'BEAM0110/land_cover_data/modis_nonvegetated',\n",
              " 'BEAM0110/land_cover_data/modis_nonvegetated_sd',\n",
              " 'BEAM0110/land_cover_data/modis_treecover',\n",
              " 'BEAM0110/land_cover_data/modis_treecover_sd',\n",
              " 'BEAM0110/land_cover_data/pft_class',\n",
              " 'BEAM0110/land_cover_data/region_class',\n",
              " 'BEAM0110/land_cover_data/urban_focal_window_size',\n",
              " 'BEAM0110/land_cover_data/urban_proportion',\n",
              " 'BEAM0110/lat_highestreturn',\n",
              " 'BEAM0110/lat_lowestmode',\n",
              " 'BEAM0110/latitude_bin0_error',\n",
              " 'BEAM0110/lon_highestreturn',\n",
              " 'BEAM0110/lon_lowestmode',\n",
              " 'BEAM0110/longitude_bin0_error',\n",
              " 'BEAM0110/master_frac',\n",
              " 'BEAM0110/master_int',\n",
              " 'BEAM0110/mean_sea_surface',\n",
              " 'BEAM0110/num_detectedmodes',\n",
              " 'BEAM0110/quality_flag',\n",
              " 'BEAM0110/rh',\n",
              " 'BEAM0110/rx_1gaussfit/ancillary/mpfit_max_func_evals',\n",
              " 'BEAM0110/rx_1gaussfit/ancillary/mpfit_maxiters',\n",
              " 'BEAM0110/rx_1gaussfit/ancillary/mpfit_tolerance',\n",
              " 'BEAM0110/rx_1gaussfit/ancillary/rx_constraint_gamplitude_lower',\n",
              " 'BEAM0110/rx_1gaussfit/ancillary/rx_constraint_gamplitude_upper',\n",
              " 'BEAM0110/rx_1gaussfit/ancillary/rx_constraint_gloc_lower',\n",
              " 'BEAM0110/rx_1gaussfit/ancillary/rx_constraint_gloc_upper',\n",
              " 'BEAM0110/rx_1gaussfit/ancillary/rx_constraint_gwidth_lower',\n",
              " 'BEAM0110/rx_1gaussfit/ancillary/rx_constraint_gwidth_upper',\n",
              " 'BEAM0110/rx_1gaussfit/ancillary/rx_estimate_bias',\n",
              " 'BEAM0110/rx_1gaussfit/ancillary/rx_mean_noise_level',\n",
              " 'BEAM0110/rx_1gaussfit/ancillary/rx_smoothwidth',\n",
              " 'BEAM0110/rx_1gaussfit/rx_gamplitude',\n",
              " 'BEAM0110/rx_1gaussfit/rx_gamplitude_error',\n",
              " 'BEAM0110/rx_1gaussfit/rx_gbias',\n",
              " 'BEAM0110/rx_1gaussfit/rx_gbias_error',\n",
              " 'BEAM0110/rx_1gaussfit/rx_gchisq',\n",
              " 'BEAM0110/rx_1gaussfit/rx_gflag',\n",
              " 'BEAM0110/rx_1gaussfit/rx_giters',\n",
              " 'BEAM0110/rx_1gaussfit/rx_gloc',\n",
              " 'BEAM0110/rx_1gaussfit/rx_gloc_error',\n",
              " 'BEAM0110/rx_1gaussfit/rx_gwidth',\n",
              " 'BEAM0110/rx_1gaussfit/rx_gwidth_error',\n",
              " 'BEAM0110/rx_assess/ancillary/rx_ampbounds_ll',\n",
              " 'BEAM0110/rx_assess/ancillary/rx_ampbounds_ul',\n",
              " 'BEAM0110/rx_assess/ancillary/rx_clipamp',\n",
              " 'BEAM0110/rx_assess/ancillary/rx_pulsethresh',\n",
              " 'BEAM0110/rx_assess/ancillary/rx_ringthresh',\n",
              " 'BEAM0110/rx_assess/ancillary/smoothing_width_locs',\n",
              " 'BEAM0110/rx_assess/mean',\n",
              " 'BEAM0110/rx_assess/mean_64kadjusted',\n",
              " 'BEAM0110/rx_assess/ocean_calibration_shot_flag',\n",
              " 'BEAM0110/rx_assess/quality_flag',\n",
              " 'BEAM0110/rx_assess/rx_assess_flag',\n",
              " 'BEAM0110/rx_assess/rx_clipbin0',\n",
              " 'BEAM0110/rx_assess/rx_clipbin_count',\n",
              " 'BEAM0110/rx_assess/rx_energy',\n",
              " 'BEAM0110/rx_assess/rx_maxamp',\n",
              " 'BEAM0110/rx_assess/rx_maxpeakloc',\n",
              " 'BEAM0110/rx_assess/sd_corrected',\n",
              " 'BEAM0110/rx_processing_a1/ancillary/amp_thresh',\n",
              " 'BEAM0110/rx_processing_a1/ancillary/ampval_limit2',\n",
              " 'BEAM0110/rx_processing_a1/ancillary/ampval_limit3',\n",
              " 'BEAM0110/rx_processing_a1/ancillary/botlocdist_limit1',\n",
              " 'BEAM0110/rx_processing_a1/ancillary/botlocdist_limit2',\n",
              " 'BEAM0110/rx_processing_a1/ancillary/botlocdist_limit3',\n",
              " 'BEAM0110/rx_processing_a1/ancillary/cumulative_energy_minimum',\n",
              " 'BEAM0110/rx_processing_a1/ancillary/cumulative_energy_thresh',\n",
              " 'BEAM0110/rx_processing_a1/ancillary/enable_select_mode',\n",
              " 'BEAM0110/rx_processing_a1/ancillary/energy_thresh',\n",
              " 'BEAM0110/rx_processing_a1/ancillary/preprocessor_threshold',\n",
              " 'BEAM0110/rx_processing_a1/ancillary/pulse_sep_thresh',\n",
              " 'BEAM0110/rx_processing_a1/ancillary/rx_back_threshold',\n",
              " 'BEAM0110/rx_processing_a1/ancillary/rx_front_threshold',\n",
              " 'BEAM0110/rx_processing_a1/ancillary/rx_max_mode_count',\n",
              " 'BEAM0110/rx_processing_a1/ancillary/rx_searchsize',\n",
              " 'BEAM0110/rx_processing_a1/ancillary/rx_sentinel_location',\n",
              " 'BEAM0110/rx_processing_a1/ancillary/rx_smoothing_width_locs',\n",
              " 'BEAM0110/rx_processing_a1/ancillary/rx_smoothing_width_zcross',\n",
              " 'BEAM0110/rx_processing_a1/ancillary/rx_subbin_resolution',\n",
              " 'BEAM0110/rx_processing_a1/ancillary/rx_use_fixed_thresholds',\n",
              " 'BEAM0110/rx_processing_a1/back_threshold',\n",
              " 'BEAM0110/rx_processing_a1/botloc',\n",
              " 'BEAM0110/rx_processing_a1/botloc_amp',\n",
              " 'BEAM0110/rx_processing_a1/energy_sm',\n",
              " 'BEAM0110/rx_processing_a1/front_threshold',\n",
              " 'BEAM0110/rx_processing_a1/lastmodeenergy',\n",
              " 'BEAM0110/rx_processing_a1/mean',\n",
              " 'BEAM0110/rx_processing_a1/mean_sm',\n",
              " 'BEAM0110/rx_processing_a1/min_detection_energy',\n",
              " 'BEAM0110/rx_processing_a1/min_detection_threshold',\n",
              " 'BEAM0110/rx_processing_a1/peak',\n",
              " 'BEAM0110/rx_processing_a1/pk_sm',\n",
              " 'BEAM0110/rx_processing_a1/rx_algrunflag',\n",
              " 'BEAM0110/rx_processing_a1/rx_cumulative',\n",
              " 'BEAM0110/rx_processing_a1/rx_iwaveamps',\n",
              " 'BEAM0110/rx_processing_a1/rx_modeamps',\n",
              " 'BEAM0110/rx_processing_a1/rx_modeenergytobotloc',\n",
              " 'BEAM0110/rx_processing_a1/rx_modelocalenergy',\n",
              " 'BEAM0110/rx_processing_a1/rx_modelocalenergyabovemean',\n",
              " 'BEAM0110/rx_processing_a1/rx_modelocalslope',\n",
              " 'BEAM0110/rx_processing_a1/rx_modelocs',\n",
              " 'BEAM0110/rx_processing_a1/rx_modewidths',\n",
              " 'BEAM0110/rx_processing_a1/rx_nummodes',\n",
              " 'BEAM0110/rx_processing_a1/sd_sm',\n",
              " 'BEAM0110/rx_processing_a1/search_end',\n",
              " 'BEAM0110/rx_processing_a1/search_start',\n",
              " 'BEAM0110/rx_processing_a1/selected_mode',\n",
              " 'BEAM0110/rx_processing_a1/selected_mode_flag',\n",
              " 'BEAM0110/rx_processing_a1/smoothwidth',\n",
              " 'BEAM0110/rx_processing_a1/smoothwidth_zcross',\n",
              " 'BEAM0110/rx_processing_a1/stddev',\n",
              " 'BEAM0110/rx_processing_a1/toploc',\n",
              " 'BEAM0110/rx_processing_a1/toploc_miss',\n",
              " 'BEAM0110/rx_processing_a1/zcross',\n",
              " 'BEAM0110/rx_processing_a1/zcross0',\n",
              " 'BEAM0110/rx_processing_a1/zcross_amp',\n",
              " 'BEAM0110/rx_processing_a1/zcross_localenergy',\n",
              " 'BEAM0110/rx_processing_a2/ancillary/amp_thresh',\n",
              " 'BEAM0110/rx_processing_a2/ancillary/ampval_limit2',\n",
              " 'BEAM0110/rx_processing_a2/ancillary/ampval_limit3',\n",
              " 'BEAM0110/rx_processing_a2/ancillary/botlocdist_limit1',\n",
              " 'BEAM0110/rx_processing_a2/ancillary/botlocdist_limit2',\n",
              " 'BEAM0110/rx_processing_a2/ancillary/botlocdist_limit3',\n",
              " 'BEAM0110/rx_processing_a2/ancillary/cumulative_energy_minimum',\n",
              " 'BEAM0110/rx_processing_a2/ancillary/cumulative_energy_thresh',\n",
              " 'BEAM0110/rx_processing_a2/ancillary/enable_select_mode',\n",
              " 'BEAM0110/rx_processing_a2/ancillary/energy_thresh',\n",
              " 'BEAM0110/rx_processing_a2/ancillary/preprocessor_threshold',\n",
              " 'BEAM0110/rx_processing_a2/ancillary/pulse_sep_thresh',\n",
              " 'BEAM0110/rx_processing_a2/ancillary/rx_back_threshold',\n",
              " 'BEAM0110/rx_processing_a2/ancillary/rx_front_threshold',\n",
              " 'BEAM0110/rx_processing_a2/ancillary/rx_max_mode_count',\n",
              " 'BEAM0110/rx_processing_a2/ancillary/rx_searchsize',\n",
              " 'BEAM0110/rx_processing_a2/ancillary/rx_sentinel_location',\n",
              " 'BEAM0110/rx_processing_a2/ancillary/rx_smoothing_width_locs',\n",
              " 'BEAM0110/rx_processing_a2/ancillary/rx_smoothing_width_zcross',\n",
              " 'BEAM0110/rx_processing_a2/ancillary/rx_subbin_resolution',\n",
              " 'BEAM0110/rx_processing_a2/ancillary/rx_use_fixed_thresholds',\n",
              " 'BEAM0110/rx_processing_a2/back_threshold',\n",
              " 'BEAM0110/rx_processing_a2/botloc',\n",
              " 'BEAM0110/rx_processing_a2/botloc_amp',\n",
              " 'BEAM0110/rx_processing_a2/energy_sm',\n",
              " 'BEAM0110/rx_processing_a2/front_threshold',\n",
              " 'BEAM0110/rx_processing_a2/lastmodeenergy',\n",
              " 'BEAM0110/rx_processing_a2/mean',\n",
              " 'BEAM0110/rx_processing_a2/mean_sm',\n",
              " 'BEAM0110/rx_processing_a2/min_detection_energy',\n",
              " 'BEAM0110/rx_processing_a2/min_detection_threshold',\n",
              " 'BEAM0110/rx_processing_a2/peak',\n",
              " 'BEAM0110/rx_processing_a2/pk_sm',\n",
              " 'BEAM0110/rx_processing_a2/rx_algrunflag',\n",
              " 'BEAM0110/rx_processing_a2/rx_cumulative',\n",
              " 'BEAM0110/rx_processing_a2/rx_iwaveamps',\n",
              " 'BEAM0110/rx_processing_a2/rx_modeamps',\n",
              " 'BEAM0110/rx_processing_a2/rx_modeenergytobotloc',\n",
              " 'BEAM0110/rx_processing_a2/rx_modelocalenergy',\n",
              " 'BEAM0110/rx_processing_a2/rx_modelocalenergyabovemean',\n",
              " 'BEAM0110/rx_processing_a2/rx_modelocalslope',\n",
              " 'BEAM0110/rx_processing_a2/rx_modelocs',\n",
              " 'BEAM0110/rx_processing_a2/rx_modewidths',\n",
              " 'BEAM0110/rx_processing_a2/rx_nummodes',\n",
              " 'BEAM0110/rx_processing_a2/sd_sm',\n",
              " 'BEAM0110/rx_processing_a2/search_end',\n",
              " 'BEAM0110/rx_processing_a2/search_start',\n",
              " 'BEAM0110/rx_processing_a2/selected_mode',\n",
              " 'BEAM0110/rx_processing_a2/selected_mode_flag',\n",
              " 'BEAM0110/rx_processing_a2/smoothwidth',\n",
              " 'BEAM0110/rx_processing_a2/smoothwidth_zcross',\n",
              " 'BEAM0110/rx_processing_a2/stddev',\n",
              " 'BEAM0110/rx_processing_a2/toploc',\n",
              " 'BEAM0110/rx_processing_a2/toploc_miss',\n",
              " 'BEAM0110/rx_processing_a2/zcross',\n",
              " 'BEAM0110/rx_processing_a2/zcross0',\n",
              " 'BEAM0110/rx_processing_a2/zcross_amp',\n",
              " 'BEAM0110/rx_processing_a2/zcross_localenergy',\n",
              " 'BEAM0110/rx_processing_a3/ancillary/amp_thresh',\n",
              " 'BEAM0110/rx_processing_a3/ancillary/ampval_limit2',\n",
              " 'BEAM0110/rx_processing_a3/ancillary/ampval_limit3',\n",
              " 'BEAM0110/rx_processing_a3/ancillary/botlocdist_limit1',\n",
              " 'BEAM0110/rx_processing_a3/ancillary/botlocdist_limit2',\n",
              " 'BEAM0110/rx_processing_a3/ancillary/botlocdist_limit3',\n",
              " 'BEAM0110/rx_processing_a3/ancillary/cumulative_energy_minimum',\n",
              " 'BEAM0110/rx_processing_a3/ancillary/cumulative_energy_thresh',\n",
              " 'BEAM0110/rx_processing_a3/ancillary/enable_select_mode',\n",
              " 'BEAM0110/rx_processing_a3/ancillary/energy_thresh',\n",
              " 'BEAM0110/rx_processing_a3/ancillary/preprocessor_threshold',\n",
              " 'BEAM0110/rx_processing_a3/ancillary/pulse_sep_thresh',\n",
              " 'BEAM0110/rx_processing_a3/ancillary/rx_back_threshold',\n",
              " 'BEAM0110/rx_processing_a3/ancillary/rx_front_threshold',\n",
              " 'BEAM0110/rx_processing_a3/ancillary/rx_max_mode_count',\n",
              " 'BEAM0110/rx_processing_a3/ancillary/rx_searchsize',\n",
              " 'BEAM0110/rx_processing_a3/ancillary/rx_sentinel_location',\n",
              " 'BEAM0110/rx_processing_a3/ancillary/rx_smoothing_width_locs',\n",
              " 'BEAM0110/rx_processing_a3/ancillary/rx_smoothing_width_zcross',\n",
              " 'BEAM0110/rx_processing_a3/ancillary/rx_subbin_resolution',\n",
              " 'BEAM0110/rx_processing_a3/ancillary/rx_use_fixed_thresholds',\n",
              " 'BEAM0110/rx_processing_a3/back_threshold',\n",
              " 'BEAM0110/rx_processing_a3/botloc',\n",
              " 'BEAM0110/rx_processing_a3/botloc_amp',\n",
              " 'BEAM0110/rx_processing_a3/energy_sm',\n",
              " 'BEAM0110/rx_processing_a3/front_threshold',\n",
              " 'BEAM0110/rx_processing_a3/lastmodeenergy',\n",
              " 'BEAM0110/rx_processing_a3/mean',\n",
              " 'BEAM0110/rx_processing_a3/mean_sm',\n",
              " 'BEAM0110/rx_processing_a3/min_detection_energy',\n",
              " 'BEAM0110/rx_processing_a3/min_detection_threshold',\n",
              " 'BEAM0110/rx_processing_a3/peak',\n",
              " 'BEAM0110/rx_processing_a3/pk_sm',\n",
              " 'BEAM0110/rx_processing_a3/rx_algrunflag',\n",
              " 'BEAM0110/rx_processing_a3/rx_cumulative',\n",
              " 'BEAM0110/rx_processing_a3/rx_iwaveamps',\n",
              " 'BEAM0110/rx_processing_a3/rx_modeamps',\n",
              " 'BEAM0110/rx_processing_a3/rx_modeenergytobotloc',\n",
              " 'BEAM0110/rx_processing_a3/rx_modelocalenergy',\n",
              " 'BEAM0110/rx_processing_a3/rx_modelocalenergyabovemean',\n",
              " 'BEAM0110/rx_processing_a3/rx_modelocalslope',\n",
              " 'BEAM0110/rx_processing_a3/rx_modelocs',\n",
              " 'BEAM0110/rx_processing_a3/rx_modewidths',\n",
              " 'BEAM0110/rx_processing_a3/rx_nummodes',\n",
              " 'BEAM0110/rx_processing_a3/sd_sm',\n",
              " 'BEAM0110/rx_processing_a3/search_end',\n",
              " 'BEAM0110/rx_processing_a3/search_start',\n",
              " 'BEAM0110/rx_processing_a3/selected_mode',\n",
              " 'BEAM0110/rx_processing_a3/selected_mode_flag',\n",
              " 'BEAM0110/rx_processing_a3/smoothwidth',\n",
              " 'BEAM0110/rx_processing_a3/smoothwidth_zcross',\n",
              " 'BEAM0110/rx_processing_a3/stddev',\n",
              " 'BEAM0110/rx_processing_a3/toploc',\n",
              " 'BEAM0110/rx_processing_a3/toploc_miss',\n",
              " 'BEAM0110/rx_processing_a3/zcross',\n",
              " 'BEAM0110/rx_processing_a3/zcross0',\n",
              " 'BEAM0110/rx_processing_a3/zcross_amp',\n",
              " 'BEAM0110/rx_processing_a3/zcross_localenergy',\n",
              " 'BEAM0110/rx_processing_a4/ancillary/amp_thresh',\n",
              " 'BEAM0110/rx_processing_a4/ancillary/ampval_limit2',\n",
              " 'BEAM0110/rx_processing_a4/ancillary/ampval_limit3',\n",
              " 'BEAM0110/rx_processing_a4/ancillary/botlocdist_limit1',\n",
              " 'BEAM0110/rx_processing_a4/ancillary/botlocdist_limit2',\n",
              " 'BEAM0110/rx_processing_a4/ancillary/botlocdist_limit3',\n",
              " 'BEAM0110/rx_processing_a4/ancillary/cumulative_energy_minimum',\n",
              " 'BEAM0110/rx_processing_a4/ancillary/cumulative_energy_thresh',\n",
              " 'BEAM0110/rx_processing_a4/ancillary/enable_select_mode',\n",
              " 'BEAM0110/rx_processing_a4/ancillary/energy_thresh',\n",
              " 'BEAM0110/rx_processing_a4/ancillary/preprocessor_threshold',\n",
              " 'BEAM0110/rx_processing_a4/ancillary/pulse_sep_thresh',\n",
              " 'BEAM0110/rx_processing_a4/ancillary/rx_back_threshold',\n",
              " 'BEAM0110/rx_processing_a4/ancillary/rx_front_threshold',\n",
              " 'BEAM0110/rx_processing_a4/ancillary/rx_max_mode_count',\n",
              " 'BEAM0110/rx_processing_a4/ancillary/rx_searchsize',\n",
              " 'BEAM0110/rx_processing_a4/ancillary/rx_sentinel_location',\n",
              " 'BEAM0110/rx_processing_a4/ancillary/rx_smoothing_width_locs',\n",
              " 'BEAM0110/rx_processing_a4/ancillary/rx_smoothing_width_zcross',\n",
              " 'BEAM0110/rx_processing_a4/ancillary/rx_subbin_resolution',\n",
              " 'BEAM0110/rx_processing_a4/ancillary/rx_use_fixed_thresholds',\n",
              " 'BEAM0110/rx_processing_a4/back_threshold',\n",
              " 'BEAM0110/rx_processing_a4/botloc',\n",
              " 'BEAM0110/rx_processing_a4/botloc_amp',\n",
              " 'BEAM0110/rx_processing_a4/energy_sm',\n",
              " 'BEAM0110/rx_processing_a4/front_threshold',\n",
              " 'BEAM0110/rx_processing_a4/lastmodeenergy',\n",
              " 'BEAM0110/rx_processing_a4/mean',\n",
              " 'BEAM0110/rx_processing_a4/mean_sm',\n",
              " 'BEAM0110/rx_processing_a4/min_detection_energy',\n",
              " 'BEAM0110/rx_processing_a4/min_detection_threshold',\n",
              " 'BEAM0110/rx_processing_a4/peak',\n",
              " 'BEAM0110/rx_processing_a4/pk_sm',\n",
              " 'BEAM0110/rx_processing_a4/rx_algrunflag',\n",
              " 'BEAM0110/rx_processing_a4/rx_cumulative',\n",
              " 'BEAM0110/rx_processing_a4/rx_iwaveamps',\n",
              " 'BEAM0110/rx_processing_a4/rx_modeamps',\n",
              " 'BEAM0110/rx_processing_a4/rx_modeenergytobotloc',\n",
              " 'BEAM0110/rx_processing_a4/rx_modelocalenergy',\n",
              " 'BEAM0110/rx_processing_a4/rx_modelocalenergyabovemean',\n",
              " 'BEAM0110/rx_processing_a4/rx_modelocalslope',\n",
              " 'BEAM0110/rx_processing_a4/rx_modelocs',\n",
              " 'BEAM0110/rx_processing_a4/rx_modewidths',\n",
              " 'BEAM0110/rx_processing_a4/rx_nummodes',\n",
              " 'BEAM0110/rx_processing_a4/sd_sm',\n",
              " 'BEAM0110/rx_processing_a4/search_end',\n",
              " 'BEAM0110/rx_processing_a4/search_start',\n",
              " 'BEAM0110/rx_processing_a4/selected_mode',\n",
              " 'BEAM0110/rx_processing_a4/selected_mode_flag',\n",
              " 'BEAM0110/rx_processing_a4/smoothwidth',\n",
              " 'BEAM0110/rx_processing_a4/smoothwidth_zcross',\n",
              " 'BEAM0110/rx_processing_a4/stddev',\n",
              " 'BEAM0110/rx_processing_a4/toploc',\n",
              " 'BEAM0110/rx_processing_a4/toploc_miss',\n",
              " 'BEAM0110/rx_processing_a4/zcross',\n",
              " 'BEAM0110/rx_processing_a4/zcross0',\n",
              " 'BEAM0110/rx_processing_a4/zcross_amp',\n",
              " 'BEAM0110/rx_processing_a4/zcross_localenergy',\n",
              " 'BEAM0110/rx_processing_a5/ancillary/amp_thresh',\n",
              " 'BEAM0110/rx_processing_a5/ancillary/ampval_limit2',\n",
              " 'BEAM0110/rx_processing_a5/ancillary/ampval_limit3',\n",
              " 'BEAM0110/rx_processing_a5/ancillary/botlocdist_limit1',\n",
              " 'BEAM0110/rx_processing_a5/ancillary/botlocdist_limit2',\n",
              " 'BEAM0110/rx_processing_a5/ancillary/botlocdist_limit3',\n",
              " 'BEAM0110/rx_processing_a5/ancillary/cumulative_energy_minimum',\n",
              " 'BEAM0110/rx_processing_a5/ancillary/cumulative_energy_thresh',\n",
              " 'BEAM0110/rx_processing_a5/ancillary/enable_select_mode',\n",
              " 'BEAM0110/rx_processing_a5/ancillary/energy_thresh',\n",
              " 'BEAM0110/rx_processing_a5/ancillary/preprocessor_threshold',\n",
              " 'BEAM0110/rx_processing_a5/ancillary/pulse_sep_thresh',\n",
              " 'BEAM0110/rx_processing_a5/ancillary/rx_back_threshold',\n",
              " 'BEAM0110/rx_processing_a5/ancillary/rx_front_threshold',\n",
              " 'BEAM0110/rx_processing_a5/ancillary/rx_max_mode_count',\n",
              " 'BEAM0110/rx_processing_a5/ancillary/rx_searchsize',\n",
              " 'BEAM0110/rx_processing_a5/ancillary/rx_sentinel_location',\n",
              " 'BEAM0110/rx_processing_a5/ancillary/rx_smoothing_width_locs',\n",
              " 'BEAM0110/rx_processing_a5/ancillary/rx_smoothing_width_zcross',\n",
              " 'BEAM0110/rx_processing_a5/ancillary/rx_subbin_resolution',\n",
              " 'BEAM0110/rx_processing_a5/ancillary/rx_use_fixed_thresholds',\n",
              " 'BEAM0110/rx_processing_a5/back_threshold',\n",
              " 'BEAM0110/rx_processing_a5/botloc',\n",
              " 'BEAM0110/rx_processing_a5/botloc_amp',\n",
              " 'BEAM0110/rx_processing_a5/energy_sm',\n",
              " 'BEAM0110/rx_processing_a5/front_threshold',\n",
              " 'BEAM0110/rx_processing_a5/lastmodeenergy',\n",
              " 'BEAM0110/rx_processing_a5/mean',\n",
              " 'BEAM0110/rx_processing_a5/mean_sm',\n",
              " 'BEAM0110/rx_processing_a5/min_detection_energy',\n",
              " 'BEAM0110/rx_processing_a5/min_detection_threshold',\n",
              " 'BEAM0110/rx_processing_a5/peak',\n",
              " 'BEAM0110/rx_processing_a5/pk_sm',\n",
              " 'BEAM0110/rx_processing_a5/rx_algrunflag',\n",
              " 'BEAM0110/rx_processing_a5/rx_cumulative',\n",
              " 'BEAM0110/rx_processing_a5/rx_iwaveamps',\n",
              " 'BEAM0110/rx_processing_a5/rx_modeamps',\n",
              " 'BEAM0110/rx_processing_a5/rx_modeenergytobotloc',\n",
              " 'BEAM0110/rx_processing_a5/rx_modelocalenergy',\n",
              " 'BEAM0110/rx_processing_a5/rx_modelocalenergyabovemean',\n",
              " 'BEAM0110/rx_processing_a5/rx_modelocalslope',\n",
              " 'BEAM0110/rx_processing_a5/rx_modelocs',\n",
              " 'BEAM0110/rx_processing_a5/rx_modewidths',\n",
              " 'BEAM0110/rx_processing_a5/rx_nummodes',\n",
              " 'BEAM0110/rx_processing_a5/sd_sm',\n",
              " 'BEAM0110/rx_processing_a5/search_end',\n",
              " 'BEAM0110/rx_processing_a5/search_start',\n",
              " 'BEAM0110/rx_processing_a5/selected_mode',\n",
              " 'BEAM0110/rx_processing_a5/selected_mode_flag',\n",
              " 'BEAM0110/rx_processing_a5/smoothwidth',\n",
              " 'BEAM0110/rx_processing_a5/smoothwidth_zcross',\n",
              " 'BEAM0110/rx_processing_a5/stddev',\n",
              " 'BEAM0110/rx_processing_a5/toploc',\n",
              " 'BEAM0110/rx_processing_a5/toploc_miss',\n",
              " 'BEAM0110/rx_processing_a5/zcross',\n",
              " 'BEAM0110/rx_processing_a5/zcross0',\n",
              " 'BEAM0110/rx_processing_a5/zcross_amp',\n",
              " 'BEAM0110/rx_processing_a5/zcross_localenergy',\n",
              " 'BEAM0110/rx_processing_a6/ancillary/amp_thresh',\n",
              " 'BEAM0110/rx_processing_a6/ancillary/ampval_limit2',\n",
              " 'BEAM0110/rx_processing_a6/ancillary/ampval_limit3',\n",
              " 'BEAM0110/rx_processing_a6/ancillary/botlocdist_limit1',\n",
              " 'BEAM0110/rx_processing_a6/ancillary/botlocdist_limit2',\n",
              " 'BEAM0110/rx_processing_a6/ancillary/botlocdist_limit3',\n",
              " 'BEAM0110/rx_processing_a6/ancillary/cumulative_energy_minimum',\n",
              " 'BEAM0110/rx_processing_a6/ancillary/cumulative_energy_thresh',\n",
              " 'BEAM0110/rx_processing_a6/ancillary/enable_select_mode',\n",
              " 'BEAM0110/rx_processing_a6/ancillary/energy_thresh',\n",
              " 'BEAM0110/rx_processing_a6/ancillary/preprocessor_threshold',\n",
              " 'BEAM0110/rx_processing_a6/ancillary/pulse_sep_thresh',\n",
              " 'BEAM0110/rx_processing_a6/ancillary/rx_back_threshold',\n",
              " 'BEAM0110/rx_processing_a6/ancillary/rx_front_threshold',\n",
              " 'BEAM0110/rx_processing_a6/ancillary/rx_max_mode_count',\n",
              " 'BEAM0110/rx_processing_a6/ancillary/rx_searchsize',\n",
              " 'BEAM0110/rx_processing_a6/ancillary/rx_sentinel_location',\n",
              " 'BEAM0110/rx_processing_a6/ancillary/rx_smoothing_width_locs',\n",
              " 'BEAM0110/rx_processing_a6/ancillary/rx_smoothing_width_zcross',\n",
              " 'BEAM0110/rx_processing_a6/ancillary/rx_subbin_resolution',\n",
              " 'BEAM0110/rx_processing_a6/ancillary/rx_use_fixed_thresholds',\n",
              " 'BEAM0110/rx_processing_a6/back_threshold',\n",
              " 'BEAM0110/rx_processing_a6/botloc',\n",
              " 'BEAM0110/rx_processing_a6/botloc_amp',\n",
              " 'BEAM0110/rx_processing_a6/energy_sm',\n",
              " 'BEAM0110/rx_processing_a6/front_threshold',\n",
              " 'BEAM0110/rx_processing_a6/lastmodeenergy',\n",
              " 'BEAM0110/rx_processing_a6/mean',\n",
              " 'BEAM0110/rx_processing_a6/mean_sm',\n",
              " 'BEAM0110/rx_processing_a6/min_detection_energy',\n",
              " 'BEAM0110/rx_processing_a6/min_detection_threshold',\n",
              " 'BEAM0110/rx_processing_a6/peak',\n",
              " 'BEAM0110/rx_processing_a6/pk_sm',\n",
              " 'BEAM0110/rx_processing_a6/rx_algrunflag',\n",
              " 'BEAM0110/rx_processing_a6/rx_cumulative',\n",
              " 'BEAM0110/rx_processing_a6/rx_iwaveamps',\n",
              " 'BEAM0110/rx_processing_a6/rx_modeamps',\n",
              " 'BEAM0110/rx_processing_a6/rx_modeenergytobotloc',\n",
              " 'BEAM0110/rx_processing_a6/rx_modelocalenergy',\n",
              " 'BEAM0110/rx_processing_a6/rx_modelocalenergyabovemean',\n",
              " 'BEAM0110/rx_processing_a6/rx_modelocalslope',\n",
              " 'BEAM0110/rx_processing_a6/rx_modelocs',\n",
              " 'BEAM0110/rx_processing_a6/rx_modewidths',\n",
              " 'BEAM0110/rx_processing_a6/rx_nummodes',\n",
              " 'BEAM0110/rx_processing_a6/sd_sm',\n",
              " 'BEAM0110/rx_processing_a6/search_end',\n",
              " 'BEAM0110/rx_processing_a6/search_start',\n",
              " 'BEAM0110/rx_processing_a6/selected_mode',\n",
              " 'BEAM0110/rx_processing_a6/selected_mode_flag',\n",
              " 'BEAM0110/rx_processing_a6/smoothwidth',\n",
              " 'BEAM0110/rx_processing_a6/smoothwidth_zcross',\n",
              " 'BEAM0110/rx_processing_a6/stddev',\n",
              " 'BEAM0110/rx_processing_a6/toploc',\n",
              " 'BEAM0110/rx_processing_a6/toploc_miss',\n",
              " 'BEAM0110/rx_processing_a6/zcross',\n",
              " 'BEAM0110/rx_processing_a6/zcross0',\n",
              " 'BEAM0110/rx_processing_a6/zcross_amp',\n",
              " 'BEAM0110/rx_processing_a6/zcross_localenergy',\n",
              " 'BEAM0110/selected_algorithm',\n",
              " 'BEAM0110/selected_mode',\n",
              " 'BEAM0110/selected_mode_flag',\n",
              " 'BEAM0110/sensitivity',\n",
              " 'BEAM0110/shot_number',\n",
              " 'BEAM0110/solar_azimuth',\n",
              " 'BEAM0110/solar_elevation',\n",
              " 'BEAM0110/surface_flag']"
            ]
          },
          "metadata": {},
          "execution_count": 37
        }
      ],
      "source": [
        "gediL2A_objs = []\n",
        "gediL2A.visit(gediL2A_objs.append)                                           # Retrieve list of datasets\n",
        "gediSDS = [o for o in gediL2A_objs if isinstance(gediL2A[o], h5py.Dataset)]  # Search for relevant SDS inside data file\n",
        "[i for i in gediSDS if beamNames[0] in i][0:1000]                              # Print the first 10 datasets for selected beam"
      ]
    },
    {
      "cell_type": "markdown",
      "metadata": {
        "id": "6wwZfMZlsi7u"
      },
      "source": [
        "\n",
        "# 3. Visualize a GEDI Orbit <a id=\"visualizeorbit\"></a>\n",
        "#### In the section below, import GEDI L2A SDS layers into a `GeoPandas` GeoDataFrame for the beam specified above.\n",
        "#### Use the `lat_lowestmode` and `lon_lowestmode` to create a `shapely` point for each GEDI shot location."
      ]
    },
    {
      "cell_type": "markdown",
      "metadata": {
        "id": "pBG4Rw7hsi7u"
      },
      "source": [
        "## 3.1 Subset by Layer and Create a Geodataframe <a id=\"3.1\"></a>"
      ]
    },
    {
      "cell_type": "markdown",
      "metadata": {
        "id": "NaFIFchqsi7v"
      },
      "source": [
        "#### Read in the SDS and take a representative sample (every 100th shot) and append to lists, then use the lists to generate a `pandas` dataframe."
      ]
    },
    {
      "cell_type": "code",
      "execution_count": null,
      "metadata": {
        "id": "ycfnOPcysi7v",
        "colab": {
          "base_uri": "https://localhost:8080/",
          "height": 423
        },
        "outputId": "996b29fe-d62a-42ce-85ac-d24078680736"
      },
      "outputs": [
        {
          "output_type": "execute_result",
          "data": {
            "text/plain": [
              "          Beam         Shot Number  Longitude   Latitude  Quality Flag\n",
              "0     BEAM0110  158170600200296839 -80.027824   0.131545             1\n",
              "1     BEAM0110  158170600200296939 -79.998118   0.173800             0\n",
              "2     BEAM0110  158170600200297039 -79.967439   0.217005             0\n",
              "3     BEAM0110  158170600200297139 -79.937764   0.259287             0\n",
              "4     BEAM0110  158170600200297239 -79.908150   0.301371             0\n",
              "...        ...                 ...        ...        ...           ...\n",
              "1027  BEAM0110  158170600200539074   3.754148  51.801178             0\n",
              "1028  BEAM0110  158170600200539174   3.836328  51.801325             0\n",
              "1029  BEAM0110  158170600200539274   3.919386  51.801531             0\n",
              "1030  BEAM0110  158170600200539374   4.003628  51.801597             1\n",
              "1031  BEAM0110  158170600200539474   4.086199  51.801650             1\n",
              "\n",
              "[1032 rows x 5 columns]"
            ],
            "text/html": [
              "\n",
              "  <div id=\"df-27e6063d-c0d7-4f93-94b0-dabf307b4b6d\" class=\"colab-df-container\">\n",
              "    <div>\n",
              "<style scoped>\n",
              "    .dataframe tbody tr th:only-of-type {\n",
              "        vertical-align: middle;\n",
              "    }\n",
              "\n",
              "    .dataframe tbody tr th {\n",
              "        vertical-align: top;\n",
              "    }\n",
              "\n",
              "    .dataframe thead th {\n",
              "        text-align: right;\n",
              "    }\n",
              "</style>\n",
              "<table border=\"1\" class=\"dataframe\">\n",
              "  <thead>\n",
              "    <tr style=\"text-align: right;\">\n",
              "      <th></th>\n",
              "      <th>Beam</th>\n",
              "      <th>Shot Number</th>\n",
              "      <th>Longitude</th>\n",
              "      <th>Latitude</th>\n",
              "      <th>Quality Flag</th>\n",
              "    </tr>\n",
              "  </thead>\n",
              "  <tbody>\n",
              "    <tr>\n",
              "      <th>0</th>\n",
              "      <td>BEAM0110</td>\n",
              "      <td>158170600200296839</td>\n",
              "      <td>-80.027824</td>\n",
              "      <td>0.131545</td>\n",
              "      <td>1</td>\n",
              "    </tr>\n",
              "    <tr>\n",
              "      <th>1</th>\n",
              "      <td>BEAM0110</td>\n",
              "      <td>158170600200296939</td>\n",
              "      <td>-79.998118</td>\n",
              "      <td>0.173800</td>\n",
              "      <td>0</td>\n",
              "    </tr>\n",
              "    <tr>\n",
              "      <th>2</th>\n",
              "      <td>BEAM0110</td>\n",
              "      <td>158170600200297039</td>\n",
              "      <td>-79.967439</td>\n",
              "      <td>0.217005</td>\n",
              "      <td>0</td>\n",
              "    </tr>\n",
              "    <tr>\n",
              "      <th>3</th>\n",
              "      <td>BEAM0110</td>\n",
              "      <td>158170600200297139</td>\n",
              "      <td>-79.937764</td>\n",
              "      <td>0.259287</td>\n",
              "      <td>0</td>\n",
              "    </tr>\n",
              "    <tr>\n",
              "      <th>4</th>\n",
              "      <td>BEAM0110</td>\n",
              "      <td>158170600200297239</td>\n",
              "      <td>-79.908150</td>\n",
              "      <td>0.301371</td>\n",
              "      <td>0</td>\n",
              "    </tr>\n",
              "    <tr>\n",
              "      <th>...</th>\n",
              "      <td>...</td>\n",
              "      <td>...</td>\n",
              "      <td>...</td>\n",
              "      <td>...</td>\n",
              "      <td>...</td>\n",
              "    </tr>\n",
              "    <tr>\n",
              "      <th>1027</th>\n",
              "      <td>BEAM0110</td>\n",
              "      <td>158170600200539074</td>\n",
              "      <td>3.754148</td>\n",
              "      <td>51.801178</td>\n",
              "      <td>0</td>\n",
              "    </tr>\n",
              "    <tr>\n",
              "      <th>1028</th>\n",
              "      <td>BEAM0110</td>\n",
              "      <td>158170600200539174</td>\n",
              "      <td>3.836328</td>\n",
              "      <td>51.801325</td>\n",
              "      <td>0</td>\n",
              "    </tr>\n",
              "    <tr>\n",
              "      <th>1029</th>\n",
              "      <td>BEAM0110</td>\n",
              "      <td>158170600200539274</td>\n",
              "      <td>3.919386</td>\n",
              "      <td>51.801531</td>\n",
              "      <td>0</td>\n",
              "    </tr>\n",
              "    <tr>\n",
              "      <th>1030</th>\n",
              "      <td>BEAM0110</td>\n",
              "      <td>158170600200539374</td>\n",
              "      <td>4.003628</td>\n",
              "      <td>51.801597</td>\n",
              "      <td>1</td>\n",
              "    </tr>\n",
              "    <tr>\n",
              "      <th>1031</th>\n",
              "      <td>BEAM0110</td>\n",
              "      <td>158170600200539474</td>\n",
              "      <td>4.086199</td>\n",
              "      <td>51.801650</td>\n",
              "      <td>1</td>\n",
              "    </tr>\n",
              "  </tbody>\n",
              "</table>\n",
              "<p>1032 rows × 5 columns</p>\n",
              "</div>\n",
              "    <div class=\"colab-df-buttons\">\n",
              "\n",
              "  <div class=\"colab-df-container\">\n",
              "    <button class=\"colab-df-convert\" onclick=\"convertToInteractive('df-27e6063d-c0d7-4f93-94b0-dabf307b4b6d')\"\n",
              "            title=\"Convert this dataframe to an interactive table.\"\n",
              "            style=\"display:none;\">\n",
              "\n",
              "  <svg xmlns=\"http://www.w3.org/2000/svg\" height=\"24px\" viewBox=\"0 -960 960 960\">\n",
              "    <path d=\"M120-120v-720h720v720H120Zm60-500h600v-160H180v160Zm220 220h160v-160H400v160Zm0 220h160v-160H400v160ZM180-400h160v-160H180v160Zm440 0h160v-160H620v160ZM180-180h160v-160H180v160Zm440 0h160v-160H620v160Z\"/>\n",
              "  </svg>\n",
              "    </button>\n",
              "\n",
              "  <style>\n",
              "    .colab-df-container {\n",
              "      display:flex;\n",
              "      gap: 12px;\n",
              "    }\n",
              "\n",
              "    .colab-df-convert {\n",
              "      background-color: #E8F0FE;\n",
              "      border: none;\n",
              "      border-radius: 50%;\n",
              "      cursor: pointer;\n",
              "      display: none;\n",
              "      fill: #1967D2;\n",
              "      height: 32px;\n",
              "      padding: 0 0 0 0;\n",
              "      width: 32px;\n",
              "    }\n",
              "\n",
              "    .colab-df-convert:hover {\n",
              "      background-color: #E2EBFA;\n",
              "      box-shadow: 0px 1px 2px rgba(60, 64, 67, 0.3), 0px 1px 3px 1px rgba(60, 64, 67, 0.15);\n",
              "      fill: #174EA6;\n",
              "    }\n",
              "\n",
              "    .colab-df-buttons div {\n",
              "      margin-bottom: 4px;\n",
              "    }\n",
              "\n",
              "    [theme=dark] .colab-df-convert {\n",
              "      background-color: #3B4455;\n",
              "      fill: #D2E3FC;\n",
              "    }\n",
              "\n",
              "    [theme=dark] .colab-df-convert:hover {\n",
              "      background-color: #434B5C;\n",
              "      box-shadow: 0px 1px 3px 1px rgba(0, 0, 0, 0.15);\n",
              "      filter: drop-shadow(0px 1px 2px rgba(0, 0, 0, 0.3));\n",
              "      fill: #FFFFFF;\n",
              "    }\n",
              "  </style>\n",
              "\n",
              "    <script>\n",
              "      const buttonEl =\n",
              "        document.querySelector('#df-27e6063d-c0d7-4f93-94b0-dabf307b4b6d button.colab-df-convert');\n",
              "      buttonEl.style.display =\n",
              "        google.colab.kernel.accessAllowed ? 'block' : 'none';\n",
              "\n",
              "      async function convertToInteractive(key) {\n",
              "        const element = document.querySelector('#df-27e6063d-c0d7-4f93-94b0-dabf307b4b6d');\n",
              "        const dataTable =\n",
              "          await google.colab.kernel.invokeFunction('convertToInteractive',\n",
              "                                                    [key], {});\n",
              "        if (!dataTable) return;\n",
              "\n",
              "        const docLinkHtml = 'Like what you see? Visit the ' +\n",
              "          '<a target=\"_blank\" href=https://colab.research.google.com/notebooks/data_table.ipynb>data table notebook</a>'\n",
              "          + ' to learn more about interactive tables.';\n",
              "        element.innerHTML = '';\n",
              "        dataTable['output_type'] = 'display_data';\n",
              "        await google.colab.output.renderOutput(dataTable, element);\n",
              "        const docLink = document.createElement('div');\n",
              "        docLink.innerHTML = docLinkHtml;\n",
              "        element.appendChild(docLink);\n",
              "      }\n",
              "    </script>\n",
              "  </div>\n",
              "\n",
              "\n",
              "<div id=\"df-12fe5be5-c871-4d67-8290-041ea1a96fbd\">\n",
              "  <button class=\"colab-df-quickchart\" onclick=\"quickchart('df-12fe5be5-c871-4d67-8290-041ea1a96fbd')\"\n",
              "            title=\"Suggest charts\"\n",
              "            style=\"display:none;\">\n",
              "\n",
              "<svg xmlns=\"http://www.w3.org/2000/svg\" height=\"24px\"viewBox=\"0 0 24 24\"\n",
              "     width=\"24px\">\n",
              "    <g>\n",
              "        <path d=\"M19 3H5c-1.1 0-2 .9-2 2v14c0 1.1.9 2 2 2h14c1.1 0 2-.9 2-2V5c0-1.1-.9-2-2-2zM9 17H7v-7h2v7zm4 0h-2V7h2v10zm4 0h-2v-4h2v4z\"/>\n",
              "    </g>\n",
              "</svg>\n",
              "  </button>\n",
              "\n",
              "<style>\n",
              "  .colab-df-quickchart {\n",
              "      --bg-color: #E8F0FE;\n",
              "      --fill-color: #1967D2;\n",
              "      --hover-bg-color: #E2EBFA;\n",
              "      --hover-fill-color: #174EA6;\n",
              "      --disabled-fill-color: #AAA;\n",
              "      --disabled-bg-color: #DDD;\n",
              "  }\n",
              "\n",
              "  [theme=dark] .colab-df-quickchart {\n",
              "      --bg-color: #3B4455;\n",
              "      --fill-color: #D2E3FC;\n",
              "      --hover-bg-color: #434B5C;\n",
              "      --hover-fill-color: #FFFFFF;\n",
              "      --disabled-bg-color: #3B4455;\n",
              "      --disabled-fill-color: #666;\n",
              "  }\n",
              "\n",
              "  .colab-df-quickchart {\n",
              "    background-color: var(--bg-color);\n",
              "    border: none;\n",
              "    border-radius: 50%;\n",
              "    cursor: pointer;\n",
              "    display: none;\n",
              "    fill: var(--fill-color);\n",
              "    height: 32px;\n",
              "    padding: 0;\n",
              "    width: 32px;\n",
              "  }\n",
              "\n",
              "  .colab-df-quickchart:hover {\n",
              "    background-color: var(--hover-bg-color);\n",
              "    box-shadow: 0 1px 2px rgba(60, 64, 67, 0.3), 0 1px 3px 1px rgba(60, 64, 67, 0.15);\n",
              "    fill: var(--button-hover-fill-color);\n",
              "  }\n",
              "\n",
              "  .colab-df-quickchart-complete:disabled,\n",
              "  .colab-df-quickchart-complete:disabled:hover {\n",
              "    background-color: var(--disabled-bg-color);\n",
              "    fill: var(--disabled-fill-color);\n",
              "    box-shadow: none;\n",
              "  }\n",
              "\n",
              "  .colab-df-spinner {\n",
              "    border: 2px solid var(--fill-color);\n",
              "    border-color: transparent;\n",
              "    border-bottom-color: var(--fill-color);\n",
              "    animation:\n",
              "      spin 1s steps(1) infinite;\n",
              "  }\n",
              "\n",
              "  @keyframes spin {\n",
              "    0% {\n",
              "      border-color: transparent;\n",
              "      border-bottom-color: var(--fill-color);\n",
              "      border-left-color: var(--fill-color);\n",
              "    }\n",
              "    20% {\n",
              "      border-color: transparent;\n",
              "      border-left-color: var(--fill-color);\n",
              "      border-top-color: var(--fill-color);\n",
              "    }\n",
              "    30% {\n",
              "      border-color: transparent;\n",
              "      border-left-color: var(--fill-color);\n",
              "      border-top-color: var(--fill-color);\n",
              "      border-right-color: var(--fill-color);\n",
              "    }\n",
              "    40% {\n",
              "      border-color: transparent;\n",
              "      border-right-color: var(--fill-color);\n",
              "      border-top-color: var(--fill-color);\n",
              "    }\n",
              "    60% {\n",
              "      border-color: transparent;\n",
              "      border-right-color: var(--fill-color);\n",
              "    }\n",
              "    80% {\n",
              "      border-color: transparent;\n",
              "      border-right-color: var(--fill-color);\n",
              "      border-bottom-color: var(--fill-color);\n",
              "    }\n",
              "    90% {\n",
              "      border-color: transparent;\n",
              "      border-bottom-color: var(--fill-color);\n",
              "    }\n",
              "  }\n",
              "</style>\n",
              "\n",
              "  <script>\n",
              "    async function quickchart(key) {\n",
              "      const quickchartButtonEl =\n",
              "        document.querySelector('#' + key + ' button');\n",
              "      quickchartButtonEl.disabled = true;  // To prevent multiple clicks.\n",
              "      quickchartButtonEl.classList.add('colab-df-spinner');\n",
              "      try {\n",
              "        const charts = await google.colab.kernel.invokeFunction(\n",
              "            'suggestCharts', [key], {});\n",
              "      } catch (error) {\n",
              "        console.error('Error during call to suggestCharts:', error);\n",
              "      }\n",
              "      quickchartButtonEl.classList.remove('colab-df-spinner');\n",
              "      quickchartButtonEl.classList.add('colab-df-quickchart-complete');\n",
              "    }\n",
              "    (() => {\n",
              "      let quickchartButtonEl =\n",
              "        document.querySelector('#df-12fe5be5-c871-4d67-8290-041ea1a96fbd button');\n",
              "      quickchartButtonEl.style.display =\n",
              "        google.colab.kernel.accessAllowed ? 'block' : 'none';\n",
              "    })();\n",
              "  </script>\n",
              "</div>\n",
              "\n",
              "  <div id=\"id_d08336ad-6e48-43a0-896c-1e48a559387a\">\n",
              "    <style>\n",
              "      .colab-df-generate {\n",
              "        background-color: #E8F0FE;\n",
              "        border: none;\n",
              "        border-radius: 50%;\n",
              "        cursor: pointer;\n",
              "        display: none;\n",
              "        fill: #1967D2;\n",
              "        height: 32px;\n",
              "        padding: 0 0 0 0;\n",
              "        width: 32px;\n",
              "      }\n",
              "\n",
              "      .colab-df-generate:hover {\n",
              "        background-color: #E2EBFA;\n",
              "        box-shadow: 0px 1px 2px rgba(60, 64, 67, 0.3), 0px 1px 3px 1px rgba(60, 64, 67, 0.15);\n",
              "        fill: #174EA6;\n",
              "      }\n",
              "\n",
              "      [theme=dark] .colab-df-generate {\n",
              "        background-color: #3B4455;\n",
              "        fill: #D2E3FC;\n",
              "      }\n",
              "\n",
              "      [theme=dark] .colab-df-generate:hover {\n",
              "        background-color: #434B5C;\n",
              "        box-shadow: 0px 1px 3px 1px rgba(0, 0, 0, 0.15);\n",
              "        filter: drop-shadow(0px 1px 2px rgba(0, 0, 0, 0.3));\n",
              "        fill: #FFFFFF;\n",
              "      }\n",
              "    </style>\n",
              "    <button class=\"colab-df-generate\" onclick=\"generateWithVariable('latslons')\"\n",
              "            title=\"Generate code using this dataframe.\"\n",
              "            style=\"display:none;\">\n",
              "\n",
              "  <svg xmlns=\"http://www.w3.org/2000/svg\" height=\"24px\"viewBox=\"0 0 24 24\"\n",
              "       width=\"24px\">\n",
              "    <path d=\"M7,19H8.4L18.45,9,17,7.55,7,17.6ZM5,21V16.75L18.45,3.32a2,2,0,0,1,2.83,0l1.4,1.43a1.91,1.91,0,0,1,.58,1.4,1.91,1.91,0,0,1-.58,1.4L9.25,21ZM18.45,9,17,7.55Zm-12,3A5.31,5.31,0,0,0,4.9,8.1,5.31,5.31,0,0,0,1,6.5,5.31,5.31,0,0,0,4.9,4.9,5.31,5.31,0,0,0,6.5,1,5.31,5.31,0,0,0,8.1,4.9,5.31,5.31,0,0,0,12,6.5,5.46,5.46,0,0,0,6.5,12Z\"/>\n",
              "  </svg>\n",
              "    </button>\n",
              "    <script>\n",
              "      (() => {\n",
              "      const buttonEl =\n",
              "        document.querySelector('#id_d08336ad-6e48-43a0-896c-1e48a559387a button.colab-df-generate');\n",
              "      buttonEl.style.display =\n",
              "        google.colab.kernel.accessAllowed ? 'block' : 'none';\n",
              "\n",
              "      buttonEl.onclick = () => {\n",
              "        google.colab.notebook.generateWithVariable('latslons');\n",
              "      }\n",
              "      })();\n",
              "    </script>\n",
              "  </div>\n",
              "\n",
              "    </div>\n",
              "  </div>\n"
            ],
            "application/vnd.google.colaboratory.intrinsic+json": {
              "type": "dataframe",
              "variable_name": "latslons",
              "summary": "{\n  \"name\": \"latslons\",\n  \"rows\": 1032,\n  \"fields\": [\n    {\n      \"column\": \"Beam\",\n      \"properties\": {\n        \"dtype\": \"category\",\n        \"num_unique_values\": 1,\n        \"samples\": [\n          \"BEAM0110\"\n        ],\n        \"semantic_type\": \"\",\n        \"description\": \"\"\n      }\n    },\n    {\n      \"column\": \"Shot Number\",\n      \"properties\": {\n        \"dtype\": \"string\",\n        \"num_unique_values\": 1032,\n        \"samples\": [\n          \"158170600200307739\"\n        ],\n        \"semantic_type\": \"\",\n        \"description\": \"\"\n      }\n    },\n    {\n      \"column\": \"Longitude\",\n      \"properties\": {\n        \"dtype\": \"number\",\n        \"std\": 29.13337885060655,\n        \"min\": -80.02782406605681,\n        \"max\": 4.086199436437095,\n        \"num_unique_values\": 1032,\n        \"samples\": [\n          -76.77097700127445\n        ],\n        \"semantic_type\": \"\",\n        \"description\": \"\"\n      }\n    },\n    {\n      \"column\": \"Latitude\",\n      \"properties\": {\n        \"dtype\": \"number\",\n        \"std\": 19.79657208877498,\n        \"min\": 0.13154471954245253,\n        \"max\": 51.80164976390824,\n        \"num_unique_values\": 1032,\n        \"samples\": [\n          4.748155800275557\n        ],\n        \"semantic_type\": \"\",\n        \"description\": \"\"\n      }\n    },\n    {\n      \"column\": \"Quality Flag\",\n      \"properties\": {\n        \"dtype\": \"uint8\",\n        \"num_unique_values\": 2,\n        \"samples\": [\n          0\n        ],\n        \"semantic_type\": \"\",\n        \"description\": \"\"\n      }\n    }\n  ]\n}"
            }
          },
          "metadata": {},
          "execution_count": 53
        }
      ],
      "source": [
        "lonSample, latSample, shotSample, qualitySample, beamSample = [], [], [], [], []  # Set up lists to store data\n",
        "\n",
        "# Open the SDS\n",
        "lats = gediL2A[f'{beamNames[0]}/lat_lowestmode'][()]\n",
        "lons = gediL2A[f'{beamNames[0]}/lon_lowestmode'][()]\n",
        "shots = gediL2A[f'{beamNames[0]}/shot_number'][()]\n",
        "quality = gediL2A[f'{beamNames[0]}/quality_flag'][()]\n",
        "\n",
        "# Take every 100th shot and append to list\n",
        "for i in range(len(shots)):\n",
        "    if i % 100 == 0:\n",
        "        shotSample.append(str(shots[i]))\n",
        "        lonSample.append(lons[i])\n",
        "        latSample.append(lats[i])\n",
        "        qualitySample.append(quality[i])\n",
        "        beamSample.append(beamNames[0])\n",
        "\n",
        "# Write all of the sample shots to a dataframe\n",
        "latslons = pd.DataFrame({'Beam': beamSample, 'Shot Number': shotSample, 'Longitude': lonSample, 'Latitude': latSample,\n",
        "                         'Quality Flag': qualitySample})\n",
        "latslons"
      ]
    },
    {
      "cell_type": "markdown",
      "source": [],
      "metadata": {
        "id": "piNb6By2vzLO"
      }
    },
    {
      "source": [
        "from google.colab import sheets\n",
        "sheet = sheets.InteractiveSheet(df=latslons)"
      ],
      "cell_type": "code",
      "execution_count": null,
      "outputs": [],
      "metadata": {
        "cellView": "form",
        "id": "LWSA3LIQZrcs"
      }
    },
    {
      "cell_type": "code",
      "source": [
        "# Calculate the middle row index\n",
        "middle_index = len(latslons) // 2\n",
        "\n",
        "# Select the middle row\n",
        "middle_row = latslons.iloc[middle_index]\n",
        "\n",
        "print(middle_row)"
      ],
      "metadata": {
        "id": "srveE5oXY369",
        "colab": {
          "base_uri": "https://localhost:8080/"
        },
        "outputId": "be482ed7-2262-4411-9c0f-1faa8899a992"
      },
      "execution_count": null,
      "outputs": [
        {
          "output_type": "stream",
          "name": "stdout",
          "text": [
            "Beam                      BEAM0110\n",
            "Shot Number     158170600200487974\n",
            "Longitude               -32.392816\n",
            "Latitude                 44.996753\n",
            "Quality Flag                     0\n",
            "Name: 516, dtype: object\n"
          ]
        }
      ]
    },
    {
      "cell_type": "markdown",
      "metadata": {
        "id": "IsrkAY-5si7v"
      },
      "source": [
        "#### Above is a dataframe containing columns describing the beam, shot number, lat/lon location, and quality information about each shot."
      ]
    },
    {
      "cell_type": "code",
      "execution_count": null,
      "metadata": {
        "id": "YbLZ9TsBsi7w"
      },
      "outputs": [],
      "source": [
        "# Clean up variables that will no longer be needed\n",
        "del beamSample, quality, qualitySample, gediL2A_objs, latSample, lats, lonSample, lons, shotSample, shots"
      ]
    },
    {
      "cell_type": "markdown",
      "metadata": {
        "id": "uFkqSm7gsi7w"
      },
      "source": [
        "#### Below, create an additional column called 'geometry' that contains a `shapely` point generated from each lat/lon location from the shot."
      ]
    },
    {
      "cell_type": "code",
      "execution_count": null,
      "metadata": {
        "id": "uMED0kLRsi73"
      },
      "outputs": [],
      "source": [
        "# Take the lat/lon dataframe and convert each lat/lon to a shapely point\n",
        "latslons['geometry'] = latslons.apply(lambda row: Point(row.Longitude, row.Latitude), axis=1)"
      ]
    },
    {
      "cell_type": "markdown",
      "metadata": {
        "id": "rt_3bL2jsi73"
      },
      "source": [
        "#### Next, convert to a `Geopandas` GeoDataFrame."
      ]
    },
    {
      "cell_type": "code",
      "execution_count": null,
      "metadata": {
        "id": "G2v4ozcgsi73",
        "colab": {
          "base_uri": "https://localhost:8080/",
          "height": 458
        },
        "outputId": "0b0e3f44-4c8a-4f42-eb54-92731d467f25"
      },
      "outputs": [
        {
          "output_type": "execute_result",
          "data": {
            "text/plain": [
              "0       POINT (-80.02782 0.13154)\n",
              "1        POINT (-79.99812 0.1738)\n",
              "2         POINT (-79.96744 0.217)\n",
              "3       POINT (-79.93776 0.25929)\n",
              "4       POINT (-79.90815 0.30137)\n",
              "                  ...            \n",
              "1027     POINT (3.75415 51.80118)\n",
              "1028     POINT (3.83633 51.80132)\n",
              "1029     POINT (3.91939 51.80153)\n",
              "1030      POINT (4.00363 51.8016)\n",
              "1031      POINT (4.0862 51.80165)\n",
              "Name: geometry, Length: 1032, dtype: geometry"
            ],
            "text/html": [
              "<div>\n",
              "<style scoped>\n",
              "    .dataframe tbody tr th:only-of-type {\n",
              "        vertical-align: middle;\n",
              "    }\n",
              "\n",
              "    .dataframe tbody tr th {\n",
              "        vertical-align: top;\n",
              "    }\n",
              "\n",
              "    .dataframe thead th {\n",
              "        text-align: right;\n",
              "    }\n",
              "</style>\n",
              "<table border=\"1\" class=\"dataframe\">\n",
              "  <thead>\n",
              "    <tr style=\"text-align: right;\">\n",
              "      <th></th>\n",
              "      <th>geometry</th>\n",
              "    </tr>\n",
              "  </thead>\n",
              "  <tbody>\n",
              "    <tr>\n",
              "      <th>0</th>\n",
              "      <td>POINT (-80.02782 0.13154)</td>\n",
              "    </tr>\n",
              "    <tr>\n",
              "      <th>1</th>\n",
              "      <td>POINT (-79.99812 0.1738)</td>\n",
              "    </tr>\n",
              "    <tr>\n",
              "      <th>2</th>\n",
              "      <td>POINT (-79.96744 0.217)</td>\n",
              "    </tr>\n",
              "    <tr>\n",
              "      <th>3</th>\n",
              "      <td>POINT (-79.93776 0.25929)</td>\n",
              "    </tr>\n",
              "    <tr>\n",
              "      <th>4</th>\n",
              "      <td>POINT (-79.90815 0.30137)</td>\n",
              "    </tr>\n",
              "    <tr>\n",
              "      <th>...</th>\n",
              "      <td>...</td>\n",
              "    </tr>\n",
              "    <tr>\n",
              "      <th>1027</th>\n",
              "      <td>POINT (3.75415 51.80118)</td>\n",
              "    </tr>\n",
              "    <tr>\n",
              "      <th>1028</th>\n",
              "      <td>POINT (3.83633 51.80132)</td>\n",
              "    </tr>\n",
              "    <tr>\n",
              "      <th>1029</th>\n",
              "      <td>POINT (3.91939 51.80153)</td>\n",
              "    </tr>\n",
              "    <tr>\n",
              "      <th>1030</th>\n",
              "      <td>POINT (4.00363 51.8016)</td>\n",
              "    </tr>\n",
              "    <tr>\n",
              "      <th>1031</th>\n",
              "      <td>POINT (4.0862 51.80165)</td>\n",
              "    </tr>\n",
              "  </tbody>\n",
              "</table>\n",
              "<p>1032 rows × 1 columns</p>\n",
              "</div><br><label><b>dtype:</b> geometry</label>"
            ]
          },
          "metadata": {},
          "execution_count": 47
        }
      ],
      "source": [
        "# Convert to a Geodataframe\n",
        "latslons = gp.GeoDataFrame(latslons)\n",
        "latslons = latslons.drop(columns=['Latitude','Longitude'])\n",
        "latslons['geometry']"
      ]
    },
    {
      "cell_type": "markdown",
      "metadata": {
        "id": "O7lK_BiLsi74"
      },
      "source": [
        "#### Pull out and plot an example `shapely` point below."
      ]
    },
    {
      "cell_type": "code",
      "execution_count": null,
      "metadata": {
        "scrolled": true,
        "id": "GD8c7EVLsi74",
        "colab": {
          "base_uri": "https://localhost:8080/",
          "height": 122
        },
        "outputId": "98b68d39-f9ec-4917-acab-b147d41399e6"
      },
      "outputs": [
        {
          "output_type": "execute_result",
          "data": {
            "text/plain": [
              "<POINT (-80.028 0.132)>"
            ],
            "image/svg+xml": "<svg xmlns=\"http://www.w3.org/2000/svg\" xmlns:xlink=\"http://www.w3.org/1999/xlink\" width=\"100.0\" height=\"100.0\" viewBox=\"-81.02782406605681 -0.8684552804575475 2.0 2.0\" preserveAspectRatio=\"xMinYMin meet\"><g transform=\"matrix(1,0,0,-1,0,0.2630894390849051)\"><circle cx=\"-80.02782406605681\" cy=\"0.13154471954245253\" r=\"0.06\" stroke=\"#555555\" stroke-width=\"0.02\" fill=\"#66cc99\" opacity=\"0.6\" /></g></svg>"
          },
          "metadata": {},
          "execution_count": 48
        }
      ],
      "source": [
        "latslons['geometry'][0]"
      ]
    },
    {
      "cell_type": "markdown",
      "metadata": {
        "id": "iqMYB5yJsi75"
      },
      "source": [
        "## 3.2 Visualize a GeoDataFrame <a id=\"3.2\"></a>\n",
        "#### In this section, use the GeoDataFrame and the `geoviews` python package to spatially visualize the location of the GEDI shots on a basemap and import a GeoJSON file of the spatial region of interest for the use case example: Redwood National Park."
      ]
    },
    {
      "cell_type": "code",
      "execution_count": null,
      "metadata": {
        "id": "dXJpbkEcsi75"
      },
      "outputs": [],
      "source": [
        "# Define a function for visualizing GEDI points\n",
        "def pointVisual(features, vdims):\n",
        "    return (gvts.EsriImagery * gv.Points(features, vdims=vdims).options(tools=['hover'], height=500, width=900, size=5,\n",
        "                                                                        color='yellow', fontsize={'xticks': 10, 'yticks': 10,\n",
        "                                                                                                  'xlabel':16, 'ylabel': 16}))"
      ]
    },
    {
      "cell_type": "markdown",
      "metadata": {
        "id": "q8G4M7Sfsi75"
      },
      "source": [
        "#### Import a GeoJSON of Redwood National Park as an additional GeoDataFrame. Note that you will need to have downloaded the [GeoJSON](https://git.earthdata.nasa.gov/projects/LPDUR/repos/gedi-v2-tutorials/browse/RedwoodNP.geojson) from the bitbucket repo containing this tutorial and have it saved in the same directory as this Jupyter Notebook."
      ]
    },
    {
      "cell_type": "code",
      "source": [
        "# !git clone https://github.com/nasa/GEDI-Data-Resources.git"
      ],
      "metadata": {
        "id": "GaoZv4Igwu3T"
      },
      "execution_count": null,
      "outputs": []
    },
    {
      "cell_type": "code",
      "source": [
        "# !pwd"
      ],
      "metadata": {
        "id": "qdhrrf8GwvlD"
      },
      "execution_count": null,
      "outputs": []
    },
    {
      "cell_type": "code",
      "execution_count": null,
      "metadata": {
        "id": "Ui0_MBhlsi75"
      },
      "outputs": [],
      "source": [
        "# ES_Site1 = gp.GeoDataFrame.from_file('/content/drive/MyDrive/PhD_Main_Folder/Geo_Data/GEDI_Dev_ES/ES_geojson_test_site_1.geojson')  # Import GeoJSON as GeoDataFrame\n",
        "\n",
        "ES_Site1 = gp.GeoDataFrame.from_file('/content/drive/MyDrive/PhD_Main_Folder/Geo_Data/GEDI_DEV_GUAN/Expanded_NEON_D04_GUAN_DP1_726000_1988000_classified_point_cloud.geojson')  # Import GeoJSON as GeoDataFrame\n",
        "\n",
        "# polygon = gp.read_file('/content/drive/MyDrive/PhD_Main_Folder/Geo_Data/GEDI_DEV_GUAN/Expanded_NEON_D04_GUAN_DP1_726000_1988000_classified_point_cloud.geojson')\n",
        "# polygon['geometry'][0]"
      ]
    },
    {
      "cell_type": "code",
      "execution_count": null,
      "metadata": {
        "id": "6y10VrKDsi76"
      },
      "outputs": [],
      "source": [
        "ES_Site1"
      ]
    },
    {
      "cell_type": "code",
      "execution_count": null,
      "metadata": {
        "id": "O71Satdksi76"
      },
      "outputs": [],
      "source": [
        "ES_Site1['geometry'][0]  # Plot GeoDataFrame"
      ]
    },
    {
      "cell_type": "markdown",
      "metadata": {
        "id": "4S7jiij1si77"
      },
      "source": [
        "#### Defining the vdims below will allow you to hover over specific shots and view information about them."
      ]
    },
    {
      "cell_type": "code",
      "execution_count": null,
      "metadata": {
        "id": "68Ll1_xxsi77"
      },
      "outputs": [],
      "source": [
        "# Create a list of geodataframe columns to be included as attributes in the output map\n",
        "vdims = []\n",
        "for f in latslons:\n",
        "    if f not in ['geometry']:\n",
        "        vdims.append(f)\n",
        "vdims"
      ]
    },
    {
      "cell_type": "markdown",
      "metadata": {
        "id": "dNPaFmkvsi77"
      },
      "source": [
        "#### Below, combine a plot of the Redwood National Park Boundary (combine two `geoviews` plots using `*`) with the point visual mapping function defined above in order to plot (1) the representative GEDI shots, (2) the region of interest, and (3) a basemap layer."
      ]
    },
    {
      "cell_type": "code",
      "execution_count": null,
      "metadata": {
        "id": "eiG8woi4si78"
      },
      "outputs": [],
      "source": [
        "# Call the function for plotting the GEDI points\n",
        "gv.Polygons(ES_Site1['geometry']).opts(line_color='red', color=None) * pointVisual(latslons, vdims = vdims)"
      ]
    },
    {
      "cell_type": "markdown",
      "metadata": {
        "id": "fSgoJP9Wsi78"
      },
      "source": [
        "#### Above is a good illustration of the new GEDI _Version 2_ sub-orbit granules (remember that GEDI _Version 1_  files are stored as one ISS orbit). One of the benefits of using geoviews is the interactive nature of the output plots. Use the tools to the right of the map above to zoom in and find the shots intersecting Redwood National Park.\n",
        "> (**HINT**: find where the orbit intersects the west coast of the United States)"
      ]
    },
    {
      "cell_type": "markdown",
      "metadata": {
        "id": "QGXqfCD5si78"
      },
      "source": [
        "#### Below is a screenshot of the region of interest:\n",
        "![GEDI_L2A_V2_Tutorial_1.png](../../img/GEDI_L2A_V2_Tutorial_1.png \"Sample of GEDI L1B shots in yellow (orbit 2932) plotted over Redwood National Park, USA.\")"
      ]
    },
    {
      "cell_type": "markdown",
      "metadata": {
        "id": "WUgwf-zPsi79"
      },
      "source": [
        "#### Side Note: Wondering what the 0's and 1's for `quality_flag` mean?"
      ]
    },
    {
      "cell_type": "code",
      "execution_count": null,
      "metadata": {
        "id": "tj7JQypnsi79"
      },
      "outputs": [],
      "source": [
        "print(f\"Quality Flag: {gediL2A[b]['quality_flag'].attrs['description']}\")"
      ]
    },
    {
      "cell_type": "markdown",
      "metadata": {
        "id": "PJ0kbbsxsi79"
      },
      "source": [
        "#### Above, 0 is poor quality and a quality_flag value of 1 indicates the laser shot meets criteria based on energy, sensitivity, amplitude, and real-time surface tracking quality. We will show an example of how to quality filter GEDI data in section 6.1.\n",
        "#### After finding one of the shots within Redwood NP, find the index for that shot number so that we can find the correct RH metrics to visualize in Section 4."
      ]
    },
    {
      "cell_type": "markdown",
      "metadata": {
        "id": "xXJQEehLsi7-"
      },
      "source": [
        "#### Each GEDI shot has a unique shot identifier (shot number) that is available within each data group of the product. The shot number is important to retain in any data subsetting as it will allow the user to link any shot record back to the original orbit data, and to link any shot and its data between the L1 and L2 products. The standard format  for GEDI Shots is as follows:"
      ]
    },
    {
      "cell_type": "markdown",
      "metadata": {
        "id": "_X6B7wESsi7-"
      },
      "source": [
        "### Shot: 29320600200465601\n",
        "> **2932**: Orbit Number      \n",
        "**06**: Beam Number    \n",
        "**0**: Reserved for future use     \n",
        "**02**: Sub-orbit Granule Number    \n",
        "**004**: Minor frame number   \n",
        "**65601**: Shot index  "
      ]
    },
    {
      "cell_type": "code",
      "execution_count": null,
      "metadata": {
        "id": "jHehMtnIsi7_"
      },
      "outputs": [],
      "source": [
        "del latslons  # No longer need the geodataframe used to visualize the full GEDI orbit"
      ]
    },
    {
      "cell_type": "markdown",
      "metadata": {
        "id": "EfJHO_zdsi7_"
      },
      "source": [
        "\n",
        "# 4. Work with GEDI L2A Data<a id=\"L2A\"></a>\n",
        "### Interpretation of RH Metrics\n",
        "#### The GEDI L2A data product provides relative height (RH) metrics, which are “lidar perceived” metrics that have the following characteristics:\n",
        "    1. RH100 = elev_highestreturn - elev_lowestmode\n",
        "    2. The RH metrics are intended for vegetated surfaces. Results over bare/water surfaces are still valid but may present some confusing results.\n",
        "    3. The lower RH metrics (e.g., RH10) will often have negative values, particularly in low canopy cover conditions. This is because a relatively high fraction of the waveform energy is from the ground and below elev_lowestmode. For example, if the ground return contains 30% of the energy, then RH1 through 15 are likely to be below 0 since half of the ground energy from the ground return is below the center of the ground return, which is used to determine the mean ground elevation in the footprint (elev_lowestmode).\n",
        "\n",
        "####  In this section, import and extract a specific GEDI L2A shot. From there, plot relative height (RH) metrics, and then combine with the L1B full waveform data. Note that we will continue to use `BEAM0110` from Section 3."
      ]
    },
    {
      "cell_type": "markdown",
      "metadata": {
        "id": "lKTOy2P_si8A"
      },
      "source": [
        "## 4.1 Import and Extract Specific Shots\n",
        "#### Notice that there are thousands of datasets available in the GEDI L2A product. In the code blocks below, you will subset to just a few of the datasets available."
      ]
    },
    {
      "cell_type": "code",
      "execution_count": null,
      "metadata": {
        "id": "tHPaJusvsi8A"
      },
      "outputs": [],
      "source": [
        "len(gediSDS)"
      ]
    },
    {
      "cell_type": "code",
      "execution_count": null,
      "metadata": {
        "id": "cgnFdRxYsi8A"
      },
      "outputs": [],
      "source": [
        "beamNames"
      ]
    },
    {
      "cell_type": "markdown",
      "metadata": {
        "id": "3fDj6ehJsi8B"
      },
      "source": [
        "#### Begin by subsetting just to the selected full power beam:"
      ]
    },
    {
      "cell_type": "code",
      "execution_count": null,
      "metadata": {
        "scrolled": true,
        "id": "uKwlMBsFsi8B"
      },
      "outputs": [],
      "source": [
        "beamSDS = [g for g in gediSDS if beamNames[0] in g]  # Subset to a single beam\n",
        "len(beamSDS)"
      ]
    },
    {
      "cell_type": "markdown",
      "metadata": {
        "id": "GAHCuWRssi8B"
      },
      "source": [
        "### We will set the shot index used as an example from the [GEDI L1B Tutorial](https://git.earthdata.nasa.gov/projects/LPDUR/repos/gedi-v2-tutorials/browse/GEDI_L1B_V2_Tutorial.ipynb) to show how to subset a single shot of GEDI L2A data."
      ]
    },
    {
      "cell_type": "code",
      "execution_count": null,
      "metadata": {
        "id": "lhu0RM0ksi8C"
      },
      "outputs": [],
      "source": [
        "# shot = 25780600200385618\n",
        "\n",
        "shot = 158170600200340939"
      ]
    },
    {
      "cell_type": "code",
      "execution_count": null,
      "metadata": {
        "id": "zGvGsNQIsi8C"
      },
      "outputs": [],
      "source": [
        "index = np.where(gediL2A[f'{beamNames[0]}/shot_number'][()]==shot)[0][0]  # Set the index for the shot identified above\n",
        "index"
      ]
    },
    {
      "cell_type": "markdown",
      "metadata": {
        "id": "Wpa97BNWsi8D"
      },
      "source": [
        "## 4.2 Plot Relative Height Metrics\n",
        "#### In section 4.2, import the relative height metrics and begin exploring how to plot them."
      ]
    },
    {
      "cell_type": "code",
      "execution_count": null,
      "metadata": {
        "id": "ZCWS0PcQsi8D"
      },
      "outputs": [],
      "source": [
        "rh = gediL2A[[g for g in beamSDS if g.endswith('/rh')][0]]  # Relative Height Metrics\n",
        "\n",
        "rh"
      ]
    },
    {
      "cell_type": "markdown",
      "metadata": {
        "id": "qIjRdgGisi8D"
      },
      "source": [
        "#### Print the description for the `rh` dataset to better understand relative height (RH) metrics."
      ]
    },
    {
      "cell_type": "code",
      "execution_count": null,
      "metadata": {
        "id": "qkkJMBnDsi8D"
      },
      "outputs": [],
      "source": [
        "print(f\"rh is {rh.attrs['description']}\")"
      ]
    },
    {
      "cell_type": "markdown",
      "metadata": {
        "id": "O8er7dd8si8E"
      },
      "source": [
        "### New with Version 2:\n",
        "#### The GEDI L2A product provides waveform processing results for multiple algorithm settings. Results for a default algorithm selection are provided in the root directory of the data product for each beam. In GEDI Version 1, the default for all shots was algorithm setting group 1.\n",
        "### In Version 2, the default algorithm is set to the best performing algorithm based on a number of characteristics for that specific shot. For information on selecting the non-default algorithm, see section 4.4 below. Below, bring in the `selected_algorithm` dataset to determine which algorithm (1-6) was set to the default for our shot."
      ]
    },
    {
      "cell_type": "code",
      "execution_count": null,
      "metadata": {
        "id": "AYQxAb3hsi8E",
        "colab": {
          "base_uri": "https://localhost:8080/"
        },
        "outputId": "f6757470-c8cf-41aa-8847-909ab6b4e27a"
      },
      "outputs": [
        {
          "output_type": "stream",
          "name": "stdout",
          "text": [
            "selected_algorithm is ID of algorithm selected as identifying the lowest non-noise mode\n"
          ]
        }
      ],
      "source": [
        "algo = gediL2A[f'{beamNames[0]}/selected_algorithm']  # selected algorithm\n",
        "print(f\"selected_algorithm is {algo.attrs['description']}\")"
      ]
    },
    {
      "cell_type": "markdown",
      "metadata": {
        "id": "weIuxsoVsi8F"
      },
      "source": [
        "#### Next, bring in other useful L2A datasets such as `lat_lowestmode` and `lon_lowestmode`."
      ]
    },
    {
      "cell_type": "code",
      "execution_count": null,
      "metadata": {
        "id": "hXrFs8Cwsi8F"
      },
      "outputs": [],
      "source": [
        "# Bring in the desired SDS\n",
        "lats = gediL2A[f'{beamNames[0]}/lat_lowestmode']  # Latitude\n",
        "lons = gediL2A[f'{beamNames[0]}/lon_lowestmode']  # Longitude"
      ]
    },
    {
      "cell_type": "markdown",
      "metadata": {
        "id": "xmnDv5h3si8G"
      },
      "source": [
        "#### Grab the location, relative height metrics, and algorithm for the shot defined above:"
      ]
    },
    {
      "cell_type": "code",
      "execution_count": null,
      "metadata": {
        "id": "LmtOqT69si8G",
        "colab": {
          "base_uri": "https://localhost:8080/",
          "height": 193
        },
        "outputId": "49c74c23-ea3e-4fc1-c059-beeffd9e5c0e"
      },
      "outputs": [
        {
          "output_type": "error",
          "ename": "NameError",
          "evalue": "name 'index' is not defined",
          "traceback": [
            "\u001b[0;31m---------------------------------------------------------------------------\u001b[0m",
            "\u001b[0;31mNameError\u001b[0m                                 Traceback (most recent call last)",
            "\u001b[0;32m<ipython-input-52-9d7d41e873bc>\u001b[0m in \u001b[0;36m<cell line: 0>\u001b[0;34m()\u001b[0m\n\u001b[0;32m----> 1\u001b[0;31m \u001b[0mrhLat\u001b[0m \u001b[0;34m=\u001b[0m \u001b[0mlats\u001b[0m\u001b[0;34m[\u001b[0m\u001b[0mindex\u001b[0m\u001b[0;34m]\u001b[0m\u001b[0;34m\u001b[0m\u001b[0;34m\u001b[0m\u001b[0m\n\u001b[0m\u001b[1;32m      2\u001b[0m \u001b[0mrhLon\u001b[0m \u001b[0;34m=\u001b[0m \u001b[0mlons\u001b[0m\u001b[0;34m[\u001b[0m\u001b[0mindex\u001b[0m\u001b[0;34m]\u001b[0m\u001b[0;34m\u001b[0m\u001b[0;34m\u001b[0m\u001b[0m\n\u001b[1;32m      3\u001b[0m \u001b[0mrhShot1\u001b[0m \u001b[0;34m=\u001b[0m \u001b[0mrh\u001b[0m\u001b[0;34m[\u001b[0m\u001b[0mindex\u001b[0m\u001b[0;34m]\u001b[0m\u001b[0;34m\u001b[0m\u001b[0;34m\u001b[0m\u001b[0m\n\u001b[1;32m      4\u001b[0m \u001b[0malgoShot1\u001b[0m \u001b[0;34m=\u001b[0m \u001b[0malgo\u001b[0m\u001b[0;34m[\u001b[0m\u001b[0mindex\u001b[0m\u001b[0;34m]\u001b[0m\u001b[0;34m\u001b[0m\u001b[0;34m\u001b[0m\u001b[0m\n",
            "\u001b[0;31mNameError\u001b[0m: name 'index' is not defined"
          ]
        }
      ],
      "source": [
        "rhLat = lats[index]\n",
        "rhLon = lons[index]\n",
        "rhShot1 = rh[index]\n",
        "algoShot1 = algo[index]"
      ]
    },
    {
      "cell_type": "markdown",
      "metadata": {
        "id": "gbPzCfTNsi8G"
      },
      "source": [
        "#### Put everything together to identify the shot that we want to extract:"
      ]
    },
    {
      "cell_type": "code",
      "execution_count": null,
      "metadata": {
        "scrolled": true,
        "id": "Tn1M1umfsi8G"
      },
      "outputs": [],
      "source": [
        "print(f\"The shot is located at: {str(rhLat)}, {str(rhLon)} (shot ID: {shot}, index {index}) and is from beam {beamNames[0]}.\")\n",
        "print(f\"The selected algorithm is Algorithm Setting Group {str(algoShot1)}.\")"
      ]
    },
    {
      "cell_type": "markdown",
      "metadata": {
        "id": "BDyTxQU8si8H"
      },
      "source": [
        "#### In order to plot the RH metrics, you also need to import the elevation recorded at `elev_lowestmode` (the first elevation recorded) and `elev_highestreturn` or the last elevation recorded for that waveform."
      ]
    },
    {
      "cell_type": "code",
      "execution_count": null,
      "metadata": {
        "id": "ry1rNXnQsi8H"
      },
      "outputs": [],
      "source": [
        "# Grab the elevation recorded at the start and end of the RH metrics\n",
        "zElevation = gediL2A[[g for g in beamSDS if g.endswith('/elev_lowestmode')][0]][index]  # Elevation\n",
        "zTop = gediL2A[[g for g in beamSDS if g.endswith('/elev_highestreturn')][0]][index]     # Elevation Highest Return"
      ]
    },
    {
      "cell_type": "markdown",
      "metadata": {
        "id": "xJTzxXgpsi8I"
      },
      "source": [
        "#### Below, convert canopy height to canopy elevation by adding the ground elevation to each RH 1% interval."
      ]
    },
    {
      "cell_type": "code",
      "execution_count": null,
      "metadata": {
        "id": "iC_Ig2KLsi8I"
      },
      "outputs": [],
      "source": [
        "rhShot = [z + zElevation for z in rhShot1]  # To convert canopy height to canopy elevation, add the elevation to each value\n",
        "rh25 = rhShot[24]                           # 25%\n",
        "rh50 = rhShot[49]                           # 50%\n",
        "rh75 = rhShot[74]                           # 75%"
      ]
    },
    {
      "cell_type": "markdown",
      "metadata": {
        "id": "08gL6P1nsi8I"
      },
      "source": [
        "#### Next, use the `holoviews` (hv) package to make a line plot showing the elevation at each percentile for the selected shot."
      ]
    },
    {
      "cell_type": "code",
      "execution_count": null,
      "metadata": {
        "id": "08grjFGCsi8J"
      },
      "outputs": [],
      "source": [
        "rhVis = hv.Curve(rhShot, label=f'Selected Algorithm (a{str(algoShot1)})')\n",
        "rhVis = rhVis.opts(color='black', tools=['hover'], height=500, width=400, title='GEDI L2A Relative Height Metrics',\n",
        "                   xlabel='Percent Energy Returned', ylabel='Elevation (m)', xlim=(0,100),ylim=(np.min(rhShot),np.max(rhShot)),\n",
        "                   fontsize={'title':14, 'xlabel':16, 'ylabel': 16, 'legend': 14, 'xticks':12, 'yticks':12}, line_width=3.5)\n",
        "rhVis"
      ]
    },
    {
      "cell_type": "markdown",
      "metadata": {
        "id": "OdrVMFtIsi8J"
      },
      "source": [
        "### Congratulations! You have plotted your first relative cumulative RH profile.\n",
        "#### The `rh` dataset stores the relative height metrics at 1% intervals, and thus each shot contains 101 values representing rh at 0-100%."
      ]
    },
    {
      "cell_type": "markdown",
      "metadata": {
        "id": "SrABvnElsi8J"
      },
      "source": [
        "#### Next, add some additional context to the cumulative RH profile, including metrics such as the `elev_lowestmode` (ground elevation), the `elev_highestreturn` (highest reflecting surface height), and the relative height metrics at each quartile."
      ]
    },
    {
      "cell_type": "code",
      "execution_count": null,
      "metadata": {
        "id": "OWxAndRYsi8K"
      },
      "outputs": [],
      "source": [
        "# Create plots for L2A Metrics\n",
        "zX = [0,100]                   # set up list from 0 to 100 to create the line\n",
        "zY = [zElevation, zElevation]  # ground elevation\n",
        "zT = [zTop, zTop]              # highest return\n",
        "\n",
        "# Set up plots for each of the desired values\n",
        "zVis = hv.Curve((zX, zY), label='Ground Return').opts(color='saddlebrown', tools=['hover'], height=550, width=400, line_width=2)\n",
        "ztVis = hv.Curve((zX, zT), label='RH100').opts(color='navy', tools=['hover'], height=550, width=400, line_width=2)\n",
        "rh25Vis = hv.Curve((zX, [rh25,rh25]),label='RH25').opts(color='lightblue',tools=['hover'], height=550, width=400, line_width=2)\n",
        "rh50Vis = hv.Curve((zX, [rh50,rh50]),label='RH50').opts(color='mediumblue',tools=['hover'], height=550, width=400, line_width=2)\n",
        "rh75Vis = hv.Curve((zX, [rh75,rh75]),label='RH75').opts(color='darkblue',tools=['hover'], height=550, width=400, line_width=2)"
      ]
    },
    {
      "cell_type": "code",
      "execution_count": null,
      "metadata": {
        "id": "IodwfVIEsi8K"
      },
      "outputs": [],
      "source": [
        "# Plot all of the metrics together\n",
        "l2aVis = rhVis * zVis * ztVis * rh25Vis * rh50Vis * rh75Vis\n",
        "l2aVis.opts(show_legend=True, legend_position='bottom_right', title='GEDI L2A Relative Height Metrics', ylabel='Elevation (m)',\n",
        "                   xlabel='Percent Energy Returned', xlim=(0, 100), ylim=(np.min(rhShot) + 1.5, np.max(rhShot) + 5), height=600,\n",
        "                   fontsize={'title':16, 'xlabel':16, 'ylabel': 16, 'legend': 14, 'xticks':12, 'yticks':12}, width=400)"
      ]
    },
    {
      "cell_type": "markdown",
      "metadata": {
        "id": "dBy-vovPsi8K"
      },
      "source": [
        "#### Based on the figure above, it looks like the densest portion of the tree canopy for this shot is at around 45-55 meters."
      ]
    },
    {
      "cell_type": "markdown",
      "metadata": {
        "id": "3dcviPLMsi8L"
      },
      "source": [
        "## 4.3 Combine RH Metrics and Waveforms"
      ]
    },
    {
      "cell_type": "markdown",
      "metadata": {
        "id": "Z0U5Qr1Tsi8L"
      },
      "source": [
        "### Note that you will need to have downloaded the [waveform.csv](https://git.earthdata.nasa.gov/projects/LPDUR/repos/gedi-v2-tutorials/browse/waveform.csv) file from the repo in order to execute the section below."
      ]
    },
    {
      "cell_type": "markdown",
      "metadata": {
        "id": "GGcuxaDisi8L"
      },
      "source": [
        "#### In this section, we will import the corresponding waveform for our selected shot."
      ]
    },
    {
      "cell_type": "code",
      "execution_count": null,
      "metadata": {
        "id": "2e5LZ3Epsi8M"
      },
      "outputs": [],
      "source": [
        "# wvDF = pd.read_csv('/content/drive/MyDrive/GEDI_Dev/GEDI-Data-Resources/data/waveform.csv')"
      ]
    },
    {
      "cell_type": "code",
      "execution_count": null,
      "metadata": {
        "id": "rtO6x8Rwsi8M"
      },
      "outputs": [],
      "source": [
        "# wvDF"
      ]
    },
    {
      "cell_type": "markdown",
      "metadata": {
        "id": "JuSGq7rfsi8M"
      },
      "source": [
        "#### Next, create a `holoviews` curve plot of the waveform. If you are interested in learning more about plotting L1B waveforms, be sure to check out the [GEDI L1B Tutorial](https://git.earthdata.nasa.gov/projects/LPDUR/repos/gedi-v2-tutorials/browse/GEDI_L1B_Tutorial.ipynb)."
      ]
    },
    {
      "cell_type": "code",
      "execution_count": null,
      "metadata": {
        "id": "uXAtmf0Psi8N"
      },
      "outputs": [],
      "source": [
        "# # Create a holoviews interactive Curve plot with additional parameters defining the plot aesthetics\n",
        "# visL1B = hv.Curve(wvDF).opts(color='darkgreen', tools=['hover'], height=600, width=400,\n",
        "#            xlim=(np.min(wvDF['Amplitude (DN)']) - 10, np.max(wvDF['Amplitude (DN)']) + 10),\n",
        "#            ylim=(np.min(wvDF['Elevation (m)']), np.max(wvDF['Elevation (m)'])),\n",
        "#            fontsize={'xticks':10, 'yticks':10,'xlabel':16, 'ylabel': 16, 'title':13}, line_width=2.5, title=f'{str(shot)}')\n",
        "# visL1B"
      ]
    },
    {
      "cell_type": "markdown",
      "metadata": {
        "id": "zYDu6JTYsi8N"
      },
      "source": [
        "#### Next, combine the L2A Relative Height (RH) metrics to the corresponding L1B waveform."
      ]
    },
    {
      "cell_type": "code",
      "execution_count": null,
      "metadata": {
        "id": "_8cc8V0Lsi8N"
      },
      "outputs": [],
      "source": [
        "# visL1B.opts(height=600, width=400, ylim=(np.min(rhShot), np.max(rhShot)+5), ylabel='Elevation (m)', xlabel='Amplitude (DN)') \\\n",
        "# + l2aVis.opts(height=600, width=400, ylim=(np.min(rhShot), np.max(rhShot)+5))"
      ]
    },
    {
      "cell_type": "markdown",
      "metadata": {
        "id": "K6giYZWrsi8O"
      },
      "source": [
        "#### Above, notice the amplitude spike where the ground return is defined, and the close grouping of RH50 and RH75 over the dense portion of the upper canopy detected for this shot."
      ]
    },
    {
      "cell_type": "markdown",
      "metadata": {
        "id": "W1fVGG0Fsi8O"
      },
      "source": [
        "## 4.4 Select Data from the Non-Default Algorithm\n",
        "#### Recall from above that the GEDI L2A product provides waveform processing results for multiple algorithm settings. Results for the selected algorithm selection are provided in the root directory of the data product for each beam. New with Version 2 is that the  selected algorithm is selected as identifying the lowest non-noise mode (see Table 5 of the [GEDI L02 User Guide](https://lpdaac.usgs.gov/documents/988/GEDI02_User_Guide_V2.pdf)). Algorithm Setting Group 2 is the algorithm used for the data that we extracted in the sections above.\n",
        "> Elevation and height metrics outputs for all algorithm setting groups can be found in the `geolocation` subgroup of the L2A data product.\n",
        "For example:  \n",
        "    - elev_lowestreturn_a<n> is the elevation of lowest return detected using algorithm setting group <n>\n",
        "    - rh_a<n> are the relative height metrics at 1% intervals using algorithm <n> (in cm).  "
      ]
    },
    {
      "cell_type": "markdown",
      "metadata": {
        "id": "ZFgMQagQsi8O"
      },
      "source": [
        "#### In some cases, the selection of an alternative algorithm setting will provide a better result. See the [GEDI L02A User Guide](https://lpdaac.usgs.gov/documents/988/GEDI02_User_Guide_V2.pdf) for additional information."
      ]
    },
    {
      "cell_type": "code",
      "execution_count": null,
      "metadata": {
        "id": "HCX1efGusi8P"
      },
      "outputs": [],
      "source": [
        "# geolocationSDS = [b for b in beamSDS if '/geolocation/' in b]  # Select all datasets within the geolocation subgroup"
      ]
    },
    {
      "cell_type": "markdown",
      "metadata": {
        "id": "X-vI3ne3si8P"
      },
      "source": [
        "#### Next, select the datasets for Algorithm Setting Group 3 (`a3`)."
      ]
    },
    {
      "cell_type": "code",
      "execution_count": null,
      "metadata": {
        "id": "pCLS4wuosi8P"
      },
      "outputs": [],
      "source": [
        "# a3SDS = [g for g in geolocationSDS if g.endswith('a3')]  # Select algorithm 3 datasets\n",
        "# a3SDS"
      ]
    },
    {
      "cell_type": "markdown",
      "metadata": {
        "id": "dzV3qsddsi8Q"
      },
      "source": [
        "#### Repeat Section 4.2 for Algorithm Setting Group 3."
      ]
    },
    {
      "cell_type": "code",
      "execution_count": null,
      "metadata": {
        "id": "SDPqTNgWsi8Q"
      },
      "outputs": [],
      "source": [
        "# # Bring in the desired SDS\n",
        "# lata3 = gediL2A[[a for a in a3SDS if a.endswith('/lat_lowestmode_a3')][0]][index]          # Latitude\n",
        "# lona3 = gediL2A[[a for a in a3SDS if a.endswith('/lon_lowestmode_a3')][0]][index]          # Latitude\n",
        "# rhShot1 = gediL2A[[a for a in a3SDS if a.endswith('/rh_a3')][0]][index] / 100              # Relative height metrics\n",
        "# zElevationa3 = gediL2A[[a for a in a3SDS if a.endswith('/elev_lowestmode_a3')][0]][index]  # Elevation\n",
        "# zTopa3 = gediL2A[[a for a in a3SDS if a.endswith('/elev_highestreturn_a3')][0]][index]     # Elevation Highest Return\n",
        "# rhShota3 = [z + zElevationa3 for z in rhShot1]  # To convert canopy height to canopy elevation, add the elevation to each value"
      ]
    },
    {
      "cell_type": "markdown",
      "metadata": {
        "id": "CziGq1Dnsi8Q"
      },
      "source": [
        "#### Notice above that the non-default algorithm RH metrics are stored in cm, so we convert to meters by dividing by 100."
      ]
    },
    {
      "cell_type": "code",
      "execution_count": null,
      "metadata": {
        "id": "je5955gbsi8R"
      },
      "outputs": [],
      "source": [
        "# rhVisA3 = hv.Curve(rhShota3, label='Algorithm Setting Group 3 (a3)')\n",
        "# rhVisA3 = rhVisA3.opts(color='green', tools=['hover'], height=500, width=400, title='GEDI L2A Relative Height Metrics (a3)',\n",
        "#                    xlabel='Percent Energy Returned', ylabel='Elevation (m)', xlim=(0,100),ylim=(np.min(rhShot),np.max(rhShot)),\n",
        "#                    fontsize={'title':14, 'xlabel':16, 'ylabel': 16, 'legend': 14, 'xticks':12, 'yticks':12}, line_width=3.5)\n",
        "# rhVisA3"
      ]
    },
    {
      "cell_type": "markdown",
      "metadata": {
        "id": "qjT5zkZXsi8R"
      },
      "source": [
        "#### Next, combine with the relative height metrics from the selected algorithm (Algorithm Setting Group 2):"
      ]
    },
    {
      "cell_type": "code",
      "execution_count": null,
      "metadata": {
        "id": "4r0JJjKssi8R"
      },
      "outputs": [],
      "source": [
        "# (rhVis * rhVisA3).opts(show_legend=True, legend_position='bottom_right', title='GEDI L2A Relative Height Metrics by Algorithm',\n",
        "#                        ylabel='Elevation (m)', xlabel='Percent Energy Returned', xlim=(0, 100),\n",
        "#                        ylim=(np.min(rhShot) - 1.5, np.max(rhShot) + 1.5), height=600, width=600,\n",
        "#                    fontsize={'title':16, 'xlabel':16, 'ylabel': 16, 'legend': 14, 'xticks':12, 'yticks':12})"
      ]
    },
    {
      "cell_type": "markdown",
      "metadata": {
        "id": "S1Pi1HAAsi8S"
      },
      "source": [
        "#### Above we can see slight differences in the RH values between the two algorithms, particularly in the lower percentiles."
      ]
    },
    {
      "cell_type": "markdown",
      "metadata": {
        "id": "zaQfTghSsi8S"
      },
      "source": [
        "\n",
        "# 5. Plot Transects <a id=\"#plottransects\"></a>"
      ]
    },
    {
      "cell_type": "markdown",
      "metadata": {
        "id": "esuvyzGksi8S"
      },
      "source": [
        "#### Next, import a number of desired SDS layers for BEAM0110 (for the entire orbit) and create a `pandas` Dataframe to store the arrays."
      ]
    },
    {
      "cell_type": "code",
      "execution_count": null,
      "metadata": {
        "id": "ZDxMvC5Qsi8T"
      },
      "outputs": [],
      "source": [
        "# Open all of the desired SDS\n",
        "dem = gediL2A[[g for g in beamSDS if g.endswith('/digital_elevation_model')][0]][()]\n",
        "srtm = gediL2A[[g for g in beamSDS if g.endswith('/digital_elevation_model_srtm')][0]][()]\n",
        "zElevation = gediL2A[[g for g in beamSDS if g.endswith('/elev_lowestmode')][0]][()]\n",
        "zHigh = gediL2A[[g for g in beamSDS if g.endswith('/elev_highestreturn')][0]][()]\n",
        "zLat = gediL2A[[g for g in beamSDS if g.endswith('/lat_lowestmode')][0]][()]\n",
        "zLon = gediL2A[[g for g in beamSDS if g.endswith('/lon_lowestmode')][0]][()]\n",
        "rh = gediL2A[[g for g in beamSDS if g.endswith('/rh')][0]][()]\n",
        "quality = gediL2A[[g for g in beamSDS if g.endswith('/quality_flag')][0]][()]\n",
        "degrade = gediL2A[[g for g in beamSDS if g.endswith('/degrade_flag')][0]][()]\n",
        "sensitivity = gediL2A[[g for g in beamSDS if g.endswith('/sensitivity')][0]][()]\n",
        "shotNums = gediL2A[f'{beamNames[0]}/shot_number'][()]\n",
        "selectedAlgorithm = gediL2A[[g for g in beamSDS if g.endswith('/selected_algorithm')][0]][()]\n",
        "\n",
        "# Create a shot index\n",
        "shotIndex = np.arange(shotNums.size)"
      ]
    },
    {
      "cell_type": "code",
      "execution_count": null,
      "metadata": {
        "id": "NtdTPyNjsi8T"
      },
      "outputs": [],
      "source": [
        "canopyHeight = [r[100] for r in rh]  # Grab RH100 (index 100 for each RH metrics)"
      ]
    },
    {
      "cell_type": "code",
      "execution_count": null,
      "metadata": {
        "id": "kwlvVictsi8T"
      },
      "outputs": [],
      "source": [
        "# Take the DEM, GEDI-produced Elevation, and RH Metrics and add to a Pandas dataframe\n",
        "transectDF = pd.DataFrame({\n",
        "    'Shot Index': shotIndex,\n",
        "    'Shot Number': shotNums,\n",
        "    'Latitude': zLat,\n",
        "    'Longitude': zLon,\n",
        "    'Tandem-X DEM': dem,\n",
        "    'SRTM DEM': srtm,\n",
        "    'Elevation (m)': zElevation,\n",
        "    'Canopy Elevation (m)': zHigh,\n",
        "    'Canopy Height (rh100)': canopyHeight,\n",
        "    'Quality Flag': quality,\n",
        "    'Degrade Flag': degrade,\n",
        "    'Sensitivity': sensitivity,\n",
        "    'Selected Algorithm': selectedAlgorithm\n",
        "})"
      ]
    },
    {
      "cell_type": "code",
      "execution_count": null,
      "metadata": {
        "id": "4HsFPYr3si8U"
      },
      "outputs": [],
      "source": [
        "transectDF"
      ]
    },
    {
      "cell_type": "markdown",
      "metadata": {
        "id": "zOdnC8FKsi8U"
      },
      "source": [
        "#### Notice the unusual values listed above--those shots are flagged as poor quality and will be removed in Section 5.1.\n",
        "#### Now that you have the desired SDS into a `pandas` dataframe, begin plotting the entire beam transect:"
      ]
    },
    {
      "cell_type": "code",
      "execution_count": null,
      "metadata": {
        "id": "NS4JlqFXsi8U"
      },
      "outputs": [],
      "source": [
        "# Plot Canopy Height\n",
        "canopyVis = hv.Scatter((transectDF['Shot Index'], transectDF['Canopy Height (rh100)']))\n",
        "canopyVis.opts(color='darkgreen', height=500, width=900, title=f'GEDI L2A Full Transect {beamNames[0]}',\n",
        "               fontsize={'title':16, 'xlabel':16, 'ylabel': 16}, size=0.1, xlabel='Shot Index', ylabel='Canopy Height (m)')"
      ]
    },
    {
      "cell_type": "markdown",
      "metadata": {
        "id": "-wuxh7OAsi8V"
      },
      "source": [
        "#### Congratulations! You have plotted your first GEDI sub-orbit beam transect. Notice above that things look a little messy--before we dive deeper into plotting full transects, let's quality filter the shots in the section below."
      ]
    },
    {
      "cell_type": "code",
      "execution_count": null,
      "metadata": {
        "id": "Xv-0a08osi8V"
      },
      "outputs": [],
      "source": [
        "del canopyVis, canopyHeight, degrade, dem, quality, sensitivity, shotIndex, shotNums, zElevation, zHigh, zLat, zLon"
      ]
    },
    {
      "cell_type": "markdown",
      "metadata": {
        "id": "gWS7aKDdsi8V"
      },
      "source": [
        "## 5.1 Quality Filtering\n",
        "#### Now that you have the desired layers imported as a dataframe for the entire beam transect, let's perform quality filtering.\n",
        "#### Below, remove any shots where the `quality_flag` is set to 0 by defining those shots as `nan`.\n",
        "#### The syntax of the line below can be read as: in the dataframe, find the rows \"where\" the quality flag is not equal (ne) to 0. If a row (shot) does not meet the condition, set all values equal to `nan` for that row."
      ]
    },
    {
      "cell_type": "code",
      "execution_count": null,
      "metadata": {
        "id": "KpCFy3TXsi8W"
      },
      "outputs": [],
      "source": [
        "transectDF = transectDF.where(transectDF['Quality Flag'].ne(0))  # Set any poor quality returns to NaN"
      ]
    },
    {
      "cell_type": "code",
      "execution_count": null,
      "metadata": {
        "id": "byNrzHKNsi8W"
      },
      "outputs": [],
      "source": [
        "transectDF"
      ]
    },
    {
      "cell_type": "markdown",
      "metadata": {
        "id": "X766f-N2si8W"
      },
      "source": [
        "#### Below, quality filter even further by using the `degrade_flag` (Greater than zero if the shot occurs during a degrade period, zero otherwise) and the `Sensitivity` layer, using a threshold of 0.95."
      ]
    },
    {
      "cell_type": "markdown",
      "metadata": {
        "id": "XelKYvVpsi8X"
      },
      "source": [
        "#### From the GEDI Level 2 User Guide:\n",
        "> Use the sensitivity metric available in L2A and L2B to select \"best\" data. The L2A and L2B quality_flag datasets use a conservative sensitivity threshold of 0.9 over land (0.5 over ocean), but under some conditions (e.g. dense forest) the user may benefit from selecting a higher threshold."
      ]
    },
    {
      "cell_type": "code",
      "execution_count": null,
      "metadata": {
        "id": "BU6IXkyPsi8X"
      },
      "outputs": [],
      "source": [
        "transectDF = transectDF.where(transectDF['Degrade Flag'] < 1)\n",
        "transectDF = transectDF.where(transectDF['Sensitivity'] > 0.95)"
      ]
    },
    {
      "cell_type": "markdown",
      "metadata": {
        "id": "du5Gm8xOsi8X"
      },
      "source": [
        "#### Below, drop all of the shots that did not pass the quality filtering standards outlined above from the `transectDF`."
      ]
    },
    {
      "cell_type": "code",
      "execution_count": null,
      "metadata": {
        "id": "-CrgLEUqsi8Y"
      },
      "outputs": [],
      "source": [
        "transectDF = transectDF.dropna()  # Drop all of the rows (shots) that did not pass the quality filtering above"
      ]
    },
    {
      "cell_type": "code",
      "execution_count": null,
      "metadata": {
        "id": "EnJc--Qusi8Y"
      },
      "outputs": [],
      "source": [
        "print(f\"Quality filtering complete, {len(transectDF)} high quality shots remaining.\")"
      ]
    },
    {
      "cell_type": "markdown",
      "metadata": {
        "id": "0vYUQmzPsi8Y"
      },
      "source": [
        "## 5.2 Plot Beam Transects\n",
        "#### Next, plot the full remaining transect of high quality values using `holoviews` Scatter(). Combine the Tandem-X derived elevation, SRTM elevation (New to Version 2!), the GEDI-derived elevation, and the Canopy Top Elevation in a combined holoviews plot."
      ]
    },
    {
      "cell_type": "code",
      "execution_count": null,
      "metadata": {
        "id": "y1rNPGgTsi8Y"
      },
      "outputs": [],
      "source": [
        "# Remove any shots where there is no Tandem-X Elevation values\n",
        "transectDF = transectDF.where(transectDF['Tandem-X DEM'] != -999999.0).dropna()\n",
        "\n",
        "# Plot Digital Elevation Model\n",
        "demVis = hv.Scatter((transectDF['Shot Index'], transectDF['Tandem-X DEM']), label='Tandem-X DEM')\n",
        "demVis = demVis.opts(color='black', height=500, width=900, fontsize={'xlabel':16, 'ylabel': 16}, size=1.5)"
      ]
    },
    {
      "cell_type": "code",
      "execution_count": null,
      "metadata": {
        "id": "6zveKjJTsi8Z"
      },
      "outputs": [],
      "source": [
        "# Remove any shots where there is no SRTM Elevation values\n",
        "transectDF = transectDF.where(transectDF['SRTM DEM'] != -999999.0).dropna()\n",
        "\n",
        "# Plot SRTM Digital Elevation Model\n",
        "srtmVis = hv.Scatter((transectDF['Shot Index'], transectDF['SRTM DEM']), label='SRTM DEM')\n",
        "srtmVis = srtmVis.opts(color='darkblue', height=500, width=900, fontsize={'xlabel':16, 'ylabel': 16}, size=1.5)"
      ]
    },
    {
      "cell_type": "code",
      "execution_count": null,
      "metadata": {
        "id": "C8U_SMV5si8Z"
      },
      "outputs": [],
      "source": [
        "# Plot GEDI-Retrieved Elevation\n",
        "zVis = hv.Scatter((transectDF['Shot Index'], transectDF['Elevation (m)']), label='GEDI-derived Elevation')\n",
        "zVis = zVis.opts(color='saddlebrown', height=500, width=900, fontsize={'xlabel':16, 'ylabel': 16}, size=1.5)"
      ]
    },
    {
      "cell_type": "code",
      "execution_count": null,
      "metadata": {
        "id": "kZf4sOoUsi8Z"
      },
      "outputs": [],
      "source": [
        "# Plot Canopy Top Elevation\n",
        "rhVis = hv.Scatter((transectDF['Shot Index'], transectDF['Canopy Elevation (m)']), label='Canopy Top Elevation')\n",
        "rhVis = rhVis.opts(color='darkgreen', height=500, width=900, fontsize={'xlabel':16, 'ylabel': 16}, size=1.5,\n",
        "                   tools=['hover'], xlabel='Shot Index', ylabel='Elevation (m)')"
      ]
    },
    {
      "cell_type": "code",
      "execution_count": null,
      "metadata": {
        "id": "_UbiQ2U0si8a"
      },
      "outputs": [],
      "source": [
        "# Combine all three scatterplots\n",
        "(demVis * srtmVis * zVis * rhVis).opts(show_legend=True, legend_position='top_left',fontsize={'title':14, 'xlabel':16,\n",
        "                                        'ylabel': 16}, title=f'{beamNames[0]} Full Transect: {L2A.split(\".\")[0]}')"
      ]
    },
    {
      "cell_type": "markdown",
      "metadata": {
        "id": "L83XbQoTsi8a"
      },
      "source": [
        "#### The plot still looks a bit messy this far zoomed out--feel free to pan, zoom, and explore different areas of the plot. The shot plotted in section 4 was at index 45730. If you zoom into the high-quality shots between 4.000e+5 and 5.000e+5, you will find the portion of the transect intersecting Redwood National Park, seen below:\n",
        "![GEDI_L2A_V2_Tutorial_2.png](../../img/GEDI_L2A_V2_Tutorial_2.png \"BEAM0110 Transect Plot of Tandem-X Elevation, GEDI-derived Elevation, and Canopy Top Elevation over Redwood National Park, USA.\")"
      ]
    },
    {
      "cell_type": "markdown",
      "metadata": {
        "id": "DjYplwicsi8b"
      },
      "source": [
        "## 5.3 Subset Beam Transects"
      ]
    },
    {
      "cell_type": "markdown",
      "metadata": {
        "id": "m_iTv5Z8si8b"
      },
      "source": [
        "#### Now, subset down to a smaller transect centered on the GEDI shot analyzed in the sections above."
      ]
    },
    {
      "cell_type": "code",
      "execution_count": null,
      "metadata": {
        "id": "JWPLGOassi8b"
      },
      "outputs": [],
      "source": [
        "print(index)"
      ]
    },
    {
      "cell_type": "code",
      "execution_count": null,
      "metadata": {
        "id": "MRMuGbxrsi8c"
      },
      "outputs": [],
      "source": [
        "# Grab 50 points before and after the shot visualized above\n",
        "start = index - 50\n",
        "end = index + 50"
      ]
    },
    {
      "cell_type": "code",
      "execution_count": null,
      "metadata": {
        "scrolled": true,
        "id": "pF4FNQ1usi8c"
      },
      "outputs": [],
      "source": [
        "print(f\"The transect begins at ({transectDF['Latitude'][start]}, {transectDF['Longitude'][start]}) and ends at ({transectDF['Latitude'][end]}, {transectDF['Longitude'][end]}).\")"
      ]
    },
    {
      "cell_type": "markdown",
      "metadata": {
        "id": "8XceRI9qsi8c"
      },
      "source": [
        "#### Below, subset the transect using `.loc`."
      ]
    },
    {
      "cell_type": "code",
      "execution_count": null,
      "metadata": {
        "id": "oX-rodqosi8d"
      },
      "outputs": [],
      "source": [
        "transectDF = transectDF.loc[start:end]  # Subset the Dataframe to only the selected region of interest over Redwood NP"
      ]
    },
    {
      "cell_type": "markdown",
      "metadata": {
        "id": "yI2wSx7jsi8d"
      },
      "source": [
        "## 5.4 Plot RH Metrics Transects"
      ]
    },
    {
      "cell_type": "markdown",
      "metadata": {
        "id": "SJ0yN8rfsi8e"
      },
      "source": [
        "#### In order to get an idea of the length of the beam transect that you are plotting, you can plot the x-axis as distance, which is calculated below."
      ]
    },
    {
      "cell_type": "code",
      "execution_count": null,
      "metadata": {
        "id": "TYIR4ifhsi8e"
      },
      "outputs": [],
      "source": [
        "# Calculate along-track distance\n",
        "distance = np.arange(0.0, len(transectDF.index) * 60, 60)  # GEDI Shots are spaced 60 m apart\n",
        "transectDF['Distance'] = distance                          # Add Distance as a new column in the dataframe"
      ]
    },
    {
      "cell_type": "markdown",
      "metadata": {
        "id": "8eGObcABsi8e"
      },
      "source": [
        "#### But how do you determine where the ground is? Next, create a similar plot but using the `rh` metrics from the L2A file. Notice that the `rh` metrics contain 100 values representing each percentile, so below we iterate through and append each value with the correct distance and elevation value to the list."
      ]
    },
    {
      "cell_type": "code",
      "execution_count": null,
      "metadata": {
        "id": "SVcMOGUVsi8f"
      },
      "outputs": [],
      "source": [
        "# Create lists of canopy height, distance, and canopy elevation\n",
        "rhList, distList, ceList = [], [], []\n",
        "for s, i in enumerate(transectDF['Shot Index']):\n",
        "    i = int(i)\n",
        "    rhi = rh[i]\n",
        "    for r in rhi:\n",
        "        rhList.append(r)\n",
        "        distList.append(distance[s])\n",
        "        ceList.append(r + transectDF['Elevation (m)'][i])  # Convert to Canopy Top Elevation"
      ]
    },
    {
      "cell_type": "markdown",
      "metadata": {
        "id": "nOrnD1uRsi8f"
      },
      "source": [
        "#### Now plot canopy height vs. shot index as a scatter plot."
      ]
    },
    {
      "cell_type": "code",
      "execution_count": null,
      "metadata": {
        "id": "NjWv-Yfisi8f"
      },
      "outputs": [],
      "source": [
        "title = 'Relative Height Metrics (0-100) across ES Site 1'\n",
        "hv.Scatter((distList,rhList)).opts(color='darkgreen', alpha=0.1, height=500, width=900, size=7.5,\n",
        "                                                xlabel='Distance Along Transect (m)', ylabel='Canopy Height (m)', title=title,\n",
        "                                                fontsize={'title':16, 'xlabel':16, 'ylabel': 16, 'xticks':12, 'yticks':12})"
      ]
    },
    {
      "cell_type": "markdown",
      "metadata": {
        "id": "am-KHdz1si8g"
      },
      "source": [
        "#### Above, it looks like the transect is covering some tall trees! However, a quick google search confirms that Redwood trees can top out at over 100 m! The graph above is showing canopy *height*, but now add elevation to get a better idea of the overall three-dimensional structure of this transect across Redwood National Park."
      ]
    },
    {
      "cell_type": "code",
      "execution_count": null,
      "metadata": {
        "id": "Hl8EZAW1si8g"
      },
      "outputs": [],
      "source": [
        "# Plot canopy elevation instead of canopy height\n",
        "rhVis = hv.Scatter((distList,ceList), label='RH 0-100').opts(color='darkgreen', alpha=0.1, height=500, width=900, size=5)"
      ]
    },
    {
      "cell_type": "markdown",
      "metadata": {
        "id": "sgqqvORLsi8g"
      },
      "source": [
        "#### Next, add in the ground elevation."
      ]
    },
    {
      "cell_type": "code",
      "execution_count": null,
      "metadata": {
        "id": "VDhz2NgTsi8h"
      },
      "outputs": [],
      "source": [
        "# Plot GEDI-Retrieved Elevation\n",
        "demVis = hv.Curve((transectDF['Distance'], transectDF['Elevation (m)']), label='Ground Elevation')\n",
        "demVis = demVis.opts(color='black', height=500, width=1600, line_width=3, xlabel='Distance Along Transect (m)',\n",
        "                     ylabel='Canopy Height (m)', fontsize={'title':14, 'xlabel':16, 'ylabel': 16, 'xticks':12, 'yticks':12},\n",
        "                     title='Relative Height Metrics and Elevation across ES Site 1')\n",
        "\n",
        "# Plot Elevation and RH metrics together\n",
        "(demVis * rhVis).opts(legend_position='bottom_right')"
      ]
    },
    {
      "cell_type": "markdown",
      "metadata": {
        "id": "WFXb8Qyasi8h"
      },
      "source": [
        "#### Above, you can get an idea about the terrain over the region of interest, particularly the classic \"V\" representing the river valley that is bisected by the transect. In terms of vegetation structure, this plot does a good job of showing not only which portions of the canopy are taller, but also where they are denser (darker shades of green)."
      ]
    },
    {
      "cell_type": "code",
      "execution_count": null,
      "metadata": {
        "id": "hfSQkWZisi8h"
      },
      "outputs": [],
      "source": [
        "del ceList, distList, rhList, rhi"
      ]
    },
    {
      "cell_type": "code",
      "execution_count": null,
      "metadata": {
        "id": "LtbJbv77si8i"
      },
      "outputs": [],
      "source": [
        "del beamSDS, distance, rh, transectDF"
      ]
    },
    {
      "cell_type": "markdown",
      "metadata": {
        "id": "A_fsoqTosi8i"
      },
      "source": [
        "### At this point you have visualized the elevation, canopy, and vertical structure of specific footprints over Redwood National Park, and for a transect cutting through the national park. In section 6 you will look at mapping all of the high-quality shots from all eight GEDI beams for a given region of interest in order to gain knowledge on the spatial distribution and characteristics of the canopy over Redwood National Park."
      ]
    },
    {
      "cell_type": "markdown",
      "metadata": {
        "id": "RTY8E8Bwsi8i"
      },
      "source": [
        "\n",
        "# 6. Spatial Visualization<a id=\"spatialvisualization\"></a>\n",
        "#### Section 6 combines many of the techniques learned above including how to import GEDI datasets, perform quality filtering, spatial subsetting, and visualization."
      ]
    },
    {
      "cell_type": "markdown",
      "metadata": {
        "id": "OlFijYUxsi8i"
      },
      "source": [
        "## 6.1 Import, Subset, and Quality Filter All Beams"
      ]
    },
    {
      "cell_type": "markdown",
      "metadata": {
        "id": "LSWJ8Zg8si8j"
      },
      "source": [
        "#### Below, re-open the GEDI L2A observation--but this time, loop through and import data for all 8 of the GEDI beams."
      ]
    },
    {
      "cell_type": "code",
      "execution_count": null,
      "metadata": {
        "id": "9eiLZrvPsi8j"
      },
      "outputs": [],
      "source": [
        "beamNames = [g for g in gediL2A.keys() if g.startswith('BEAM')]"
      ]
    },
    {
      "cell_type": "code",
      "execution_count": null,
      "metadata": {
        "id": "TkUyZH6esi8j"
      },
      "outputs": [],
      "source": [
        "beamNames"
      ]
    },
    {
      "cell_type": "markdown",
      "metadata": {
        "id": "h6xe7j2dsi8k"
      },
      "source": [
        "#### Loop through each of the desired datasets (SDS) for each beam, append to lists, and transform into a `pandas` DataFrame."
      ]
    },
    {
      "cell_type": "code",
      "execution_count": null,
      "metadata": {
        "id": "Ri1QnbCosi8k"
      },
      "outputs": [],
      "source": [
        "# Set up lists to store data\n",
        "shotNum, dem, zElevation, zHigh, zLat, zLon, rh25, rh98, rh100 ,quality ,degrade, sensitivity ,beamI, selectedAlgorithm = ([] for i in range(14))"
      ]
    },
    {
      "cell_type": "markdown",
      "metadata": {
        "id": "XjRENTS6si8k"
      },
      "source": [
        "#### Below, note that we are going to pull out the relative height metrics at the 25th, 98th, and 100th (canopy height) percentiles."
      ]
    },
    {
      "cell_type": "code",
      "execution_count": null,
      "metadata": {
        "id": "qV73ukD0si8l"
      },
      "outputs": [],
      "source": [
        "# Loop through each beam and open the SDS needed\n",
        "for b in beamNames:\n",
        "    [shotNum.append(h) for h in gediL2A[[g for g in gediSDS if g.endswith('/shot_number') and b in g][0]][()]]\n",
        "    [dem.append(h) for h in gediL2A[[g for g in gediSDS if g.endswith('/digital_elevation_model') and b in g][0]][()]]\n",
        "    [zElevation.append(h) for h in gediL2A[[g for g in gediSDS if g.endswith('/elev_lowestmode') and b in g][0]][()]]\n",
        "    [zHigh.append(h) for h in gediL2A[[g for g in gediSDS if g.endswith('/elev_highestreturn') and b in g][0]][()]]\n",
        "    [zLat.append(h) for h in gediL2A[[g for g in gediSDS if g.endswith('/lat_lowestmode') and b in g][0]][()]]\n",
        "    [zLon.append(h) for h in gediL2A[[g for g in gediSDS if g.endswith('/lon_lowestmode') and b in g][0]][()]]\n",
        "    [rh25.append(h[25]) for h in gediL2A[[g for g in gediSDS if g.endswith('/rh') and b in g][0]][()]]\n",
        "    [rh98.append(h[98]) for h in gediL2A[[g for g in gediSDS if g.endswith('/rh') and b in g][0]][()]]\n",
        "    [rh100.append(h[100]) for h in gediL2A[[g for g in gediSDS if g.endswith('/rh') and b in g][0]][()]]\n",
        "    [quality.append(h) for h in gediL2A[[g for g in gediSDS if g.endswith('/quality_flag') and b in g][0]][()]]\n",
        "    [degrade.append(h) for h in gediL2A[[g for g in gediSDS if g.endswith('/degrade_flag') and b in g][0]][()]]\n",
        "    [sensitivity.append(h) for h in gediL2A[[g for g in gediSDS if g.endswith('/sensitivity') and b in g][0]][()]]\n",
        "    [beamI.append(h) for h in [b] * len(gediL2A[[g for g in gediSDS if g.endswith('/shot_number') and b in g][0]][()])]\n",
        "    [selectedAlgorithm.append(h) for h in gediL2A[[g for g in gediSDS if g.endswith('/selected_algorithm') and b in g][0]][()]]"
      ]
    },
    {
      "cell_type": "markdown",
      "metadata": {
        "id": "CcNTqDjVsi8l"
      },
      "source": [
        "#### Note that the cell above may take a few seconds to complete."
      ]
    },
    {
      "cell_type": "code",
      "execution_count": null,
      "metadata": {
        "id": "z1Y9Y9tfsi8l"
      },
      "outputs": [],
      "source": [
        "# Convert lists to Pandas dataframe\n",
        "allDF = pd.DataFrame({\n",
        "    'Shot Number': shotNum,\n",
        "    'Beam': beamI,\n",
        "    'Latitude': zLat,\n",
        "    'Longitude': zLon,\n",
        "    'Tandem-X DEM': dem,\n",
        "    'Elevation (m)': zElevation,\n",
        "    'Canopy Elevation (m)': zHigh,\n",
        "    'Canopy Height (rh100)': rh100,\n",
        "    'RH 98': rh98,\n",
        "    'RH 25': rh25,\n",
        "    'Quality Flag': quality,\n",
        "    'Degrade Flag': degrade,\n",
        "    'Sensitivity': sensitivity,\n",
        "    'Selected Algorithm': selectedAlgorithm\n",
        "})"
      ]
    },
    {
      "cell_type": "code",
      "execution_count": null,
      "metadata": {
        "id": "Y5SINhi1si8m"
      },
      "outputs": [],
      "source": [
        "del beamI, degrade, dem, gediSDS, rh100, rh98, rh25, quality, sensitivity, zElevation, zHigh, zLat, zLon, shotNum, selectedAlgorithm"
      ]
    },
    {
      "cell_type": "markdown",
      "metadata": {
        "id": "Td-BS3Ifsi8m"
      },
      "source": [
        "## 6.2 Spatial Subsetting\n",
        "#### Below, subset the pandas dataframe using a simple bounding box region of interest. If you are interested in spatially clipping GEDI shots to a GeoJSON region of interest, be sure to check out the GEDI-Subsetter python script available at: https://git.earthdata.nasa.gov/projects/LPDUR/repos/gedi-subsetter/browse."
      ]
    },
    {
      "cell_type": "code",
      "execution_count": null,
      "metadata": {
        "id": "0RueGknasi8m"
      },
      "outputs": [],
      "source": [
        "len(allDF)"
      ]
    },
    {
      "cell_type": "markdown",
      "metadata": {
        "id": "FTeUumnRsi8n"
      },
      "source": [
        "#### Over 3.5 million shots are contained in this single GEDI orbit! Below subset down to only the shots falling within this small bounding box encompassing Redwood National Park. `RedwoodNP` our `geopandas` geodataframe can be called for the \"envelope\" or smallest bounding box encompassing the entire region of interest. Here, use that as the bounding box for subsetting the GEDI shots."
      ]
    },
    {
      "cell_type": "code",
      "execution_count": null,
      "metadata": {
        "id": "1AdI_gDWsi8n"
      },
      "outputs": [],
      "source": [
        "ES_Site1.envelope[0].bounds"
      ]
    },
    {
      "cell_type": "code",
      "execution_count": null,
      "metadata": {
        "id": "vAiCC2xrsi8o"
      },
      "outputs": [],
      "source": [
        "minLon, minLat, maxLon, maxLat = ES_Site1.envelope[0].bounds  # Define the min/max lat/lon from the bounds of Redwood NP"
      ]
    },
    {
      "cell_type": "markdown",
      "metadata": {
        "id": "SXw4WZ1qsi8o"
      },
      "source": [
        "#### Filter by the bounding box, which is done similarly to filtering by quality in section 6.1 above."
      ]
    },
    {
      "cell_type": "code",
      "execution_count": null,
      "metadata": {
        "id": "5ywU3rwIsi8o"
      },
      "outputs": [],
      "source": [
        "allDF = allDF.where(allDF['Latitude'] > minLat)\n",
        "allDF = allDF.where(allDF['Latitude'] < maxLat)\n",
        "allDF = allDF.where(allDF['Longitude'] > minLon)\n",
        "allDF = allDF.where(allDF['Longitude'] < maxLon)"
      ]
    },
    {
      "cell_type": "markdown",
      "metadata": {
        "id": "Mxly8bZPsi8p"
      },
      "source": [
        "### NOTE: It may take up to a few minutes to run the cell above."
      ]
    },
    {
      "cell_type": "code",
      "execution_count": null,
      "metadata": {
        "id": "hIEtJ1Vusi8p"
      },
      "outputs": [],
      "source": [
        "allDF = allDF.dropna()  # Drop shots outside of the ROI"
      ]
    },
    {
      "cell_type": "code",
      "execution_count": null,
      "metadata": {
        "id": "Up03wkcRsi8q"
      },
      "outputs": [],
      "source": [
        "len(allDF)"
      ]
    },
    {
      "cell_type": "markdown",
      "metadata": {
        "id": "dS9DezeMsi8q"
      },
      "source": [
        "#### Notice you have drastically reduced the number of shots you are working with (which will greatly enhance your experience in plotting them below). But first, remove any poor quality shots that exist within the ROI."
      ]
    },
    {
      "cell_type": "code",
      "execution_count": null,
      "metadata": {
        "id": "qURYCgXrsi8q"
      },
      "outputs": [],
      "source": [
        "# Set any poor quality returns to NaN\n",
        "allDF = allDF.where(allDF['Quality Flag'].ne(0))\n",
        "allDF = allDF.where(allDF['Degrade Flag'] < 1)\n",
        "allDF = allDF.where(allDF['Sensitivity'] > 0.95)\n",
        "allDF = allDF.dropna()\n",
        "len(allDF)"
      ]
    },
    {
      "cell_type": "markdown",
      "metadata": {
        "id": "J8HXGb6Esi8r"
      },
      "source": [
        "#### Down to roughly 2000 shots, next create a `Shapely` Point out of each shot and insert it as the geometry column in the [soon to be geo]dataframe."
      ]
    },
    {
      "cell_type": "code",
      "execution_count": null,
      "metadata": {
        "id": "i8JILOQPsi8r"
      },
      "outputs": [],
      "source": [
        "# Take the lat/lon dataframe and convert each lat/lon to a shapely point\n",
        "allDF['geometry'] = allDF.apply(lambda row: Point(row.Longitude, row.Latitude), axis=1)"
      ]
    },
    {
      "cell_type": "code",
      "execution_count": null,
      "metadata": {
        "id": "dT73xSswsi8r"
      },
      "outputs": [],
      "source": [
        "# Convert to geodataframe\n",
        "allDF = gp.GeoDataFrame(allDF)\n",
        "allDF = allDF.drop(columns=['Latitude','Longitude'])"
      ]
    },
    {
      "cell_type": "markdown",
      "metadata": {
        "id": "bGhXtkifsi8s"
      },
      "source": [
        "## 6.3 Visualize All Beams: Canopy Height and Elevation"
      ]
    },
    {
      "cell_type": "markdown",
      "metadata": {
        "id": "v5pWEzEwsi8s"
      },
      "source": [
        "#### Now, using the `pointVisual` function defined in section 3.2, plot the `geopandas` GeoDataFrame using `geoviews`."
      ]
    },
    {
      "cell_type": "code",
      "execution_count": null,
      "metadata": {
        "id": "jTz1bjsNsi8s"
      },
      "outputs": [],
      "source": [
        "allDF['Shot Number'] = allDF['Shot Number'].astype(str)  # Convert shot number to string\n",
        "\n",
        "vdims = []\n",
        "for f in allDF:\n",
        "    if f not in ['geometry']:\n",
        "        vdims.append(f)\n",
        "\n",
        "visual = pointVisual(allDF, vdims = vdims)\n",
        "visual * gv.Polygons(ES_Site1['geometry']).opts(line_color='red', color=None)"
      ]
    },
    {
      "cell_type": "markdown",
      "metadata": {
        "id": "F_fXv7K4si8t"
      },
      "source": [
        "#### Feel free to pan and zoom in to the GEDI shots in yellow."
      ]
    },
    {
      "cell_type": "markdown",
      "metadata": {
        "id": "TmdP7YWzsi8t"
      },
      "source": [
        "### Now let's plot the points in the geodataframe and add a colormap for Canopy Height (m) and Elevation (m)."
      ]
    },
    {
      "cell_type": "code",
      "execution_count": null,
      "metadata": {
        "id": "_MQTV0tKsi8t"
      },
      "outputs": [],
      "source": [
        "# Plot the basemap and geoviews Points, defining the color as the Canopy Height for each shot\n",
        "(gvts.EsriImagery * gv.Points(allDF, vdims=vdims).options(color='Canopy Height (rh100)',cmap='plasma', size=3, tools=['hover'],\n",
        "                                                          clim=(0,102), colorbar=True, clabel='Meters',\n",
        "                                                          title='GEDI Canopy Height over ES_Site1',\n",
        "                                                          fontsize={'xticks': 10, 'yticks': 10, 'xlabel':16, 'clabel':12,\n",
        "                                                                    'cticks':10,'title':16,'ylabel':16})).options(height=500,\n",
        "                                                                                                                  width=900)"
      ]
    },
    {
      "cell_type": "markdown",
      "metadata": {
        "id": "eeEiDQbZsi8u"
      },
      "source": [
        "#### Above and in the screenshot below, notice the higher canopy heights (shades of yellow) over the Redwood stands of the national park vs. other types of forests (pink-blue) vs. the low-lying (and consequently flat) profiles over lakes and rivers (purple).\n",
        "![GEDI_L2A_V2_Tutorial_3.png](../../img/GEDI_L2A_V2_Tutorial_3.png \"GEDI Canopy Height over Redwood National Park: June 19, 2019.\")"
      ]
    },
    {
      "cell_type": "markdown",
      "metadata": {
        "id": "NiKd_Nhhsi8v"
      },
      "source": [
        "#### Next, take a look at the GEDI-derived elevation over the shots. Notice below that the colormap is changed to 'terrain'."
      ]
    },
    {
      "cell_type": "code",
      "execution_count": null,
      "metadata": {
        "id": "UJ174SfHsi8w"
      },
      "outputs": [],
      "source": [
        "(gvts.EsriImagery * gv.Points(allDF, vdims=vdims).options(color='Elevation (m)',cmap='terrain', size=3, tools=['hover'],\n",
        "                                                          clim=(min(allDF['Elevation (m)']), max(allDF['Elevation (m)'])),\n",
        "                                                          colorbar=True, clabel='Meters',\n",
        "                                                          title='GEDI Elevation over ES_Site1',\n",
        "                                                          fontsize={'xticks': 10, 'yticks': 10, 'xlabel':16, 'clabel':12,\n",
        "                                                                    'cticks':10,'title':16,'ylabel':16})).options(height=500,\n",
        "                                                                                                                  width=900)"
      ]
    },
    {
      "cell_type": "markdown",
      "metadata": {
        "id": "OU1OP2UHsi8x"
      },
      "source": [
        "### Success! You have now learned how to start working with Version 2 GEDI L2A files in Python as well as some interesting strategies for visualizing those data in order to better understand your specific region of interest. Using this Jupyter Notebook as a workflow, you should now be able to switch to GEDI files over your specific region of interest and re-run the notebook. Good Luck!"
      ]
    },
    {
      "cell_type": "markdown",
      "metadata": {
        "id": "L5FeTFYQsi8y"
      },
      "source": [
        "\n",
        "# 7. Export Subsets as GeoJSON Files<a id=\"exportgeojson\"></a>\n",
        "#### In this section, export the GeoDataFrame as a `.geojson` file that can be easily opened in your favorite remote sensing and/or GIS software and will include an attribute table with all of the shots/values for each of the SDS layers in the dataframe."
      ]
    },
    {
      "cell_type": "code",
      "execution_count": null,
      "metadata": {
        "id": "WqxOmQ6vsi8y"
      },
      "outputs": [],
      "source": [
        "gediL2A.filename  # L2A Filename"
      ]
    },
    {
      "cell_type": "code",
      "execution_count": null,
      "metadata": {
        "id": "wK08JN4Asi8z"
      },
      "outputs": [],
      "source": [
        "outName = gediL2A.filename.replace('.h5', '.json')  # Create an output file name using the input file name\n",
        "outName"
      ]
    },
    {
      "cell_type": "code",
      "execution_count": null,
      "metadata": {
        "id": "99FJYTDOsi80"
      },
      "outputs": [],
      "source": [
        "allDF.to_file(outName, driver='GeoJSON')  # Export to GeoJSON"
      ]
    },
    {
      "cell_type": "code",
      "execution_count": null,
      "metadata": {
        "id": "hhHQYVbssi81"
      },
      "outputs": [],
      "source": [
        "del allDF"
      ]
    },
    {
      "cell_type": "markdown",
      "metadata": {
        "jp-MarkdownHeadingCollapsed": true,
        "tags": [],
        "id": "AgDyz1ZBsi81"
      },
      "source": [
        "\n",
        "## Contact Info:  \n",
        "\n",
        "Email: LPDAAC@usgs.gov  \n",
        "Voice: +1-866-573-3222  \n",
        "Organization: Land Processes Distributed Active Archive Center (LP DAAC)¹  \n",
        "Website: <https://lpdaac.usgs.gov/>  \n",
        "Date last modified: 02-20-2024  \n",
        "\n",
        "¹Work performed under USGS contract G15PD00467 for NASA contract NNG14HH33I.  "
      ]
    }
  ],
  "metadata": {
    "kernelspec": {
      "display_name": "Python 3 (ipykernel)",
      "language": "python",
      "name": "python3"
    },
    "language_info": {
      "codemirror_mode": {
        "name": "ipython",
        "version": 3
      },
      "file_extension": ".py",
      "mimetype": "text/x-python",
      "name": "python",
      "nbconvert_exporter": "python",
      "pygments_lexer": "ipython3",
      "version": "3.10.13"
    },
    "vscode": {
      "interpreter": {
        "hash": "773e8920b96b69f0038fc25099aed93d84078ac31d8a66ff407e7034dd86aa0a"
      }
    },
    "colab": {
      "provenance": [],
      "include_colab_link": true
    },
    "widgets": {
      "application/vnd.jupyter.widget-state+json": {
        "a38ef1adc6a34a63bb08b5e8f4c9df46": {
          "model_module": "@jupyter-widgets/controls",
          "model_name": "HBoxModel",
          "model_module_version": "1.5.0",
          "state": {
            "_dom_classes": [],
            "_model_module": "@jupyter-widgets/controls",
            "_model_module_version": "1.5.0",
            "_model_name": "HBoxModel",
            "_view_count": null,
            "_view_module": "@jupyter-widgets/controls",
            "_view_module_version": "1.5.0",
            "_view_name": "HBoxView",
            "box_style": "",
            "children": [
              "IPY_MODEL_2a46713690914d8bbb992aa5d71b923e",
              "IPY_MODEL_e610042dc18a439db7d5a7b56d536d58",
              "IPY_MODEL_9fc7079c1ae14b91b4d1434e985ea5f1"
            ],
            "layout": "IPY_MODEL_708ed8cca2b8440ba20b2c0fad0cce43"
          }
        },
        "2a46713690914d8bbb992aa5d71b923e": {
          "model_module": "@jupyter-widgets/controls",
          "model_name": "HTMLModel",
          "model_module_version": "1.5.0",
          "state": {
            "_dom_classes": [],
            "_model_module": "@jupyter-widgets/controls",
            "_model_module_version": "1.5.0",
            "_model_name": "HTMLModel",
            "_view_count": null,
            "_view_module": "@jupyter-widgets/controls",
            "_view_module_version": "1.5.0",
            "_view_name": "HTMLView",
            "description": "",
            "description_tooltip": null,
            "layout": "IPY_MODEL_8226a539bccc4ba2b329474dea74fa1f",
            "placeholder": "​",
            "style": "IPY_MODEL_8220a79042df41218741a78c643cbef8",
            "value": "QUEUEING TASKS | : 100%"
          }
        },
        "e610042dc18a439db7d5a7b56d536d58": {
          "model_module": "@jupyter-widgets/controls",
          "model_name": "FloatProgressModel",
          "model_module_version": "1.5.0",
          "state": {
            "_dom_classes": [],
            "_model_module": "@jupyter-widgets/controls",
            "_model_module_version": "1.5.0",
            "_model_name": "FloatProgressModel",
            "_view_count": null,
            "_view_module": "@jupyter-widgets/controls",
            "_view_module_version": "1.5.0",
            "_view_name": "ProgressView",
            "bar_style": "success",
            "description": "",
            "description_tooltip": null,
            "layout": "IPY_MODEL_a592f8c3d8854ec2b59c1b6b2a1fc655",
            "max": 19,
            "min": 0,
            "orientation": "horizontal",
            "style": "IPY_MODEL_5402754dfbdb418798fd5294c7dbe218",
            "value": 19
          }
        },
        "9fc7079c1ae14b91b4d1434e985ea5f1": {
          "model_module": "@jupyter-widgets/controls",
          "model_name": "HTMLModel",
          "model_module_version": "1.5.0",
          "state": {
            "_dom_classes": [],
            "_model_module": "@jupyter-widgets/controls",
            "_model_module_version": "1.5.0",
            "_model_name": "HTMLModel",
            "_view_count": null,
            "_view_module": "@jupyter-widgets/controls",
            "_view_module_version": "1.5.0",
            "_view_name": "HTMLView",
            "description": "",
            "description_tooltip": null,
            "layout": "IPY_MODEL_247b198c375541169c733063bd73c6c1",
            "placeholder": "​",
            "style": "IPY_MODEL_8d88246b298c40f1b98fe492c0866f07",
            "value": " 19/19 [00:00&lt;00:00, 526.93it/s]"
          }
        },
        "708ed8cca2b8440ba20b2c0fad0cce43": {
          "model_module": "@jupyter-widgets/base",
          "model_name": "LayoutModel",
          "model_module_version": "1.2.0",
          "state": {
            "_model_module": "@jupyter-widgets/base",
            "_model_module_version": "1.2.0",
            "_model_name": "LayoutModel",
            "_view_count": null,
            "_view_module": "@jupyter-widgets/base",
            "_view_module_version": "1.2.0",
            "_view_name": "LayoutView",
            "align_content": null,
            "align_items": null,
            "align_self": null,
            "border": null,
            "bottom": null,
            "display": null,
            "flex": null,
            "flex_flow": null,
            "grid_area": null,
            "grid_auto_columns": null,
            "grid_auto_flow": null,
            "grid_auto_rows": null,
            "grid_column": null,
            "grid_gap": null,
            "grid_row": null,
            "grid_template_areas": null,
            "grid_template_columns": null,
            "grid_template_rows": null,
            "height": null,
            "justify_content": null,
            "justify_items": null,
            "left": null,
            "margin": null,
            "max_height": null,
            "max_width": null,
            "min_height": null,
            "min_width": null,
            "object_fit": null,
            "object_position": null,
            "order": null,
            "overflow": null,
            "overflow_x": null,
            "overflow_y": null,
            "padding": null,
            "right": null,
            "top": null,
            "visibility": null,
            "width": null
          }
        },
        "8226a539bccc4ba2b329474dea74fa1f": {
          "model_module": "@jupyter-widgets/base",
          "model_name": "LayoutModel",
          "model_module_version": "1.2.0",
          "state": {
            "_model_module": "@jupyter-widgets/base",
            "_model_module_version": "1.2.0",
            "_model_name": "LayoutModel",
            "_view_count": null,
            "_view_module": "@jupyter-widgets/base",
            "_view_module_version": "1.2.0",
            "_view_name": "LayoutView",
            "align_content": null,
            "align_items": null,
            "align_self": null,
            "border": null,
            "bottom": null,
            "display": null,
            "flex": null,
            "flex_flow": null,
            "grid_area": null,
            "grid_auto_columns": null,
            "grid_auto_flow": null,
            "grid_auto_rows": null,
            "grid_column": null,
            "grid_gap": null,
            "grid_row": null,
            "grid_template_areas": null,
            "grid_template_columns": null,
            "grid_template_rows": null,
            "height": null,
            "justify_content": null,
            "justify_items": null,
            "left": null,
            "margin": null,
            "max_height": null,
            "max_width": null,
            "min_height": null,
            "min_width": null,
            "object_fit": null,
            "object_position": null,
            "order": null,
            "overflow": null,
            "overflow_x": null,
            "overflow_y": null,
            "padding": null,
            "right": null,
            "top": null,
            "visibility": null,
            "width": null
          }
        },
        "8220a79042df41218741a78c643cbef8": {
          "model_module": "@jupyter-widgets/controls",
          "model_name": "DescriptionStyleModel",
          "model_module_version": "1.5.0",
          "state": {
            "_model_module": "@jupyter-widgets/controls",
            "_model_module_version": "1.5.0",
            "_model_name": "DescriptionStyleModel",
            "_view_count": null,
            "_view_module": "@jupyter-widgets/base",
            "_view_module_version": "1.2.0",
            "_view_name": "StyleView",
            "description_width": ""
          }
        },
        "a592f8c3d8854ec2b59c1b6b2a1fc655": {
          "model_module": "@jupyter-widgets/base",
          "model_name": "LayoutModel",
          "model_module_version": "1.2.0",
          "state": {
            "_model_module": "@jupyter-widgets/base",
            "_model_module_version": "1.2.0",
            "_model_name": "LayoutModel",
            "_view_count": null,
            "_view_module": "@jupyter-widgets/base",
            "_view_module_version": "1.2.0",
            "_view_name": "LayoutView",
            "align_content": null,
            "align_items": null,
            "align_self": null,
            "border": null,
            "bottom": null,
            "display": null,
            "flex": null,
            "flex_flow": null,
            "grid_area": null,
            "grid_auto_columns": null,
            "grid_auto_flow": null,
            "grid_auto_rows": null,
            "grid_column": null,
            "grid_gap": null,
            "grid_row": null,
            "grid_template_areas": null,
            "grid_template_columns": null,
            "grid_template_rows": null,
            "height": null,
            "justify_content": null,
            "justify_items": null,
            "left": null,
            "margin": null,
            "max_height": null,
            "max_width": null,
            "min_height": null,
            "min_width": null,
            "object_fit": null,
            "object_position": null,
            "order": null,
            "overflow": null,
            "overflow_x": null,
            "overflow_y": null,
            "padding": null,
            "right": null,
            "top": null,
            "visibility": null,
            "width": null
          }
        },
        "5402754dfbdb418798fd5294c7dbe218": {
          "model_module": "@jupyter-widgets/controls",
          "model_name": "ProgressStyleModel",
          "model_module_version": "1.5.0",
          "state": {
            "_model_module": "@jupyter-widgets/controls",
            "_model_module_version": "1.5.0",
            "_model_name": "ProgressStyleModel",
            "_view_count": null,
            "_view_module": "@jupyter-widgets/base",
            "_view_module_version": "1.2.0",
            "_view_name": "StyleView",
            "bar_color": null,
            "description_width": ""
          }
        },
        "247b198c375541169c733063bd73c6c1": {
          "model_module": "@jupyter-widgets/base",
          "model_name": "LayoutModel",
          "model_module_version": "1.2.0",
          "state": {
            "_model_module": "@jupyter-widgets/base",
            "_model_module_version": "1.2.0",
            "_model_name": "LayoutModel",
            "_view_count": null,
            "_view_module": "@jupyter-widgets/base",
            "_view_module_version": "1.2.0",
            "_view_name": "LayoutView",
            "align_content": null,
            "align_items": null,
            "align_self": null,
            "border": null,
            "bottom": null,
            "display": null,
            "flex": null,
            "flex_flow": null,
            "grid_area": null,
            "grid_auto_columns": null,
            "grid_auto_flow": null,
            "grid_auto_rows": null,
            "grid_column": null,
            "grid_gap": null,
            "grid_row": null,
            "grid_template_areas": null,
            "grid_template_columns": null,
            "grid_template_rows": null,
            "height": null,
            "justify_content": null,
            "justify_items": null,
            "left": null,
            "margin": null,
            "max_height": null,
            "max_width": null,
            "min_height": null,
            "min_width": null,
            "object_fit": null,
            "object_position": null,
            "order": null,
            "overflow": null,
            "overflow_x": null,
            "overflow_y": null,
            "padding": null,
            "right": null,
            "top": null,
            "visibility": null,
            "width": null
          }
        },
        "8d88246b298c40f1b98fe492c0866f07": {
          "model_module": "@jupyter-widgets/controls",
          "model_name": "DescriptionStyleModel",
          "model_module_version": "1.5.0",
          "state": {
            "_model_module": "@jupyter-widgets/controls",
            "_model_module_version": "1.5.0",
            "_model_name": "DescriptionStyleModel",
            "_view_count": null,
            "_view_module": "@jupyter-widgets/base",
            "_view_module_version": "1.2.0",
            "_view_name": "StyleView",
            "description_width": ""
          }
        },
        "cf3e2cde0b434e2aa16bed60bb3a5b9a": {
          "model_module": "@jupyter-widgets/controls",
          "model_name": "HBoxModel",
          "model_module_version": "1.5.0",
          "state": {
            "_dom_classes": [],
            "_model_module": "@jupyter-widgets/controls",
            "_model_module_version": "1.5.0",
            "_model_name": "HBoxModel",
            "_view_count": null,
            "_view_module": "@jupyter-widgets/controls",
            "_view_module_version": "1.5.0",
            "_view_name": "HBoxView",
            "box_style": "",
            "children": [
              "IPY_MODEL_1d31b7002ef74401a3c8051f49469358",
              "IPY_MODEL_8632f15674954ba8a54831740d1613ca",
              "IPY_MODEL_77246c0f409647e38db74e120936f3ae"
            ],
            "layout": "IPY_MODEL_e1186c03005748da9c63c3c276ea5110"
          }
        },
        "1d31b7002ef74401a3c8051f49469358": {
          "model_module": "@jupyter-widgets/controls",
          "model_name": "HTMLModel",
          "model_module_version": "1.5.0",
          "state": {
            "_dom_classes": [],
            "_model_module": "@jupyter-widgets/controls",
            "_model_module_version": "1.5.0",
            "_model_name": "HTMLModel",
            "_view_count": null,
            "_view_module": "@jupyter-widgets/controls",
            "_view_module_version": "1.5.0",
            "_view_name": "HTMLView",
            "description": "",
            "description_tooltip": null,
            "layout": "IPY_MODEL_26db9c43ed004bb3b061273d427252eb",
            "placeholder": "​",
            "style": "IPY_MODEL_d621fbb1cd114cf7afd1481c17905ca8",
            "value": "PROCESSING TASKS | :  47%"
          }
        },
        "8632f15674954ba8a54831740d1613ca": {
          "model_module": "@jupyter-widgets/controls",
          "model_name": "FloatProgressModel",
          "model_module_version": "1.5.0",
          "state": {
            "_dom_classes": [],
            "_model_module": "@jupyter-widgets/controls",
            "_model_module_version": "1.5.0",
            "_model_name": "FloatProgressModel",
            "_view_count": null,
            "_view_module": "@jupyter-widgets/controls",
            "_view_module_version": "1.5.0",
            "_view_name": "ProgressView",
            "bar_style": "",
            "description": "",
            "description_tooltip": null,
            "layout": "IPY_MODEL_53c379b3f78f4edb9cc2e047d0827350",
            "max": 19,
            "min": 0,
            "orientation": "horizontal",
            "style": "IPY_MODEL_a940f5d3e3e347aeaef314fd5c627035",
            "value": 9
          }
        },
        "77246c0f409647e38db74e120936f3ae": {
          "model_module": "@jupyter-widgets/controls",
          "model_name": "HTMLModel",
          "model_module_version": "1.5.0",
          "state": {
            "_dom_classes": [],
            "_model_module": "@jupyter-widgets/controls",
            "_model_module_version": "1.5.0",
            "_model_name": "HTMLModel",
            "_view_count": null,
            "_view_module": "@jupyter-widgets/controls",
            "_view_module_version": "1.5.0",
            "_view_name": "HTMLView",
            "description": "",
            "description_tooltip": null,
            "layout": "IPY_MODEL_a8ec2fadc37041febe364e52789d256d",
            "placeholder": "​",
            "style": "IPY_MODEL_333c017d8d7b4a269558f95fd210ab1f",
            "value": " 9/19 [04:04&lt;02:26, 14.62s/it]"
          }
        },
        "e1186c03005748da9c63c3c276ea5110": {
          "model_module": "@jupyter-widgets/base",
          "model_name": "LayoutModel",
          "model_module_version": "1.2.0",
          "state": {
            "_model_module": "@jupyter-widgets/base",
            "_model_module_version": "1.2.0",
            "_model_name": "LayoutModel",
            "_view_count": null,
            "_view_module": "@jupyter-widgets/base",
            "_view_module_version": "1.2.0",
            "_view_name": "LayoutView",
            "align_content": null,
            "align_items": null,
            "align_self": null,
            "border": null,
            "bottom": null,
            "display": null,
            "flex": null,
            "flex_flow": null,
            "grid_area": null,
            "grid_auto_columns": null,
            "grid_auto_flow": null,
            "grid_auto_rows": null,
            "grid_column": null,
            "grid_gap": null,
            "grid_row": null,
            "grid_template_areas": null,
            "grid_template_columns": null,
            "grid_template_rows": null,
            "height": null,
            "justify_content": null,
            "justify_items": null,
            "left": null,
            "margin": null,
            "max_height": null,
            "max_width": null,
            "min_height": null,
            "min_width": null,
            "object_fit": null,
            "object_position": null,
            "order": null,
            "overflow": null,
            "overflow_x": null,
            "overflow_y": null,
            "padding": null,
            "right": null,
            "top": null,
            "visibility": null,
            "width": null
          }
        },
        "26db9c43ed004bb3b061273d427252eb": {
          "model_module": "@jupyter-widgets/base",
          "model_name": "LayoutModel",
          "model_module_version": "1.2.0",
          "state": {
            "_model_module": "@jupyter-widgets/base",
            "_model_module_version": "1.2.0",
            "_model_name": "LayoutModel",
            "_view_count": null,
            "_view_module": "@jupyter-widgets/base",
            "_view_module_version": "1.2.0",
            "_view_name": "LayoutView",
            "align_content": null,
            "align_items": null,
            "align_self": null,
            "border": null,
            "bottom": null,
            "display": null,
            "flex": null,
            "flex_flow": null,
            "grid_area": null,
            "grid_auto_columns": null,
            "grid_auto_flow": null,
            "grid_auto_rows": null,
            "grid_column": null,
            "grid_gap": null,
            "grid_row": null,
            "grid_template_areas": null,
            "grid_template_columns": null,
            "grid_template_rows": null,
            "height": null,
            "justify_content": null,
            "justify_items": null,
            "left": null,
            "margin": null,
            "max_height": null,
            "max_width": null,
            "min_height": null,
            "min_width": null,
            "object_fit": null,
            "object_position": null,
            "order": null,
            "overflow": null,
            "overflow_x": null,
            "overflow_y": null,
            "padding": null,
            "right": null,
            "top": null,
            "visibility": null,
            "width": null
          }
        },
        "d621fbb1cd114cf7afd1481c17905ca8": {
          "model_module": "@jupyter-widgets/controls",
          "model_name": "DescriptionStyleModel",
          "model_module_version": "1.5.0",
          "state": {
            "_model_module": "@jupyter-widgets/controls",
            "_model_module_version": "1.5.0",
            "_model_name": "DescriptionStyleModel",
            "_view_count": null,
            "_view_module": "@jupyter-widgets/base",
            "_view_module_version": "1.2.0",
            "_view_name": "StyleView",
            "description_width": ""
          }
        },
        "53c379b3f78f4edb9cc2e047d0827350": {
          "model_module": "@jupyter-widgets/base",
          "model_name": "LayoutModel",
          "model_module_version": "1.2.0",
          "state": {
            "_model_module": "@jupyter-widgets/base",
            "_model_module_version": "1.2.0",
            "_model_name": "LayoutModel",
            "_view_count": null,
            "_view_module": "@jupyter-widgets/base",
            "_view_module_version": "1.2.0",
            "_view_name": "LayoutView",
            "align_content": null,
            "align_items": null,
            "align_self": null,
            "border": null,
            "bottom": null,
            "display": null,
            "flex": null,
            "flex_flow": null,
            "grid_area": null,
            "grid_auto_columns": null,
            "grid_auto_flow": null,
            "grid_auto_rows": null,
            "grid_column": null,
            "grid_gap": null,
            "grid_row": null,
            "grid_template_areas": null,
            "grid_template_columns": null,
            "grid_template_rows": null,
            "height": null,
            "justify_content": null,
            "justify_items": null,
            "left": null,
            "margin": null,
            "max_height": null,
            "max_width": null,
            "min_height": null,
            "min_width": null,
            "object_fit": null,
            "object_position": null,
            "order": null,
            "overflow": null,
            "overflow_x": null,
            "overflow_y": null,
            "padding": null,
            "right": null,
            "top": null,
            "visibility": null,
            "width": null
          }
        },
        "a940f5d3e3e347aeaef314fd5c627035": {
          "model_module": "@jupyter-widgets/controls",
          "model_name": "ProgressStyleModel",
          "model_module_version": "1.5.0",
          "state": {
            "_model_module": "@jupyter-widgets/controls",
            "_model_module_version": "1.5.0",
            "_model_name": "ProgressStyleModel",
            "_view_count": null,
            "_view_module": "@jupyter-widgets/base",
            "_view_module_version": "1.2.0",
            "_view_name": "StyleView",
            "bar_color": null,
            "description_width": ""
          }
        },
        "a8ec2fadc37041febe364e52789d256d": {
          "model_module": "@jupyter-widgets/base",
          "model_name": "LayoutModel",
          "model_module_version": "1.2.0",
          "state": {
            "_model_module": "@jupyter-widgets/base",
            "_model_module_version": "1.2.0",
            "_model_name": "LayoutModel",
            "_view_count": null,
            "_view_module": "@jupyter-widgets/base",
            "_view_module_version": "1.2.0",
            "_view_name": "LayoutView",
            "align_content": null,
            "align_items": null,
            "align_self": null,
            "border": null,
            "bottom": null,
            "display": null,
            "flex": null,
            "flex_flow": null,
            "grid_area": null,
            "grid_auto_columns": null,
            "grid_auto_flow": null,
            "grid_auto_rows": null,
            "grid_column": null,
            "grid_gap": null,
            "grid_row": null,
            "grid_template_areas": null,
            "grid_template_columns": null,
            "grid_template_rows": null,
            "height": null,
            "justify_content": null,
            "justify_items": null,
            "left": null,
            "margin": null,
            "max_height": null,
            "max_width": null,
            "min_height": null,
            "min_width": null,
            "object_fit": null,
            "object_position": null,
            "order": null,
            "overflow": null,
            "overflow_x": null,
            "overflow_y": null,
            "padding": null,
            "right": null,
            "top": null,
            "visibility": null,
            "width": null
          }
        },
        "333c017d8d7b4a269558f95fd210ab1f": {
          "model_module": "@jupyter-widgets/controls",
          "model_name": "DescriptionStyleModel",
          "model_module_version": "1.5.0",
          "state": {
            "_model_module": "@jupyter-widgets/controls",
            "_model_module_version": "1.5.0",
            "_model_name": "DescriptionStyleModel",
            "_view_count": null,
            "_view_module": "@jupyter-widgets/base",
            "_view_module_version": "1.2.0",
            "_view_name": "StyleView",
            "description_width": ""
          }
        }
      }
    }
  },
  "nbformat": 4,
  "nbformat_minor": 0
}